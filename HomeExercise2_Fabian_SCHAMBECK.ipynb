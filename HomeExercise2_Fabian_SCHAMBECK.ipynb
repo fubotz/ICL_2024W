{
  "nbformat": 4,
  "nbformat_minor": 0,
  "metadata": {
    "colab": {
      "provenance": [],
      "toc_visible": true,
      "include_colab_link": true
    },
    "kernelspec": {
      "name": "python3",
      "display_name": "Python 3"
    }
  },
  "cells": [
    {
      "cell_type": "markdown",
      "metadata": {
        "id": "view-in-github",
        "colab_type": "text"
      },
      "source": [
        "<a href=\"https://colab.research.google.com/github/fubotz/cl_intro_ws2024/blob/main/HomeExercise2_Fabian_SCHAMBECK.ipynb\" target=\"_parent\"><img src=\"https://colab.research.google.com/assets/colab-badge.svg\" alt=\"Open In Colab\"/></a>"
      ]
    },
    {
      "cell_type": "markdown",
      "source": [
        "# Home Exericse 2: Word Embeddings\n",
        "In this second home exercise, you will use the knowledge from Tutorial 3 to perform a more systematic evaluation of embeddings based on a small analogy dataset.\n",
        "\n",
        "In this notebook, please complete all instructions starting with 👋 ⚒ in the code cell after the sign or provide your analysis in the text cell after the sign."
      ],
      "metadata": {
        "id": "N4_fSCGEAFZ3"
      }
    },
    {
      "cell_type": "markdown",
      "source": [
        "## **Word2Vec Analogy-based Evaluation**"
      ],
      "metadata": {
        "id": "vnXNn2eL1jnF"
      }
    },
    {
      "cell_type": "markdown",
      "source": [
        "We first need to load the pretrained embeddings and the dataset. The dataset can be found on [GitHub](https://github.com/dgromann/cl_intro_ws2024/blob/main/exercises/HomeExercise2.txt) and will be loaded directly from there."
      ],
      "metadata": {
        "id": "YHR4hkXKvd87"
      }
    },
    {
      "cell_type": "code",
      "source": [
        "!wget https://github.com/dgromann/cl_intro_ws2024/raw/main/word2vec_embeddings.bin\n",
        "!wget !wget https://raw.githubusercontent.com/dgromann/cl_intro_ws2024/master/exercises/HomeExercise2.txt"
      ],
      "metadata": {
        "id": "kxwz_cPyW4lG",
        "colab": {
          "base_uri": "https://localhost:8080/"
        },
        "outputId": "813496bf-fc82-4889-c596-a0f1d8f6e2d6"
      },
      "execution_count": 81,
      "outputs": [
        {
          "output_type": "stream",
          "name": "stdout",
          "text": [
            "--2024-11-25 20:15:29--  https://github.com/dgromann/cl_intro_ws2024/raw/main/word2vec_embeddings.bin\n",
            "Resolving github.com (github.com)... 140.82.113.4\n",
            "Connecting to github.com (github.com)|140.82.113.4|:443... connected.\n",
            "HTTP request sent, awaiting response... 302 Found\n",
            "Location: https://raw.githubusercontent.com/dgromann/cl_intro_ws2024/main/word2vec_embeddings.bin [following]\n",
            "--2024-11-25 20:15:29--  https://raw.githubusercontent.com/dgromann/cl_intro_ws2024/main/word2vec_embeddings.bin\n",
            "Resolving raw.githubusercontent.com (raw.githubusercontent.com)... 185.199.108.133, 185.199.109.133, 185.199.110.133, ...\n",
            "Connecting to raw.githubusercontent.com (raw.githubusercontent.com)|185.199.108.133|:443... connected.\n",
            "HTTP request sent, awaiting response... 200 OK\n",
            "Length: 96769269 (92M) [application/octet-stream]\n",
            "Saving to: ‘word2vec_embeddings.bin.1’\n",
            "\n",
            "word2vec_embeddings 100%[===================>]  92.29M   185MB/s    in 0.5s    \n",
            "\n",
            "2024-11-25 20:15:32 (185 MB/s) - ‘word2vec_embeddings.bin.1’ saved [96769269/96769269]\n",
            "\n",
            "--2024-11-25 20:15:32--  http://!wget/\n",
            "Resolving !wget (!wget)... failed: Name or service not known.\n",
            "wget: unable to resolve host address ‘!wget’\n",
            "--2024-11-25 20:15:32--  https://raw.githubusercontent.com/dgromann/cl_intro_ws2024/master/exercises/HomeExercise2.txt\n",
            "Resolving raw.githubusercontent.com (raw.githubusercontent.com)... 185.199.108.133, 185.199.109.133, 185.199.110.133, ...\n",
            "Connecting to raw.githubusercontent.com (raw.githubusercontent.com)|185.199.108.133|:443... connected.\n",
            "HTTP request sent, awaiting response... 200 OK\n",
            "Length: 272272 (266K) [text/plain]\n",
            "Saving to: ‘HomeExercise2.txt.1’\n",
            "\n",
            "HomeExercise2.txt.1 100%[===================>] 265.89K  --.-KB/s    in 0.03s   \n",
            "\n",
            "2024-11-25 20:15:32 (8.01 MB/s) - ‘HomeExercise2.txt.1’ saved [272272/272272]\n",
            "\n",
            "FINISHED --2024-11-25 20:15:32--\n",
            "Total wall clock time: 0.2s\n",
            "Downloaded: 1 files, 266K in 0.03s (8.01 MB/s)\n"
          ]
        }
      ]
    },
    {
      "cell_type": "markdown",
      "source": [
        "Then we need to load the model with gensim so that we can access the embeddings."
      ],
      "metadata": {
        "id": "If_-whLgv9kH"
      }
    },
    {
      "cell_type": "code",
      "source": [
        "import gensim\n",
        "\n",
        "word2vec_model = gensim.models.KeyedVectors.load_word2vec_format(\"word2vec_embeddings.bin\", binary=True)     # load pre-trained Word2Vec embeddings in binary format --> .bin == binary encoded file"
      ],
      "metadata": {
        "id": "1z4TAwF0v-8x"
      },
      "execution_count": 82,
      "outputs": []
    },
    {
      "cell_type": "markdown",
      "source": [
        "And we need to open the HomeExercise2.txt file that contains analogy pairs."
      ],
      "metadata": {
        "id": "88Q9RW2ZwHkz"
      }
    },
    {
      "cell_type": "code",
      "source": [
        "analogy = open(\"HomeExercise2.txt\", \"r\")\n",
        "analogy_lines = analogy.readlines()     # .readlines() method used to read lines and return them as list of strings; each string represents a line from file\n",
        "\n",
        "\n",
        "# NB: anology:\n",
        "# A : B :: C : D"
      ],
      "metadata": {
        "id": "saqImWrswKYJ"
      },
      "execution_count": 83,
      "outputs": []
    },
    {
      "cell_type": "markdown",
      "source": [
        "To look at the first few lines, the following code can be used. The analogies are grouped by categories that is indicated on the line before the anlogies are listed with a colon :. The last and fourth element of the line represents the true result we will use to evaluate the embedding model."
      ],
      "metadata": {
        "id": "X8fwdQjOxDR1"
      }
    },
    {
      "cell_type": "code",
      "source": [
        "line_no = 0\n",
        "for line in analogy_lines:\n",
        "    line_no += 1\n",
        "    print(f\"Line number {line_no} with analogy {line}\")\n",
        "    if line_no == 5:\n",
        "        break"
      ],
      "metadata": {
        "id": "yKHVQpGbxGc7",
        "outputId": "07ba2fb9-5cec-4f77-942d-566c4b60fc57",
        "colab": {
          "base_uri": "https://localhost:8080/"
        }
      },
      "execution_count": 84,
      "outputs": [
        {
          "output_type": "stream",
          "name": "stdout",
          "text": [
            "Line number 1 with analogy : capital-common-countries\n",
            "\n",
            "Line number 2 with analogy Athens Greece Baghdad Iraq\n",
            "\n",
            "Line number 3 with analogy Athens Greece Berlin Germany\n",
            "\n",
            "Line number 4 with analogy Athens Greece Cairo Egypt\n",
            "\n",
            "Line number 5 with analogy Athens Greece Canberra Australia\n",
            "\n"
          ]
        }
      ]
    },
    {
      "cell_type": "markdown",
      "source": [
        "👋 ⚒ Systematically evaluate this simple word embedding model based on the entire analogy dataset. To do this:\n",
        "\n",
        "\n",
        "*   Use the analogy function from Tutorial 3 to obtain 'd'\n",
        "*   Compare 'd' with the true result from the `HomeExercise2.txt` file\n",
        "*   Calculate the accuracy for all analogies (how many times out of all attempts did the embedding model provide the correct result)\n",
        "*   Calculate the accuracy for each analogy category separately\n",
        "\n",
        "When parsing the file, pay attention to the lines indicated with the colon : that represent the analogy categories and not analogies.\n"
      ],
      "metadata": {
        "id": "a3xklUvEXbd1"
      }
    },
    {
      "cell_type": "code",
      "source": [
        "# Your code here:\n",
        "# Example: Athens is to Greece as Baghdad is to ?\n",
        "# True result from file: Iraq\n",
        "# Model result: also Iraq?\n",
        "\n",
        "\n",
        "def analogy(model, a, b, c):        # refactored: added model as parameter; added Error Handling if Key not present in model\n",
        "    try:\n",
        "        result = model.most_similar(positive=[b, c], negative=[a], topn=1)      # calculate the analogy: b - a + c = d\n",
        "        return result[0][0]\n",
        "    except KeyError:\n",
        "        return None     # return None if any of the words are not in the vocabulary\n",
        "\n",
        "\n",
        "def run_analysis(model, model_name):        # refactored: added function with parameters model, model_name\n",
        "    # Initialize variables to track accuracy of prediction\n",
        "    total_attempts = 0      # tracks total number of analogies attempted\n",
        "    total_correct = 0       # total number of correctly predicted analogies\n",
        "    category_attempts = {}      # dict to track total number of attempts for each category\n",
        "    category_correct = {}       # dict to track total number of correct predictions for each category\n",
        "\n",
        "    with open(\"HomeExercise2.txt\", \"r\") as file:\n",
        "        current_category = None     # track current analogy category\n",
        "\n",
        "        for line in file:\n",
        "            line = line.strip()\n",
        "\n",
        "            # Check if the line is a category header\n",
        "            if line.startswith(\":\"):\n",
        "                current_category = line[1:].strip()     # extract category name without colon at index [0]\n",
        "                # Initialize counters for the new category\n",
        "                category_attempts[current_category] = 0\n",
        "                category_correct[current_category] = 0\n",
        "\n",
        "            else:\n",
        "                # Split the other lines into sperate strings (a, b, c, d_true)\n",
        "                words = line.split()\n",
        "\n",
        "                if model_name == \"GloVe\":       # refactored: added lowercase for GloVe model (only)\n",
        "                    words = [word.lower() for word in words]\n",
        "\n",
        "                if len(words) == 4:     # if number of words per line == 4\n",
        "                    a, b, c, d_true = words     # assign a, b, c, d_true respectively to each word in that line\n",
        "\n",
        "                    # Use the analogy function to get the predicted result\n",
        "                    predicted_d = analogy(model, a, b, c)\n",
        "\n",
        "                    # Update overall counts\n",
        "                    if predicted_d is not None:     # refactored: only if the prediction was made (word was found in vocabulary of the model)\n",
        "                        total_attempts += 1\n",
        "                        category_attempts[current_category] += 1\n",
        "\n",
        "                        if predicted_d == d_true:\n",
        "                            total_correct += 1\n",
        "                            category_correct[current_category] += 1\n",
        "\n",
        "    # Calculate and print overall accuracy\n",
        "    overall_accuracy = total_correct / total_attempts if total_attempts > 0 else 0      # if-statement avoids division by 0\n",
        "    print(f\"Overall accuracy of the {model_name} model: {overall_accuracy:.2f}\")\n",
        "\n",
        "    # Calculate and print category-specific accuracies\n",
        "    for category, attempts in category_attempts.items():        # category_attempts: dict{category_name : number_of_attempts}\n",
        "        correct = category_correct[category]\n",
        "        accuracy = correct / attempts if attempts > 0 else 0\n",
        "        print(f\"Accuracy for {category} ({model_name} model): {accuracy:.2f}\")\n",
        "\n",
        "\n",
        "run_analysis(word2vec_model, \"Word2Vec\")"
      ],
      "metadata": {
        "id": "knGLoU0kXaZb",
        "colab": {
          "base_uri": "https://localhost:8080/"
        },
        "outputId": "c18b7ff1-f14f-4857-c9b8-a56bc52ffc5e"
      },
      "execution_count": 85,
      "outputs": [
        {
          "output_type": "stream",
          "name": "stdout",
          "text": [
            "Overall accuracy of the Word2Vec model: 0.75\n",
            "Accuracy for capital-common-countries (Word2Vec model): 0.87\n",
            "Accuracy for capital-world (Word2Vec model): 0.90\n",
            "Accuracy for currency (Word2Vec model): 0.00\n",
            "Accuracy for city-in-state (Word2Vec model): 0.79\n",
            "Accuracy for family (Word2Vec model): 0.93\n",
            "Accuracy for gram1-adjective-to-adverb (Word2Vec model): 0.30\n",
            "Accuracy for gram2-opposite (Word2Vec model): 0.54\n",
            "Accuracy for gram3-comparative (Word2Vec model): 0.91\n",
            "Accuracy for gram4-superlative (Word2Vec model): 0.88\n",
            "Accuracy for gram5-present-participle (Word2Vec model): 0.78\n",
            "Accuracy for gram6-nationality-adjective (Word2Vec model): 0.96\n",
            "Accuracy for gram7-past-tense (Word2Vec model): 0.69\n",
            "Accuracy for gram8-plural (Word2Vec model): 0.87\n",
            "Accuracy for gram9-plural-verbs (Word2Vec model): 0.68\n"
          ]
        }
      ]
    },
    {
      "cell_type": "code",
      "source": [
        "print(analogy(word2vec_model, \"Athens\", \"Greece\", \"Baghdad\"))       # Greece(b) - Athens(a) + Baghdad(c) = Iraq(d); outputs d == \"Iraqi\" because analogy relies on word embeddings from pre-trained model; uppercase!\n",
        "print(analogy(word2vec_model, \"mother\", \"father\", \"aunt\"))       # father(b) - mother(a) + aunt(c) = uncle(d)"
      ],
      "metadata": {
        "colab": {
          "base_uri": "https://localhost:8080/"
        },
        "id": "gbRAUvs80Z65",
        "outputId": "41ae314e-2f56-4d78-a27f-88ad4ce5a2eb"
      },
      "execution_count": 86,
      "outputs": [
        {
          "output_type": "stream",
          "name": "stdout",
          "text": [
            "Iraqi\n",
            "uncle\n"
          ]
        }
      ]
    },
    {
      "cell_type": "markdown",
      "source": [
        "## **Evaluation Word2Vec:**\n",
        "\n",
        "The results show that the model achieved an overall accuracy of 75%, meaning it correctly resolved three-quarters of the analogies. Categories with particularly high accuracy rates which stand out due to their high performance include \"capital-world\", \"family\" and \"gram6-nationality-adjective\". The Word2Vec model is case-sensitive; here it is important to enter proper names with an initial uppercase letter."
      ],
      "metadata": {
        "id": "AYD1hMjV35s5"
      }
    },
    {
      "cell_type": "markdown",
      "source": [
        "## **Comparison: GloVe Analogy-based Evaluation**"
      ],
      "metadata": {
        "id": "bM-lxrQV15lF"
      }
    },
    {
      "cell_type": "markdown",
      "source": [
        "The next step will consist of comparing this very small word2vec embedding model with a different small but more powerfull model available in gensim.\n",
        "\n",
        "All models and corpora available in gensim can be found [here](https://github.com/piskvorky/gensim-data).\n",
        "\n",
        "Since this model is considerably bigger than the tiny word2vec model, it takes some time to load when you run the following code cell."
      ],
      "metadata": {
        "id": "KN5pGa7JzT9T"
      }
    },
    {
      "cell_type": "code",
      "source": [
        "import gensim.downloader as api\n",
        "from gensim.models import KeyedVectors\n",
        "\n",
        "glove_model = api.load(\"glove-wiki-gigaword-100\")       # Question: Why as api?\n",
        "print(type(glove_model))"
      ],
      "metadata": {
        "id": "noalz14AzkQR",
        "colab": {
          "base_uri": "https://localhost:8080/"
        },
        "outputId": "8e7dc1f8-32a5-4e6b-f36c-765c6c8006a1"
      },
      "execution_count": 87,
      "outputs": [
        {
          "output_type": "stream",
          "name": "stdout",
          "text": [
            "<class 'gensim.models.keyedvectors.KeyedVectors'>\n"
          ]
        }
      ]
    },
    {
      "cell_type": "markdown",
      "source": [
        "The model can then be used exactly the same as the word2vec model, since gensim standardizes model access."
      ],
      "metadata": {
        "id": "kEWEOytj0hrC"
      }
    },
    {
      "cell_type": "code",
      "source": [
        "glove_model[\"bread\"]\n",
        "\n",
        "\n",
        "# NB:\n",
        "# print(len(model_glove[\"bread\"]))      # output: 100"
      ],
      "metadata": {
        "id": "NmyLiSoF0s0e",
        "colab": {
          "base_uri": "https://localhost:8080/"
        },
        "outputId": "9e2264c5-2c7f-4951-95ed-bcedd631145d"
      },
      "execution_count": 88,
      "outputs": [
        {
          "output_type": "execute_result",
          "data": {
            "text/plain": [
              "array([-0.66146  ,  0.94335  , -0.72214  ,  0.17403  , -0.42524  ,\n",
              "        0.36303  ,  1.0135   , -0.14802  ,  0.25817  , -0.20326  ,\n",
              "       -0.64338  ,  0.16632  ,  0.61518  ,  1.397    , -0.094506 ,\n",
              "        0.0041843, -0.18976  , -0.55421  , -0.39371  , -0.22501  ,\n",
              "       -0.34643  ,  0.32076  ,  0.34395  , -0.7034   ,  0.23932  ,\n",
              "        0.69951  , -0.16461  , -0.31819  , -0.34034  , -0.44906  ,\n",
              "       -0.069667 ,  0.35348  ,  0.17498  , -0.95057  , -0.2209   ,\n",
              "        1.0647   ,  0.23231  ,  0.32569  ,  0.47662  , -1.1206   ,\n",
              "        0.28168  , -0.75172  , -0.54654  , -0.66337  ,  0.34804  ,\n",
              "       -0.69058  , -0.77092  , -0.40167  , -0.069351 , -0.049238 ,\n",
              "       -0.39351  ,  0.16735  , -0.14512  ,  1.0083   , -1.0608   ,\n",
              "       -0.87314  , -0.29339  ,  0.68278  ,  0.61634  , -0.088844 ,\n",
              "        0.88094  ,  0.099809 , -0.27161  , -0.58026  ,  0.50364  ,\n",
              "       -0.93814  ,  0.67576  , -0.43124  , -0.10517  , -1.2404   ,\n",
              "       -0.74353  ,  0.28637  ,  0.29012  ,  0.89377  ,  0.67406  ,\n",
              "        0.86422  , -0.30693  , -0.14718  ,  0.078353 ,  0.74013  ,\n",
              "        0.32658  , -0.052579 , -1.1665   ,  0.87079  , -0.69402  ,\n",
              "       -0.75977  , -0.37164  , -0.11887  ,  0.18551  ,  0.041883 ,\n",
              "        0.59352  ,  0.30519  , -0.54819  , -0.29424  , -1.4912   ,\n",
              "       -1.6548   ,  0.98982  ,  0.27325  ,  1.009    ,  0.94544  ],\n",
              "      dtype=float32)"
            ]
          },
          "metadata": {},
          "execution_count": 88
        }
      ]
    },
    {
      "cell_type": "markdown",
      "source": [
        "👋 ⚒  Run the same systematic analysis for this gensim model as for the word2vec model above. Which model performs better overall and in specific categories?"
      ],
      "metadata": {
        "id": "N-eMSsyO1PMZ"
      }
    },
    {
      "cell_type": "code",
      "source": [
        "# Your code here:\n",
        "\n",
        "run_analysis(glove_model, \"GloVe\")"
      ],
      "metadata": {
        "id": "dZk0eA3B1ZSV",
        "colab": {
          "base_uri": "https://localhost:8080/"
        },
        "outputId": "c560fd13-7436-4945-86dc-8cb9b3399bf1"
      },
      "execution_count": 89,
      "outputs": [
        {
          "output_type": "stream",
          "name": "stdout",
          "text": [
            "Overall accuracy of the GloVe model: 0.62\n",
            "Accuracy for capital-common-countries (GloVe model): 0.91\n",
            "Accuracy for capital-world (GloVe model): 0.94\n",
            "Accuracy for currency (GloVe model): 0.00\n",
            "Accuracy for city-in-state (GloVe model): 0.31\n",
            "Accuracy for family (GloVe model): 0.90\n",
            "Accuracy for gram1-adjective-to-adverb (GloVe model): 0.25\n",
            "Accuracy for gram2-opposite (GloVe model): 0.25\n",
            "Accuracy for gram3-comparative (GloVe model): 0.79\n",
            "Accuracy for gram4-superlative (GloVe model): 0.62\n",
            "Accuracy for gram5-present-participle (GloVe model): 0.70\n",
            "Accuracy for gram6-nationality-adjective (GloVe model): 0.98\n",
            "Accuracy for gram7-past-tense (GloVe model): 0.58\n",
            "Accuracy for gram8-plural (GloVe model): 0.83\n",
            "Accuracy for gram9-plural-verbs (GloVe model): 0.56\n"
          ]
        }
      ]
    },
    {
      "cell_type": "code",
      "source": [
        "print(analogy(glove_model, \"athens\", \"greece\", \"baghdad\"))       # greece(b) - athens(a) + baghdad(c) = iraq(d); lowercase!\n",
        "print(analogy(glove_model, \"mother\", \"father\", \"aunt\"))       # father(b) - mother(a) + aunt(c) = uncle(d)"
      ],
      "metadata": {
        "colab": {
          "base_uri": "https://localhost:8080/"
        },
        "id": "C5kuCSfK0s-R",
        "outputId": "0083fc48-9455-4600-e280-c0c217d1e50c"
      },
      "execution_count": 90,
      "outputs": [
        {
          "output_type": "stream",
          "name": "stdout",
          "text": [
            "iraq\n",
            "uncle\n"
          ]
        }
      ]
    },
    {
      "cell_type": "markdown",
      "source": [
        "## **Evaluation GloVe:**\n",
        "\n",
        "The results show that the overall performance of the GloVe model (0.62%) is\n",
        "worse compared to the Word2Vec model (0.75%). Additionally, Word2Vec outperformed GloVe in 10 out of 14 categories. GloVe only performed better in three categories: capital-common-countries, capital-world and Gram6-nationality-adjective. For the GloVe model, it is important to enter everyting in lowercase."
      ],
      "metadata": {
        "id": "HIujndTM1caI"
      }
    },
    {
      "cell_type": "markdown",
      "source": [
        "## **Visual Comparison**\n",
        "\n",
        "As a final step, use the visualization from Tutorial 3 to visually output the two models based on the following words."
      ],
      "metadata": {
        "id": "r1b7CPN-2Clq"
      }
    },
    {
      "cell_type": "markdown",
      "source": [
        "👋 ⚒  ❓ Do the clusters (groupings of embeddings) in the GloVe visualization differ substantially from the clusters in the word2vec visualization from Tutorial 3?"
      ],
      "metadata": {
        "id": "QWg0FNJG1aY6"
      }
    },
    {
      "cell_type": "code",
      "source": [
        "import numpy as np\n",
        "\n",
        "from sklearn.decomposition import PCA\n",
        "from matplotlib import pyplot as plt\n",
        "\n",
        "def display_pca_scatterplot(model, words):\n",
        "\n",
        "    available_words = [word for word in words if word in model.key_to_index]        # filter words to only include those present in the model's vocab\n",
        "\n",
        "    word_vectors = np.array([model[w] for w in available_words])\n",
        "\n",
        "    twodim = PCA().fit_transform(word_vectors)[:,:2]\n",
        "\n",
        "    plt.figure(figsize=(6,6))\n",
        "    plt.scatter(twodim[:,0], twodim[:,1], edgecolors='k', c='r')\n",
        "\n",
        "    for word, (x,y) in zip(available_words, twodim):\n",
        "        plt.text(x+0.05, y+0.05, word)\n",
        "    plt.title(\"2D PCA Visualization\")       # added labels\n",
        "    plt.xlabel(\"PCA Dimension 1\")\n",
        "    plt.ylabel(\"PCA Dimension 2\")\n",
        "    plt.show()"
      ],
      "metadata": {
        "id": "WaHuaINH2UJF"
      },
      "execution_count": 91,
      "outputs": []
    },
    {
      "cell_type": "code",
      "source": [
        "words = [\n",
        "    'coffee', 'tea', 'beer', 'wine', 'water',\n",
        "    'hamburger', 'pizza', 'sushi', 'meatballs',\n",
        "    'dog', 'horse', 'cat', 'monkey', 'parrot', 'lizard',\n",
        "    'france', 'germany', 'hungary',\n",
        "    'school', 'college', 'university', 'institute'\n",
        "]\n",
        "\n",
        "display_pca_scatterplot(word2vec_model, words)\n",
        "\n",
        "display_pca_scatterplot(glove_model, words)"
      ],
      "metadata": {
        "id": "h5C4yZsN2lAa",
        "colab": {
          "base_uri": "https://localhost:8080/",
          "height": 1000
        },
        "outputId": "5099fbe4-b29e-43e8-9d4c-821a971971dc"
      },
      "execution_count": 92,
      "outputs": [
        {
          "output_type": "display_data",
          "data": {
            "text/plain": [
              "<Figure size 600x600 with 1 Axes>"
            ],
            "image/png": "[encoded data removed]"
          },
          "metadata": {}
        },
        {
          "output_type": "display_data",
          "data": {
            "text/plain": [
              "<Figure size 600x600 with 1 Axes>"
            ],
            "image/png": "[encoded data removed]"
          },
          "metadata": {}
        }
      ]
    },
    {
      "cell_type": "markdown",
      "source": [
        "# **Visual Evaluation of word embeddings:**\n",
        "\n",
        "The clusters of the two models share some similarities while differing in other aspects. For example, the \"education\" cluster appears in the negative region of the y-axis in both the Word2Vec and GloVe models. However, its x-axis position differs: in the Word2Vec model, it is closer to the center, whereas in the GloVe model, it shifts toward more negative values.\n",
        "\n",
        "The vector for \"water\" is positioned relatively centrally in both models. In contrast, the \"food\" cluster differs significantly: in the Word2Vec model, it is located in the top-left quadrant, while in the GloVe model, it shifts to the right side of the x-axis.\n",
        "\n",
        "Similarly, the \"animal\" cluster in both models appears on the right side of the x-axis. However, its y-axis position varies: in the Word2Vec model, it is near the 0-point, while in the GloVe model, it is situated in the negative y-axis region."
      ],
      "metadata": {
        "id": "HaM0PSNj1uXR"
      }
    },
    {
      "cell_type": "markdown",
      "source": [
        "## **Bias in Embeddings**\n",
        "\n",
        "Language models and also embedding models tend to reflect on bias that is present in the textual data they were trained on. This can also be analyzed with embeddings by explicitly testing biased analogies.\n",
        "\n",
        "For instance, man is to doctor as woman is to ?\n",
        "\n",
        "The bias here is that professions tend to be assigned a specific gender, e.g. men are doctors and women are nurses.\n",
        "\n",
        "The same is true for cultures and cultural bias, e.g. Bratwurst or Sauerkraut and Germany.\n",
        "\n"
      ],
      "metadata": {
        "id": "fR022k6924H8"
      }
    },
    {
      "cell_type": "code",
      "source": [
        "result1 = glove_model.most_similar(positive=[\"doctor\", \"woman\"], negative=[\"man\"], topn=3)\n",
        "print(f\"man is to doctor as woman is to {result1}\")\n",
        "\n",
        "result2 = glove_model.most_similar(positive=[\"bratwurst\", \"france\"], negative=[\"germany\"], topn=3)\n",
        "print(f\"Germany is to Bratwurst as France is to {result2}\")"
      ],
      "metadata": {
        "id": "bdEoibPg4Ylz",
        "colab": {
          "base_uri": "https://localhost:8080/"
        },
        "outputId": "2319548b-c1a1-408b-b136-d48cbf487124"
      },
      "execution_count": 93,
      "outputs": [
        {
          "output_type": "stream",
          "name": "stdout",
          "text": [
            "man is to doctor as woman is to [('nurse', 0.7735227942466736), ('physician', 0.7189430594444275), ('doctors', 0.6824328303337097)]\n",
            "Germany is to Bratwurst as France is to [('bouillabaisse', 0.5761943459510803), ('foie', 0.5738863945007324), ('consomme', 0.5617873668670654)]\n"
          ]
        }
      ]
    },
    {
      "cell_type": "markdown",
      "source": [
        "👋 ⚒ Try to come up with two biased analogies yourself and test if the GloVe and word2vec models suffers from this type of bias. Please try to be creative and do not just change woman to girl and man to boy or something similar."
      ],
      "metadata": {
        "id": "9S2HoyVE7hL0"
      }
    },
    {
      "cell_type": "code",
      "source": [
        "# Your code here:\n",
        "\n",
        "result3 = glove_model.most_similar(positive=[\"wary\", \"woman\"], negative=[\"man\"], topn=3)\n",
        "print(f\"Man is to wary as woman is to {result3}\")       # outputs: [('fearful', 0.7105503082275391), ('worried', 0.6847777962684631), ('anxious', 0.6800563931465149)]\n",
        "\n",
        "result4 = glove_model.most_similar(positive=[\"cow\", \"usa\"], negative=[\"austria\"], topn=3)\n",
        "print(f\"Austria is to cow as USA is to {result4}\")      # outputs: [('mad', 0.5890724658966064), ('pig', 0.5569716095924377), ('cloned', 0.5426203012466431)]"
      ],
      "metadata": {
        "id": "IVvhsv5u7wHA",
        "colab": {
          "base_uri": "https://localhost:8080/"
        },
        "outputId": "540080b3-f0aa-4018-ccb1-2bf2fbb6c4ce"
      },
      "execution_count": 96,
      "outputs": [
        {
          "output_type": "stream",
          "name": "stdout",
          "text": [
            "Man is to wary as woman is to [('fearful', 0.7105503082275391), ('worried', 0.6847777962684631), ('anxious', 0.6800563931465149)]\n",
            "Austria is to cow as USA is to [('mad', 0.5890724658966064), ('pig', 0.5569716095924377), ('cloned', 0.5426203012466431)]\n"
          ]
        }
      ]
    }
  ]
}