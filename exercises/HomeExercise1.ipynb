{
  "nbformat": 4,
  "nbformat_minor": 0,
  "metadata": {
    "colab": {
      "provenance": [],
      "include_colab_link": true
    },
    "kernelspec": {
      "name": "python3",
      "display_name": "Python 3"
    }
  },
  "cells": [
    {
      "cell_type": "markdown",
      "metadata": {
        "id": "view-in-github",
        "colab_type": "text"
      },
      "source": [
        "<a href=\"https://colab.research.google.com/github/dgromann/cl_intro_ws2024/blob/main/exercises/HomeExercise1.ipynb\" target=\"_parent\"><img src=\"https://colab.research.google.com/assets/colab-badge.svg\" alt=\"Open In Colab\"/></a>"
      ]
    },
    {
      "cell_type": "markdown",
      "source": [
        "# Home Exericse 1: Preprocessing and NER\n",
        "In this first home exercise, you will use the knowledge from Tutorial 1 and Tutorial 2 to perform some preprocessing and NLP steps on a news article of your choice. An example article in English is provided in this notebook.\n",
        "\n",
        "In this notebook, please complete all instructions starting with 👋 ⚒ in the code cell after the sign or provide your analysis in the text cell after the sign.\n",
        "\n",
        "We will use the newspaper libabry to facilitate the scraping of the news article from a webpage."
      ],
      "metadata": {
        "id": "N4_fSCGEAFZ3"
      }
    },
    {
      "cell_type": "code",
      "source": [
        "!pip install newspaper3k\n",
        "!pip install lxml_html_clean"
      ],
      "metadata": {
        "id": "kxwz_cPyW4lG"
      },
      "execution_count": null,
      "outputs": []
    },
    {
      "cell_type": "code",
      "source": [
        "import newspaper\n",
        "from newspaper import Article\n",
        "\n",
        "url = 'https://edition.cnn.com/2024/10/25/style/banana-artwork-maurizio-cattelan-comedian-auction/index.html'\n",
        "article = Article(url)\n",
        "article.download()\n",
        "article.parse()\n",
        "\n",
        "#This line displays the authors of the article\n",
        "print(\"Authors: \", article.authors, \"\\n\")\n",
        "\n",
        "#This line displays the title and entire text of the article\n",
        "print(\"Title: \", article.title, \"\\n\")\n",
        "print(\"Text of article: \\n\", article.text)"
      ],
      "metadata": {
        "id": "SRiR8WeRXVOm",
        "outputId": "8b2c43ba-42c6-42d2-f6df-9facdc27a76e",
        "colab": {
          "base_uri": "https://localhost:8080/"
        }
      },
      "execution_count": null,
      "outputs": [
        {
          "output_type": "stream",
          "name": "stdout",
          "text": [
            "Authors:  ['Oscar Holland'] \n",
            "\n",
            "Title:  Maurizio Cattelan’s viral banana artwork ‘Comedian’ could now be worth $1.5 million \n",
            "\n",
            "Text of article: \n",
            " CNN —\n",
            "\n",
            "When a banana duct-taped to a wall sold for $120,000 in 2019, social media uproar and an age-old debate about the meaning of art ensued.\n",
            "\n",
            "But artist Maurizio Cattelan’s viral creation, titled “Comedian,” may yet prove a sound investment: On Friday, auction house Sotheby’s announced that one of the artwork’s three “editions” is going back on sale — this time with an estimate of $1 million to $1.5 million.\n",
            "\n",
            "For their money, the winning bidder will receive a roll of duct tape and one banana, as well as a certificate of authenticity and official instructions for installing the work. Sotheby’s confirmed to CNN that neither the tape nor, thankfully, the banana are the originals.\n",
            "\n",
            "“‘Comedian’ is a conceptual artwork, and the actual physical materials are replaced with every installation,” an auction spokesperson said via email.\n",
            "\n",
            "Cattelan and French art gallery Perrotin made headlines around the world five years ago when they displayed “Comedian” with a six-figure asking price at the Art Basel Miami Beach fair. The original was created using a banana bought in a Miami grocery store, though the gallery said it could be replaced, as per the artist’s instructions.\n",
            "\n",
            "The art world was split on the work’s merits, though some critics saw it as rooted in the rich tradition of conceptual works — dating back to Marcel Duchamp’s famous mounted urinal — that question the value of art itself. Crowds soon formed, with fair attendees lining up to see the viral installation.\n",
            "\n",
            "Video Ad Feedback Related video: Why is art so expensive? 02:42 - Source: CNN\n",
            "\n",
            "Events took an unexpected turn when performance artist David Datuna grabbed the banana from the wall, before peeling and eating it in front of hundreds of stunned fair attendees. He later defended the move as an artistic performance in its own right, not an act of vandalism.\n",
            "\n",
            "The Miami installation was eventually removed amid public safety concerns, but all three editions were sold at the fair. Two were bought by private collectors for $120,000, while the third was purchased for a higher (but undisclosed) sum, and was later donated to The Guggenheim museum in New York.\n",
            "\n",
            "Sotheby’s would not reveal the identity of the seller in November’s auction, but said the work’s current owner had acquired it from the collection of one of the original buyers.\n",
            "\n",
            "In interviews given since the Miami installation, Cattelan has described “Comedian” as a work of commentary. Speaking to the Art Newspaper in 2021 he said it was “not a joke,” calling the viral installation “a reflection on what we value.”\n",
            "\n",
            "The Italian artist, who is known for satirical pieces that challenge popular culture, did not immediately respond to CNN’s request for comment about November’s sale.\n",
            "\n",
            "An installation shot of \"Comedian\" released by Sotheby's auction house ahead of the sale. courtesy Sotheby’s\n",
            "\n",
            "In a press release announcing the sale, Sotheby’s head of contemporary art for the Americas, David Galperin, described “Comedian” as a “defiant work of pure genius.”\n",
            "\n",
            "“Balancing profound critical thought and subversive wit, this is a defining work for the artist and for our generation,” Galperin said, adding: “If at its core, ‘Comedian’ questions the very notion of the value of art, then putting the work at auction… will be the ultimate realization of its essential conceptual idea — the public will finally have a say in deciding its true value.”\n",
            "\n",
            "While this marks the first time “Comedian” will appear at auction, the work was recently exhibited at the Leeum Museum of Art in Seoul, South Korea. It was eaten then, too: An art student from Seoul National University removed the fruit and devoured it, before taping the peel back to the wall.\n",
            "\n",
            "“The student told the museum he ate it because he was hungry,” a gallery spokesperson told CNN after the 2023 incident. The museum later replaced the eaten banana with a fresh one.\n",
            "\n",
            "Sotheby’s intends to exhibit the artwork ahead of the sale, which takes place at the auction house’s New York headquarters on November 20. “Comedian” will be put on show there on Monday before it embarks on a world tour stopping in London, Paris, Milan, Hong Kong, Dubai, Taipei, Tokyo and Los Angeles.\n"
          ]
        }
      ]
    },
    {
      "cell_type": "markdown",
      "source": [
        "👋 ⚒ Use the above article or a news article of your choice and print the number of unique words in the text."
      ],
      "metadata": {
        "id": "a3xklUvEXbd1"
      }
    },
    {
      "cell_type": "code",
      "source": [
        "# Calculate and print the number of unique words in the text"
      ],
      "metadata": {
        "id": "knGLoU0kXaZb"
      },
      "execution_count": null,
      "outputs": []
    },
    {
      "cell_type": "markdown",
      "source": [
        "## **Preprocessing**"
      ],
      "metadata": {
        "id": "2DMEt4uoXgFG"
      }
    },
    {
      "cell_type": "markdown",
      "source": [
        "👋 ⚒ Now perform the following preprocessing steps and see how the number of unique words changes:\n",
        "\n",
        "1. Lowercase all words in the text.\n",
        "2. Remove punctuation markers and numbers (Hint: `string.isalpha()).\n",
        "3. Lemmatize all words in the text."
      ],
      "metadata": {
        "id": "pZjKWTTZX3m-"
      }
    },
    {
      "cell_type": "code",
      "source": [
        "# Preprocess the text with all three steps and then calculate the number of\n",
        "# unique words in the text again"
      ],
      "metadata": {
        "id": "-p7kAp-ZYNz7"
      },
      "execution_count": null,
      "outputs": []
    },
    {
      "cell_type": "markdown",
      "source": [
        "## **NER**\n",
        "\n",
        "In the tutorial we have only used one of the different models available in spaCy. In this exercise, you will compare the performance of the different models of different sizes and implementations. A description of the type of available models is in the [spaCy documentation](https://spacy.io/models/en). First, the models to be used need to be installed. We will use the following three models."
      ],
      "metadata": {
        "id": "F81suSVkaS1v"
      }
    },
    {
      "cell_type": "code",
      "source": [
        "!python -m spacy download en_core_web_sm\n",
        "!python -m spacy download en_core_web_lg\n",
        "!python -m spacy download en_core_web_trf"
      ],
      "metadata": {
        "id": "2JRubivyaSBx"
      },
      "execution_count": null,
      "outputs": []
    },
    {
      "cell_type": "markdown",
      "source": [
        "👋 ⚒  Use each of the three models that were downloaded above and perform named entitiy recognition with each of them on the original not preprocessed article, one after another. You can use different code cells for the different models or write everything into one cell, as you prefer. For each of the model outputs, automatically calculate the number of NERs for each NER type that the model identifies."
      ],
      "metadata": {
        "id": "oRt0fV4tbEXt"
      }
    },
    {
      "cell_type": "code",
      "source": [
        "import spacy\n",
        "nlp_sm = spacy.load(\"en_core_web_sm\")\n",
        "# Your code here"
      ],
      "metadata": {
        "id": "ZpLgXnJxbMCf"
      },
      "execution_count": null,
      "outputs": []
    },
    {
      "cell_type": "markdown",
      "source": [
        "You can use the following function to visualize the named entities in the text in order to facilitate the analysis."
      ],
      "metadata": {
        "id": "LDM8iLRNcdKo"
      }
    },
    {
      "cell_type": "code",
      "source": [
        "# You can also visualize the detected named entities\n",
        "from spacy import displacy\n",
        "displacy.render(doc, style=\"ent\", jupyter=True)"
      ],
      "metadata": {
        "id": "3CWq0ejhceIH"
      },
      "execution_count": null,
      "outputs": []
    },
    {
      "cell_type": "markdown",
      "source": [
        "👋 ⚒ Add your text of the analysis of differences between the three different models right here in the next text field."
      ],
      "metadata": {
        "id": "of4jzY-JdA0b"
      }
    },
    {
      "cell_type": "markdown",
      "source": [
        "*Your NE performance analysis here*"
      ],
      "metadata": {
        "id": "KwDuP5aDdCN2"
      }
    },
    {
      "cell_type": "markdown",
      "source": [
        "👋 ⚒ Compare the analysis of the best performing spaCy model for NER on the article after it was preprocessed to the performance on the non-preprocessed article."
      ],
      "metadata": {
        "id": "7CqztuZBcrw7"
      }
    },
    {
      "cell_type": "code",
      "source": [
        "# Your code here"
      ],
      "metadata": {
        "id": "2cxBSOWmc-5x"
      },
      "execution_count": null,
      "outputs": []
    },
    {
      "cell_type": "markdown",
      "source": [
        "## **Multilingual NER**\n",
        "In this exercise, the NER performance of spaCy in English is compared to another language of your choice."
      ],
      "metadata": {
        "id": "enZaik7ZdPYm"
      }
    },
    {
      "cell_type": "markdown",
      "source": [
        "👋 ⚒ Go the [spaCy page](https://spacy.io/models) detailing the available models to identify supported languages on the left listed under the heading \"Trained Pipelines\". Select a language and model of your choice. Find an article in this language and parse it using the newspaper package."
      ],
      "metadata": {
        "id": "h8DFV273eDBN"
      }
    },
    {
      "cell_type": "code",
      "source": [
        "# Remember that you first need to load the model by replacing\n",
        "#\"en_core_web_sm\" with the name of your model\n",
        "!python -m spacy download en_core_web_sm"
      ],
      "metadata": {
        "id": "o3NW0KRYeCPs"
      },
      "execution_count": null,
      "outputs": []
    },
    {
      "cell_type": "markdown",
      "source": [
        "👋 ⚒ Perform NER on the selected article."
      ],
      "metadata": {
        "id": "-KaoiUwqeLSC"
      }
    },
    {
      "cell_type": "code",
      "source": [],
      "metadata": {
        "id": "AeDyii4SeT3-"
      },
      "execution_count": null,
      "outputs": []
    },
    {
      "cell_type": "markdown",
      "source": [
        "👋 ⚒ How well did the NER in the language of your choice work as compared to the overall performance of NER with spaCy in English?"
      ],
      "metadata": {
        "id": "GFeUoLxheXao"
      }
    },
    {
      "cell_type": "markdown",
      "source": [
        "*Your NE performance analysis here*"
      ],
      "metadata": {
        "id": "BURacTomelzy"
      }
    }
  ]
}