{
  "nbformat": 4,
  "nbformat_minor": 0,
  "metadata": {
    "colab": {
      "provenance": [],
      "include_colab_link": true
    },
    "kernelspec": {
      "name": "python3",
      "display_name": "Python 3"
    }
  },
  "cells": [
    {
      "cell_type": "markdown",
      "metadata": {
        "id": "view-in-github",
        "colab_type": "text"
      },
      "source": [
        "<a href=\"https://colab.research.google.com/github/fubotz/cl_intro_ws2024/blob/main/HomeExercise1_Fabian_SCHAMBECK.ipynb\" target=\"_parent\"><img src=\"https://colab.research.google.com/assets/colab-badge.svg\" alt=\"Open In Colab\"/></a>"
      ]
    },
    {
      "cell_type": "markdown",
      "source": [
        "# Home Exericse 1: Preprocessing and NER\n",
        "In this first home exercise, you will use the knowledge from Tutorial 1 and Tutorial 2 to perform some preprocessing and NLP steps on a news article of your choice. An example article in English is provided in this notebook.\n",
        "\n",
        "In this notebook, please complete all instructions starting with 👋 ⚒ in the code cell after the sign or provide your analysis in the text cell after the sign.\n",
        "\n",
        "We will use the newspaper libabry to facilitate the scraping of the news article from a webpage."
      ],
      "metadata": {
        "id": "N4_fSCGEAFZ3"
      }
    },
    {
      "cell_type": "code",
      "source": [
        "!pip install newspaper3k\n",
        "!pip install lxml_html_clean\n",
        "!pip install nltk"
      ],
      "metadata": {
        "id": "kxwz_cPyW4lG",
        "outputId": "b84fd636-3e62-4aa5-d182-446865bd6243",
        "colab": {
          "base_uri": "https://localhost:8080/"
        }
      },
      "execution_count": 12,
      "outputs": [
        {
          "output_type": "stream",
          "name": "stdout",
          "text": [
            "Requirement already satisfied: newspaper3k in /usr/local/lib/python3.10/dist-packages (0.2.8)\n",
            "Requirement already satisfied: beautifulsoup4>=4.4.1 in /usr/local/lib/python3.10/dist-packages (from newspaper3k) (4.12.3)\n",
            "Requirement already satisfied: Pillow>=3.3.0 in /usr/local/lib/python3.10/dist-packages (from newspaper3k) (10.4.0)\n",
            "Requirement already satisfied: PyYAML>=3.11 in /usr/local/lib/python3.10/dist-packages (from newspaper3k) (6.0.2)\n",
            "Requirement already satisfied: cssselect>=0.9.2 in /usr/local/lib/python3.10/dist-packages (from newspaper3k) (1.2.0)\n",
            "Requirement already satisfied: lxml>=3.6.0 in /usr/local/lib/python3.10/dist-packages (from newspaper3k) (5.3.0)\n",
            "Requirement already satisfied: nltk>=3.2.1 in /usr/local/lib/python3.10/dist-packages (from newspaper3k) (3.8.1)\n",
            "Requirement already satisfied: requests>=2.10.0 in /usr/local/lib/python3.10/dist-packages (from newspaper3k) (2.32.3)\n",
            "Requirement already satisfied: feedparser>=5.2.1 in /usr/local/lib/python3.10/dist-packages (from newspaper3k) (6.0.11)\n",
            "Requirement already satisfied: tldextract>=2.0.1 in /usr/local/lib/python3.10/dist-packages (from newspaper3k) (5.1.2)\n",
            "Requirement already satisfied: feedfinder2>=0.0.4 in /usr/local/lib/python3.10/dist-packages (from newspaper3k) (0.0.4)\n",
            "Requirement already satisfied: jieba3k>=0.35.1 in /usr/local/lib/python3.10/dist-packages (from newspaper3k) (0.35.1)\n",
            "Requirement already satisfied: python-dateutil>=2.5.3 in /usr/local/lib/python3.10/dist-packages (from newspaper3k) (2.8.2)\n",
            "Requirement already satisfied: tinysegmenter==0.3 in /usr/local/lib/python3.10/dist-packages (from newspaper3k) (0.3)\n",
            "Requirement already satisfied: soupsieve>1.2 in /usr/local/lib/python3.10/dist-packages (from beautifulsoup4>=4.4.1->newspaper3k) (2.6)\n",
            "Requirement already satisfied: six in /usr/local/lib/python3.10/dist-packages (from feedfinder2>=0.0.4->newspaper3k) (1.16.0)\n",
            "Requirement already satisfied: sgmllib3k in /usr/local/lib/python3.10/dist-packages (from feedparser>=5.2.1->newspaper3k) (1.0.0)\n",
            "Requirement already satisfied: click in /usr/local/lib/python3.10/dist-packages (from nltk>=3.2.1->newspaper3k) (8.1.7)\n",
            "Requirement already satisfied: joblib in /usr/local/lib/python3.10/dist-packages (from nltk>=3.2.1->newspaper3k) (1.4.2)\n",
            "Requirement already satisfied: regex>=2021.8.3 in /usr/local/lib/python3.10/dist-packages (from nltk>=3.2.1->newspaper3k) (2024.9.11)\n",
            "Requirement already satisfied: tqdm in /usr/local/lib/python3.10/dist-packages (from nltk>=3.2.1->newspaper3k) (4.66.6)\n",
            "Requirement already satisfied: charset-normalizer<4,>=2 in /usr/local/lib/python3.10/dist-packages (from requests>=2.10.0->newspaper3k) (3.4.0)\n",
            "Requirement already satisfied: idna<4,>=2.5 in /usr/local/lib/python3.10/dist-packages (from requests>=2.10.0->newspaper3k) (3.10)\n",
            "Requirement already satisfied: urllib3<3,>=1.21.1 in /usr/local/lib/python3.10/dist-packages (from requests>=2.10.0->newspaper3k) (2.2.3)\n",
            "Requirement already satisfied: certifi>=2017.4.17 in /usr/local/lib/python3.10/dist-packages (from requests>=2.10.0->newspaper3k) (2024.8.30)\n",
            "Requirement already satisfied: requests-file>=1.4 in /usr/local/lib/python3.10/dist-packages (from tldextract>=2.0.1->newspaper3k) (2.1.0)\n",
            "Requirement already satisfied: filelock>=3.0.8 in /usr/local/lib/python3.10/dist-packages (from tldextract>=2.0.1->newspaper3k) (3.16.1)\n",
            "Requirement already satisfied: lxml_html_clean in /usr/local/lib/python3.10/dist-packages (0.3.1)\n",
            "Requirement already satisfied: lxml in /usr/local/lib/python3.10/dist-packages (from lxml_html_clean) (5.3.0)\n"
          ]
        }
      ]
    },
    {
      "cell_type": "code",
      "source": [
        "import newspaper\n",
        "from newspaper import Article\n",
        "\n",
        "url = 'https://edition.cnn.com/best-christmas-markets-around-the-world/index.html'\n",
        "article = Article(url)\n",
        "article.download()\n",
        "article.parse()\n",
        "\n",
        "#This line displays the authors of the article\n",
        "print(\"Authors: \", article.authors, \"\\n\")\n",
        "\n",
        "#This line displays the title and entire text of the article\n",
        "print(\"Title: \", article.title, \"\\n\")\n",
        "print(\"Text of article: \\n\", article.text)"
      ],
      "metadata": {
        "id": "SRiR8WeRXVOm",
        "outputId": "70116d51-6dd4-494d-ae55-41663c8f18cd",
        "colab": {
          "base_uri": "https://localhost:8080/"
        }
      },
      "execution_count": 7,
      "outputs": [
        {
          "output_type": "stream",
          "name": "stdout",
          "text": [
            "Authors:  ['Tamara Hardingham-Gill'] \n",
            "\n",
            "Title:  The top Christmas markets for 2024 \n",
            "\n",
            "Text of article: \n",
            " CNN —\n",
            "\n",
            "There’s nothing quite like a festive market to bring out the Christmas spirit in people.\n",
            "\n",
            "While these events can be traced back to Vienna – the city’s first recorded December market was in 1298 – the tradition has spread across the world over the centuries.\n",
            "\n",
            "From Germany and Switzerland to Singapore and New York, it’s difficult to find a coveted destination that doesn’t hold an impressive annual market. In fact, some have grown so popular that they’ve become tourist attractions in their own right.\n",
            "\n",
            "Here’s CNN Travel’s rundown of some of the top Christmas markets taking place around the world this year:\n",
            "\n",
            "Wiener Christkindlmarkt, Austria\n",
            "\n",
            "With reindeer rides, a giant Ferris wheel and a classic Nativity scene, Vienna’s magical spectacle encapsulates the festive spirit fantastically.\n",
            "\n",
            "Although there are around 20 Christmas markets in the Austrian capital from which to choose, Wiener Christkindlmarkt (or Rathausplatz) is one of its oldest and most traditional events.\n",
            "\n",
            "The event, also known as Viennese Dream Christmas Market, features a 110-square-meter children’s ice rink and is held in front of City Hall. The famous Tree of Hearts, a giant maple tree decked out with hundreds of glittering hearts, is a favorite with visitors and a great photo opportunity.\n",
            "\n",
            "Plenty of stalls offer up tasty treats such as Austrian sausages and gingerbread cookies, along with homemade Christmas punch.\n",
            "\n",
            "Wiener Christkindlmarkt runs from November 16 to December 26.\n",
            "\n",
            "Basel Christmas Market, Switzerland\n",
            "\n",
            "Basel Christmas Market is made up of decorated stalls selling Christmas spices, decorations and candles. Meinrad Riedo/imageBROKER/Shutterstock\n",
            "\n",
            "It’s hard to find a destination that does Christmas better than Switzerland.\n",
            "\n",
            "Most Swiss towns are pretty much taken over by festive markets at this time of year, and the atmosphere is incredible. But Basel Christmas Market is the biggest and arguably the best around.\n",
            "\n",
            "Separated into two sections at Barfüsserplatz and Münsterplatz, it’s made up of around 150 fabulously decorated stalls selling Christmas spices, decorations and candles.\n",
            "\n",
            "Family attractions include the Christmas fairytale forest at Münsterplatz with activities such as gingerbread and candle decorating, a star workshop and a festive train.\n",
            "\n",
            "Attendees can also take a walk up the stairwell of St. Martin’s tower for incredible views of the lights illuminating the old town or sip on some mulled wine at the 13-meter high Christmas pyramid on Barfüsserplatz.\n",
            "\n",
            "Basel Christmas Market opens on November 28 and is scheduled to run until December 23.\n",
            "\n",
            "Strasbourg Christmas Market, France\n",
            "\n",
            "One of Europe’s oldest Christmas markets, Strasbourg began back in 1570, but it’s evolved considerably since then.\n",
            "\n",
            "Spread over more than 10 locations, the hugely popular market lights up the city with thousands of twinkling Christmas lights and festive ornaments.\n",
            "\n",
            "Drawing in over 2 million people a year, the festive market features hundreds of wooden chalet stalls selling everything from decorations and presents to local Alsatian wine.\n",
            "\n",
            "Place Kleber is probably its most popular spot thanks to the Great Christmas Tree on display. But visitors will be treated to countless magical sights while wandering through the city’s narrow alleyways and pretty squares.\n",
            "\n",
            "Strasbourg Christmas Market begins on November 27 and closes on December 27.\n",
            "\n",
            "Brussels Winter Wonders, Belgium\n",
            "\n",
            "This annual festive event has been lighting up the Belgium capital for over 20 years. Laia Ros/Getty Images\n",
            "\n",
            "Brussels really comes to life at Christmas time thanks to Winter Wonders, which is more akin to a festival than a market.\n",
            "\n",
            "One of Belgium’s biggest and most popular events, the annual extravaganza extends across the Bourse, Place de la Monnaie, Grand Place, Place Sainte Catherine and Marche aux Poissons.\n",
            "\n",
            "A light and sound show, ice skating and fairground rides are among the activities and places to enjoy, while visitors can also browse through about 200 or so chalets serving glühwein (mulled wine), Belgian beers and waffles and stare in wonder at the enormous Christmas tree erected in Grand Place.\n",
            "\n",
            "Brussels Winter Wonders will run from November 29 to January 5.\n",
            "\n",
            "Old Town Square and Wenceslas Square Christmas markets, Prague, Czech Republic\n",
            "\n",
            "To say the city of Prague goes all out at Christmas is something of an understatement. The Czech capital is the very definition of a winter wonderland during the festive period.\n",
            "\n",
            "While there’s no shortage of markets throughout the city, the main ones can be found in Old Town Square and Wenceslas Square. Thankfully these spots are only a few minutes’ walk apart, so revelers can easily visit both in a day.\n",
            "\n",
            "Old Town Square provides endless entertainment in the form of live shows, dance performances and creative workshops while Wenceslas Square is great for handmade gifts and local treats such as klobasa (Czech sausage) and mulled wine.\n",
            "\n",
            "The markets will be open from November 30 to January 6.\n",
            "\n",
            "Fira de Santa Llucia, Barcelona\n",
            "\n",
            "Set around Barcelona Cathedral, Fira de Santa Llucia has been around since 1786. Cisco Pelay/Alamy Stock Photo\n",
            "\n",
            "Dating back to 1786, Fira de Santa Llucia has grown from a one-day event to commemorate the feast day of Santa Llucia, which falls on December 13, to a three-week fair.\n",
            "\n",
            "Held right outside Barcelona Cathedral, the bustling market is separated into four sections.\n",
            "\n",
            "The first is Nativity and Figurines, where visitors can pick up Nativity scene type decorations and figurines. The Greenery and Plants section is packed with both natural and artificial trees and, of course, plants.\n",
            "\n",
            "The Crafts section features handmade products and jewelry, while the Simbombes section is mainly made up musical instruments.\n",
            "\n",
            "There are also many festive activities such as storytelling, a Christmas parade and the Caga Tió, an enormous, piñata-style Christmas log that spills out candy and gifts when beaten with a stick.\n",
            "\n",
            "Fira de Santa Llucia will be taking place from November 29 to December 23.\n",
            "\n",
            "I Mercati Natale, Piazza Santa Croce, Florence\n",
            "\n",
            "This traditional fair is held at the Piazza Santa Croce in Florence, Italy, every year. dan74/Alamy Stock Photo\n",
            "\n",
            "There’s much to see at this enchanting market, but nothing can top the beautiful backdrop supplied by Santa Croce’s Franciscan Basilica.\n",
            "\n",
            "Although this traditional fair, also known as Weihnachtsmarkt, is based on German street markets, it’s a very Italian affair in many ways thanks to the scenery and the many Italian treats, such as panforte, for sale.\n",
            "\n",
            "However, there’s certainly no shortage of gingerbread, strudel and traditional Heidelberg Lebkuchen cookies.\n",
            "\n",
            "Those who take a walk to the nearby Piazza del Duomo will be treated to a magnificent nativity scene, as well as an impressive Christmas tree that’s lit up ahead of the Feast of the Immaculate Conception on December 8.\n",
            "\n",
            "I Mercati Natale begins on November 23 and runs to December 22.\n",
            "\n",
            "Advent in Zagreb, Croatia\n",
            "\n",
            "It’s easy to see why Zagreb was voted the “best Christmas market destination” in travel portal European Best Destinations’ online poll for three consecutive years.\n",
            "\n",
            "Made up of around 25 Christmas markets spread across the Croatian capital, Advent in Zagreb is a magical sight.\n",
            "\n",
            "Think live Nativity scenes, ice sculpture carvings, outdoor gigs, pop-up bars and a Christmas tram complete with Santa and his elves.\n",
            "\n",
            "Advent in Zagreb also has an area devoted to “fooling around” (or “fuliranje”) where you’ll find delighted revelers dancing in the street while eating street food and listening to live entertainment.\n",
            "\n",
            "Advent in Zagreb 2024 is scheduled to run from November 30 to January 7.\n",
            "\n",
            "Christmas in Tivoli, Copenhagen, Denmark\n",
            "\n",
            "Visited several times by Walt Disney before he developed Disneyland, this Danish amusement park and pleasure garden is a dazzling place to visit any time of year.\n",
            "\n",
            "But you’ll struggle to find anywhere as enchanting as Tivoli Gardens during the festive period.\n",
            "\n",
            "With more than 1,000 beautifully decorated Christmas trees adorning the beautiful grounds, and everything from fairground rides to a traditional Pixie Band for entertainment, it’s a winter experience like no other.\n",
            "\n",
            "The annual Lucia procession on December 13, where more than 100 girls process through the gardens carrying candles and singing to mark St. Lucia’s Day, is a particular highlight, along with the firework displays that take place between December 25 and 26, as well as New Year’s Eve.\n",
            "\n",
            "Christmas in Tivoli is taking place from November 15 to January 5.\n",
            "\n",
            "Tallinn Christmas Market, Estonia\n",
            "\n",
            "Estonia's Tallinn Christmas Market is held annually in the Town Hall Square. jaanalisette/iStockphoto/Getty Images\n",
            "\n",
            "The Estonian capital’s annual affair is one of the more modern European Christmas markets.\n",
            "\n",
            "Set inside Tallinn’s Town Hall Square, it’s packed full of stalls with traditional Estonian cuisine, artisan bread and handicrafts for sale.\n",
            "\n",
            "On the entertainment front, there are carousels, a winter grotto and a Santa who rolls up on a sleigh complete with reindeer.\n",
            "\n",
            "Visitors are also treated to regular performances by dance troupes and choirs.\n",
            "\n",
            "But as with many such markets, the Christmas tree is the main event. Tallinn’s tree has been displayed here since 1441.\n",
            "\n",
            "Tallinn Christmas Market 2024 is due to take place from November 22 to December 27.\n",
            "\n",
            "Skansen’s Christmas Market, Stockholm\n",
            "\n",
            "Stockholm isn’t exactly lacking when it comes to Christmas markets, but none are more traditional than Skansen.\n",
            "\n",
            "Set on the island of Djurgarden in the world’s oldest open-air museum, it’s a wonderful exhibit of Swedish culture with some added yuletide magic.\n",
            "\n",
            "The historical houses on display in the museum are decked out in colorful decorations for the occasion, and all the tables inside are set up for Christmas dinner.\n",
            "\n",
            "Visitors can make their own decorations at Christmas workshops, participate in regularly held craft demonstrations or join the dancing games around the tree at Bollnäs Square, Skansen’s main site.\n",
            "\n",
            "Skansen’s Christmas Market is open on Fridays, Saturdays and Sundays from November 29 until December 22.\n",
            "\n",
            "Tuomaan Markkinat, Helsinki\n",
            "\n",
            "Tuomaan Markkinat is the oldest outdoor Christmas market in the Finnish capital. Ryhor Bruyeu/Alamy Stock Photo\n",
            "\n",
            "This wonderfully Nordic Christmas market is held in Helsinki’s Senate Square, near the Emperor Alexander II statue.\n",
            "\n",
            "Tuomaan Markkinat’s centerpiece is a vintage carousel, but the countless vendors selling traditional Christmas delicacies, glögi (Finland’s take on mulled wine) and handicrafts are also a big draw.\n",
            "\n",
            "Younger attendees can visit Santa Claus, who has his own wooden cabin here, and join festive activities such as Christmas cookie decorating. The market’s food court is particularly impressive with a host of top eateries from which to choose.\n",
            "\n",
            "Tuomaan Markkinat is set to run from November 29 to December 22.\n",
            "\n",
            "St. Stephen’s Basilica and Vörösmarty Square markets, Budapest, Hungary\n",
            "\n",
            "Budapest has two main festive markets: St. Stephen’s Basilica Christmas market, or Advent Bazilika, and Vörösmarty Square Christmas market.\n",
            "\n",
            "The former takes place in front of the famous basilica, where crowds gather to watch the regular 3D light shows that are projected onto its facade. In addition, there are around 150 stalls with vendors selling sweet treats, wine and arts and crafts.\n",
            "\n",
            "Meanwhile, the Vörösmarty Square market is positioned in the heart of the city and attracts more than 800,000 visitors annually.\n",
            "\n",
            "Its main highlight is usually a giant Advent calendar that reveals a new window display on a daily basis from December 1 to 23, although the fantastic Hungarian foods that line its stalls – langos and chimney cake – are also particular standouts.\n",
            "\n",
            "Advent Bazilika opens on November 15 and runs to January 1.\n",
            "\n",
            "The Vörösmarty Square Christmas market will open on November 15 and close on December 31.\n",
            "\n",
            "Christkindlesmarkt and Gendarmenmarkt, Germany\n",
            "\n",
            "Gendarmenmarkt is one of Berlin's most enchanting annual festive markets. Massimo Borchi/Atlantide Photo/Stockbyte Unreleased/Getty Images\n",
            "\n",
            "Open-air winter street markets have long been associated with Germany, and the European country is home to some of the oldest and most visited festive markets.\n",
            "\n",
            "Capital city Berlin has around 80 of them, but Gendarmenmark is perhaps its most renowned.\n",
            "\n",
            "Positioned between the Franzosischer Dom and Deutscher Dom, it’s a maze of wooden huts with bratwurst, mulled wine and ginger bread for sale, along with special Christmas gifts. At night, visitors can enjoy nightly concerts with dance and musical performances.\n",
            "\n",
            "Over in Nuremberg, Bavaria’s second-largest city, the famous Christkindlesmarkt has been around since the 16th century. During the Christmas period, around 200 stands are erected in the city’s central market square, and the whole area is abuzz with activity.\n",
            "\n",
            "The market usually draws in around 2 million people every year and is undoubtedly one of Nuremberg’s annual highlights.\n",
            "\n",
            "Nuremberg Christkindlesmarkt 2024 kicks off on November 29 and ends on December 24.\n",
            "\n",
            "Gendarmenmarkt opens on November 25 and is set to close on December 31.\n",
            "\n",
            "Hyde Park Winter Wonderland, London\n",
            "\n",
            "Hyde Park Winter Wonderland is one of the most highly anticipated winter events in the UK capital.\n",
            "\n",
            "The festive favorite, which began in 2005, brings in huge crowds every year thanks to its 200-plus rides, including a 70-meter-high big wheel, mulled wine stations and an outdoor skating rink, which happens to be the largest in the United Kingdom.\n",
            "\n",
            "Visitors can also join ice sculpting workshops, watch a circus troupe, listen to live music at the lively Fire Pit bar or tuck into some of the many foods on offer at the Street Food Village.\n",
            "\n",
            "Hyde Park Winter Wonderland is scheduled to open on November 21 and will continue until January 5.\n",
            "\n",
            "Edinburgh at Christmas, Scotland\n",
            "\n",
            "Scottish capital Edinburgh stages numerous winter events, including the fabulously festive Christmas Market at Princes Street Gardens. Jeff J Mitchell/Getty Images\n",
            "\n",
            "From an ice rink to immersive light displays, the Scottish capital’s historic city center is abuzz with festive markets and attractions throughout winter.\n",
            "\n",
            "Over in popular urban park East Princes Street Garden, there’s a traditional Christmas market with up to 70 stalls and a 46-meter tall Ferris wheel, the largest in the country.\n",
            "\n",
            "Revelers are treated to spectacular views of the iconic Scott Monument, along with Edinburgh Castle, where the after-dark Castle of Light attraction will be held from late November to early January.\n",
            "\n",
            "Meanwhile, a Christmas tree maze that features 450 illuminated trees can be found at St. Andrew Square Garden. Skaters might like a popular ice rink at George Street, one of the city’s top shopping spots.\n",
            "\n",
            "The Christmas market at East Princes Street Gardens, Edinburgh’s main festive market, will be open from November 15 until January 4.\n",
            "\n",
            "Krakow Christmas Market, Poland\n",
            "\n",
            "Krakow Christmas Market, held in the city's central square, draws in big crowds every year. Dominika Zarzycka/NurPhoto via AP\n",
            "\n",
            "Stretched across a huge section of Rynek Glowny, the Polish city’s central square, Krakow Christmas Market is among the largest in Europe.\n",
            "\n",
            "Historic landmark St. Mary’s Basilica serves as a stunning backdrop to the yearly event, which has been around since the early 14th century, as does the Renaissance Cloth Hall.\n",
            "\n",
            "Revelers can tuck into Polish delicacies such as kiełbasa (sausage), shop for handcrafted gifts or treats and take in live music from folk bands and carol singers.\n",
            "\n",
            "The market also hosts a competition in which participants, including schoolchildren and local artists, create small Nativity scenes, or cribs. They are displayed at the statue of Polish poet Adam Mickiewicz, situated in the square, before a winner is chosen.\n",
            "\n",
            "Krakow Christmas Market will be held from November 29 to January 1.\n",
            "\n",
            "Bratislava Christmas Fair, Slovakia\n",
            "\n",
            "Dotted across various locations around the Slovakian capital, including the Main Square and Franciscan Square, the Bratislava Christmas Fair is a wonderfully magical affair.\n",
            "\n",
            "With stalls selling everything from mulled wine to traditional delicacies, a huge Christmas tree and live performances, the annual market showcases some of the best traditions of the Slovakian Christmas season.\n",
            "\n",
            "While there are various ways to reach the main event, a ride on the free Christmas tram, which runs through the city center throughout the festive period, is probably the most fun method.\n",
            "\n",
            "Bratislava Christmas Fair will be held from November 22 to January 6.\n",
            "\n",
            "Christmas Wonderland at Gardens by the Bay, Singapore\n",
            "\n",
            "Now in its 11th year, Singapore’s Christmas Wonderland is continuing to grow in popularity.\n",
            "\n",
            "Staged at the famous Gardens by the Bay nature park, the event lasts around four weeks and covers more than 27,000 square meters. Packed with attractions, it features fairground rides, a Christmas train, light and sound shows, carnival games and live performances.\n",
            "\n",
            "The 20-meter-tall Spalliera, a magnificent design inspired by Mesola Castle in northern Italy is one of the main highlights, along with the stunning Walk of Lights, which is illuminated by around thousand of bulbs.\n",
            "\n",
            "Christmas Wonderland at Gardens by the Bay opens on November 29 and closes on January 1.\n",
            "\n",
            "The Distillery Winter Village, Toronto\n",
            "\n",
            "The Distillery District Winter Village in Toronto will kick off with a tree lighting ceremony on November 13. Steve Russell/Toronto Star via Getty Images\n",
            "\n",
            "Formerly known as the Toronto Christmas Market, the Distillery Winter Village is an intimate and charming take on the traditional European festive market.\n",
            "\n",
            "Held in the historic Distillery District, it features outdoor shopping cabins and food vendors, Christmas carol sing-a-longs, a gingerbread hunt and a 50-foot Christmas tree.\n",
            "\n",
            "Visitors will be able to find everything from artisanal food, handcrafted gifts and festive drinks at the numerous stalls here.\n",
            "\n",
            "The Distillery Winter Village 2024 will be open on Thursdays, Fridays, Saturdays and Sundays from November 12 to December 31.\n",
            "\n",
            "Winter Village at Bryant Park, New York\n",
            "\n",
            "Skaters on the ice skating rink at night at Bank of America Winter Village at Bryant Park. Colin Miller/Courtesy BoA Winter Village at Bryant Park\n",
            "\n",
            "Each and every year, Manhattan’s Bryant Park is transformed into a magnificent wonderland for the Winter Village.\n",
            "\n",
            "The renowned open-air market is a wonderful sight to behold, with over 150 custom-designed kiosks and a 17,000-square-foot outdoor ice rink that’s free to use provided you have your own skates. Its rinkside bar and food hall The Lodge provides an eclectic mix of eateries, along with an outdoor beer garden and a cocktail bar.\n",
            "\n",
            "Outside the Winter Village, the Josephine Shaw Lowell Fountain is at its most beautiful during winter time, when it regularly freezes over.\n",
            "\n",
            "The Bank of America Winter Village at Bryant Park opened on October 25 and is scheduled to run until March 2.\n",
            "\n",
            "Christkindlmarket Chicago\n",
            "\n",
            "First launched in 1996, Christkindlmarket Chicago takes inspiration from the historic Christkindelmarkt in Nuremberg, Germany, bringing a taste of traditional German Christmas markets to the Windy City.\n",
            "\n",
            "The hugely popular market will be staged across two locations – Daley Plaza in Chicago and RiverEdge Park in nearby Aurora. It provides live entertainment alongside a multitude of stalls selling everything from bratwurst and hot spiced wine, to hand-crafted ornaments.\n",
            "\n",
            "Admission is free, but those attending the Daley Plaza market who are keen to skip the crowds have the option to purchase a $25 fast-entry pass on weekends.\n",
            "\n",
            "Christkindlmarket Chicago at Daley Plaza will run daily from November 22 to December 24.\n",
            "\n",
            "Christkindlmarket Chicago at RiverEdge Park will run daily on Thursdays, Fridays, Saturdays and Sundays from November 22 to December 24.\n",
            "\n",
            "The information in this article was current at the time of publishing. Check websites for any updated information before you make plans.\n"
          ]
        }
      ]
    },
    {
      "cell_type": "markdown",
      "source": [
        "👋 ⚒ Use the above article or a news article of your choice and print the number of unique words in the text."
      ],
      "metadata": {
        "id": "a3xklUvEXbd1"
      }
    },
    {
      "cell_type": "code",
      "source": [
        "# Calculate and print the number of unique words in the text (=types)\n",
        "\n",
        "# import relevant packages\n",
        "import nltk\n",
        "from nltk.tokenize import word_tokenize\n",
        "from nltk.corpus import stopwords\n",
        "import string\n",
        "\n",
        "# dowload 'punkt' and 'stopwords' only if it is not already dowloaded (+ensures readability)\n",
        "if not nltk.data.find('tokenizers/punkt'):\n",
        "    nltk.download('punkt', quiet=True)\n",
        "if not nltk.data.find('corpora/stopwords'):\n",
        "    nltk.download('stopwords', quiet=True)\n",
        "\n",
        "# initialize text from article\n",
        "text = article.text\n",
        "word_tokens = word_tokenize(text)\n",
        "\n",
        "# define filtered tokens\n",
        "stop_words = stopwords.words('english')\n",
        "punctuation = string.punctuation\n",
        "other = ['–', '—', '’', '“', '”']\n",
        "\n",
        "# filter out unwanted tokens\n",
        "filtered_tokens = []\n",
        "for word in word_tokens:\n",
        "    word_lower = word.lower()\n",
        "    if word_lower not in stop_words and word not in punctuation and word not in other:\n",
        "        filtered_tokens.append(word_lower)\n",
        "\n",
        "unique_words = set(filtered_tokens)\n",
        "\n",
        "print('Unique words:', sorted(unique_words))\n",
        "print('Number of unique words (types):', len(unique_words))"
      ],
      "metadata": {
        "id": "knGLoU0kXaZb",
        "outputId": "4979af87-8f27-4fc2-b198-ecf63767d524",
        "colab": {
          "base_uri": "https://localhost:8080/"
        }
      },
      "execution_count": 36,
      "outputs": [
        {
          "output_type": "stream",
          "name": "stdout",
          "text": [
            "Unique words: [\"'s\", '1', '1,000', '10', '100', '110-square-meter', '11th', '12', '1298', '13', '13-meter', '1441', '14th', '15', '150', '1570', '16', '16th', '17,000-square-foot', '1786', '1996', '2', '20', '20-meter-tall', '200', '200-plus', '2005', '2024', '21', '22', '23', '24', '25', '26', '27', '27,000', '28', '29', '30', '31', '3d', '4', '450', '46-meter', '5', '50-foot', '6', '7', '70', '70-meter-high', '8', '80', '800,000', 'able', 'abuzz', 'across', 'activities', 'activity', 'adam', 'added', 'addition', 'admission', 'adorning', 'advent', 'affair', 'after-dark', 'ahead', 'akin', 'alexander', 'alleyways', 'along', 'alongside', 'alsatian', 'also', 'although', 'america', 'among', 'amusement', 'andrew', 'annual', 'annually', 'anticipated', 'anywhere', 'ap', 'apart', 'area', 'arguably', 'around', 'article', 'artificial', 'artisan', 'artisanal', 'artists', 'arts', 'associated', 'atmosphere', 'attendees', 'attending', 'attraction', 'attractions', 'attracts', 'aurora', 'austria', 'austrian', 'aux', 'back', 'backdrop', 'band', 'bands', 'bank', 'bar', 'barcelona', 'barfüsserplatz', 'bars', 'based', 'basel', 'basilica', 'basis', 'bavaria', 'bay', 'bazilika', 'beaten', 'beautiful', 'beautifully', 'become', 'beer', 'beers', 'began', 'begins', 'behold', 'belgian', 'belgium', 'berlin', 'best', 'better', 'big', 'biggest', 'boa', 'bollnäs', 'borchi/atlantide', 'bourse', 'bratislava', 'bratwurst', 'bread', 'bring', 'bringing', 'brings', 'browse', 'brussels', 'bruyeu/alamy', 'bryant', 'budapest', 'bulbs', 'bustling', 'cabin', 'cabins', 'caga', 'cake', 'calendar', 'candle', 'candles', 'candy', 'capital', 'carnival', 'carol', 'carousel', 'carousels', 'carrying', 'carvings', 'castle', 'cathedral', 'catherine', 'center', 'centerpiece', 'central', 'centuries', 'century', 'ceremony', 'certainly', 'chalet', 'chalets', 'charming', 'check', 'chicago', 'children', 'chimney', 'choirs', 'choose', 'chosen', 'christkindelmarkt', 'christkindlesmarkt', 'christkindlmarket', 'christkindlmarkt', 'christmas', 'circus', 'cisco', 'city', 'classic', 'claus', 'close', 'closes', 'cloth', 'cnn', 'cocktail', 'colin', 'colorful', 'comes', 'commemorate', 'competition', 'complete', 'conception', 'concerts', 'consecutive', 'considerably', 'continue', 'continuing', 'cookie', 'cookies', 'copenhagen', 'countless', 'country', 'course', 'court', 'covers', 'coveted', 'craft', 'crafts', 'create', 'creative', 'cribs', 'croatia', 'croatian', 'croce', 'crowds', 'cuisine', 'culture', 'current', 'custom-designed', 'czech', 'daily', 'daley', 'dan74/alamy', 'dance', 'dancing', 'danish', 'dating', 'day', 'dazzling', 'de', 'december', 'decked', 'decorated', 'decorating', 'decorations', 'definition', 'del', 'delicacies', 'delighted', 'demonstrations', 'denmark', 'design', 'destination', 'destinations', 'deutscher', 'developed', 'devoted', 'difficult', 'dinner', 'disney', 'disneyland', 'display', 'displayed', 'displays', 'distillery', 'district', 'djurgarden', 'dom', 'dominika', 'dotted', 'draw', 'drawing', 'draws', 'dream', 'drinks', 'due', 'duomo', 'early', 'easily', 'east', 'easy', 'eateries', 'eating', 'eclectic', 'edinburgh', 'elves', 'emperor', 'encapsulates', 'enchanting', 'endless', 'ends', 'enjoy', 'enormous', 'entertainment', 'erected', 'estonia', 'estonian', 'europe', 'european', 'eve', 'event', 'events', 'every', 'everything', 'evolved', 'exactly', 'exhibit', 'experience', 'extends', 'extravaganza', 'fabulously', 'facade', 'fact', 'fair', 'fairground', 'fairytale', 'falls', 'family', 'famous', 'fantastic', 'fantastically', 'fast-entry', 'favorite', 'feast', 'features', 'ferris', 'festival', 'festive', 'figurines', 'find', 'finland', 'finnish', 'fira', 'fire', 'firework', 'first', 'florence', 'folk', 'food', 'foods', 'fooling', 'forest', 'form', 'former', 'formerly', 'found', 'fountain', 'four', 'france', 'franciscan', 'franzosischer', 'free', 'freezes', 'fridays', 'front', 'fuliranje', 'full', 'fun', 'games', 'garden', 'gardens', 'gather', 'gendarmenmark', 'gendarmenmarkt', 'george', 'german', 'germany', 'getty', 'giant', 'gifts', 'gigs', 'ginger', 'gingerbread', 'girls', 'glittering', 'glowny', 'glögi', 'glühwein', 'goes', 'grand', 'great', 'greenery', 'grotto', 'grounds', 'grow', 'grown', 'hall', 'hand-crafted', 'handcrafted', 'handicrafts', 'handmade', 'happens', 'hard', 'heart', 'hearts', 'heidelberg', 'held', 'helsinki', 'high', 'highlight', 'highlights', 'highly', 'historic', 'historical', 'hold', 'home', 'homemade', 'host', 'hosts', 'hot', 'houses', 'however', 'huge', 'hugely', 'hundreds', 'hungarian', 'hungary', 'hunt', 'huts', 'hyde', 'ice', 'iconic', 'ii', 'illuminated', 'illuminating', 'images', 'immaculate', 'immersive', 'impressive', 'include', 'including', 'incredible', 'information', 'inside', 'inspiration', 'inspired', 'instruments', 'intimate', 'island', 'italian', 'italy', 'j', 'jaanalisette/istockphoto/getty', 'january', 'jeff', 'jewelry', 'join', 'josephine', 'keen', 'kick', 'kicks', 'kiełbasa', 'kingdom', 'kiosks', 'kleber', 'klobasa', 'known', 'krakow', 'la', 'lacking', 'laia', 'landmark', 'langos', 'largest', 'lasts', 'late', 'launched', 'lebkuchen', 'life', 'light', 'lighting', 'lights', 'like', 'line', 'listen', 'listening', 'lit', 'live', 'lively', 'llucia', 'local', 'locations', 'lodge', 'log', 'london', 'long', 'lowell', 'lucia', 'made', 'magic', 'magical', 'magnificent', 'main', 'mainly', 'make', 'manhattan', 'many', 'maple', 'march', 'marche', 'mark', 'market', 'markets', 'markkinat', 'martin', 'mary', 'massimo', 'maze', 'meanwhile', 'meinrad', 'mercati', 'mesola', 'meters', 'method', 'mickiewicz', 'might', 'miller/courtesy', 'million', 'minutes', 'mitchell/getty', 'mix', 'modern', 'monnaie', 'monument', 'much', 'mulled', 'multitude', 'museum', 'music', 'musical', 'münsterplatz', 'narrow', 'natale', 'nativity', 'natural', 'nature', 'near', 'nearby', 'new', 'night', 'nightly', 'none', 'nordic', 'northern', 'nothing', 'november', 'numerous', 'nuremberg', 'occasion', 'october', 'offer', 'old', 'oldest', 'one', 'one-day', 'ones', 'online', 'onto', 'open', 'open-air', 'opened', 'opens', 'opportunity', 'option', 'ornaments', 'outdoor', 'outside', 'packed', 'panforte', 'parade', 'park', 'participants', 'participate', 'particular', 'particularly', 'pass', 'pelay/alamy', 'people', 'performances', 'perhaps', 'period', 'photo', 'photo/stockbyte', 'piazza', 'pick', 'pit', 'pixie', 'piñata-style', 'place', 'places', 'plans', 'plants', 'plaza', 'pleasure', 'plenty', 'poet', 'poissons', 'poland', 'polish', 'poll', 'pop-up', 'popular', 'popularity', 'portal', 'positioned', 'prague', 'presents', 'pretty', 'princes', 'probably', 'process', 'procession', 'products', 'projected', 'provided', 'provides', 'publishing', 'punch', 'purchase', 'pyramid', 'quite', 'rathausplatz', 'reach', 'really', 'recorded', 'regular', 'regularly', 'reindeer', 'renaissance', 'renowned', 'republic', 'reveals', 'revelers', 'ride', 'rides', 'riedo/imagebroker/shutterstock', 'right', 'rink', 'rinkside', 'riveredge', 'rolls', 'ros/getty', 'run', 'rundown', 'runs', 'russell/toronto', 'ryhor', 'rynek', 'sainte', 'sale', 'santa', 'saturdays', 'sausage', 'sausages', 'say', 'scene', 'scenery', 'scenes', 'scheduled', 'schoolchildren', 'scotland', 'scott', 'scottish', 'sculpting', 'sculpture', 'season', 'second-largest', 'section', 'sections', 'see', 'selling', 'senate', 'separated', 'serves', 'serving', 'set', 'several', 'shaw', 'shop', 'shopping', 'shortage', 'show', 'showcases', 'shows', 'sight', 'sights', 'simbombes', 'since', 'sing-a-longs', 'singapore', 'singers', 'singing', 'sip', 'site', 'situated', 'skansen', 'skaters', 'skates', 'skating', 'skip', 'sleigh', 'slovakia', 'slovakian', 'small', 'something', 'sound', 'spalliera', 'special', 'spectacle', 'spectacular', 'spiced', 'spices', 'spills', 'spirit', 'spot', 'spots', 'spread', 'square', 'squares', 'st.', 'staged', 'stages', 'stairwell', 'stalls', 'standouts', 'stands', 'star', 'stare', 'stations', 'statue', 'stephen', 'steve', 'stick', 'stock', 'stockholm', 'storytelling', 'strasbourg', 'street', 'stretched', 'strudel', 'struggle', 'stunning', 'sundays', 'supplied', 'swedish', 'sweet', 'swiss', 'switzerland', 'tables', 'take', 'taken', 'takes', 'taking', 'tall', 'tallinn', 'taste', 'tasty', 'thankfully', 'thanks', 'think', 'thousand', 'thousands', 'three', 'three-week', 'throughout', 'thursdays', 'time', 'times', 'tivoli', 'tió', 'top', 'toronto', 'tourist', 'tower', 'town', 'towns', 'traced', 'tradition', 'traditional', 'traditions', 'train', 'tram', 'transformed', 'travel', 'treated', 'treats', 'tree', 'trees', 'troupe', 'troupes', 'tuck', 'tuomaan', 'twinkling', 'two', 'type', 'uk', 'understatement', 'undoubtedly', 'united', 'unreleased/getty', 'updated', 'urban', 'use', 'usually', 'various', 'vendors', 'via', 'vienna', 'viennese', 'views', 'village', 'vintage', 'visit', 'visited', 'visitors', 'voted', 'vörösmarty', 'waffles', 'walk', 'walt', 'wandering', 'watch', 'ways', 'websites', 'weekends', 'weeks', 'weihnachtsmarkt', 'well', 'wenceslas', 'wheel', 'whole', 'wiener', 'window', 'windy', 'wine', 'winner', 'winter', 'wonder', 'wonderful', 'wonderfully', 'wonderland', 'wonders', 'wooden', 'workshop', 'workshops', 'world', 'year', 'yearly', 'years', 'york', 'younger', 'yuletide', 'zagreb', 'zarzycka/nurphoto']\n",
            "Number of unique words (types): 863\n"
          ]
        }
      ]
    },
    {
      "cell_type": "markdown",
      "source": [
        "## **Preprocessing**"
      ],
      "metadata": {
        "id": "2DMEt4uoXgFG"
      }
    },
    {
      "cell_type": "markdown",
      "source": [
        "👋 ⚒ Now perform the following preprocessing steps and see how the number of unique words changes:\n",
        "\n",
        "1. Lowercase all words in the text.\n",
        "2. Remove punctuation markers and numbers (Hint: `string.isalpha()).\n",
        "3. Lemmatize all words in the text."
      ],
      "metadata": {
        "id": "pZjKWTTZX3m-"
      }
    },
    {
      "cell_type": "code",
      "source": [
        "# Preprocess the text with all three steps and then calculate the number of\n",
        "# unique words in the text again"
      ],
      "metadata": {
        "id": "-p7kAp-ZYNz7"
      },
      "execution_count": null,
      "outputs": []
    },
    {
      "cell_type": "markdown",
      "source": [
        "## **NER**\n",
        "\n",
        "In the tutorial we have only used one of the different models available in spaCy. In this exercise, you will compare the performance of the different models of different sizes and implementations. A description of the type of available models is in the [spaCy documentation](https://spacy.io/models/en). First, the models to be used need to be installed. We will use the following three models."
      ],
      "metadata": {
        "id": "F81suSVkaS1v"
      }
    },
    {
      "cell_type": "code",
      "source": [
        "!python -m spacy download en_core_web_sm\n",
        "!python -m spacy download en_core_web_lg\n",
        "!python -m spacy download en_core_web_trf"
      ],
      "metadata": {
        "id": "2JRubivyaSBx"
      },
      "execution_count": null,
      "outputs": []
    },
    {
      "cell_type": "markdown",
      "source": [
        "👋 ⚒  Use each of the three models that were downloaded above and perform named entitiy recognition with each of them on the original not preprocessed article, one after another. You can use different code cells for the different models or write everything into one cell, as you prefer. For each of the model outputs, automatically calculate the number of NERs for each NER type that the model identifies."
      ],
      "metadata": {
        "id": "oRt0fV4tbEXt"
      }
    },
    {
      "cell_type": "code",
      "source": [
        "import spacy\n",
        "nlp_sm = spacy.load(\"en_core_web_sm\")\n",
        "# Your code here"
      ],
      "metadata": {
        "id": "ZpLgXnJxbMCf"
      },
      "execution_count": null,
      "outputs": []
    },
    {
      "cell_type": "markdown",
      "source": [
        "You can use the following function to visualize the named entities in the text in order to facilitate the analysis."
      ],
      "metadata": {
        "id": "LDM8iLRNcdKo"
      }
    },
    {
      "cell_type": "code",
      "source": [
        "# You can also visualize the detected named entities\n",
        "from spacy import displacy\n",
        "displacy.render(doc, style=\"ent\", jupyter=True)"
      ],
      "metadata": {
        "id": "3CWq0ejhceIH"
      },
      "execution_count": null,
      "outputs": []
    },
    {
      "cell_type": "markdown",
      "source": [
        "👋 ⚒ Add your text of the analysis of differences between the three different models right here in the next text field."
      ],
      "metadata": {
        "id": "of4jzY-JdA0b"
      }
    },
    {
      "cell_type": "markdown",
      "source": [
        "*Your NE performance analysis here*"
      ],
      "metadata": {
        "id": "KwDuP5aDdCN2"
      }
    },
    {
      "cell_type": "markdown",
      "source": [
        "👋 ⚒ Compare the analysis of the best performing spaCy model for NER on the article after it was preprocessed to the performance on the non-preprocessed article."
      ],
      "metadata": {
        "id": "7CqztuZBcrw7"
      }
    },
    {
      "cell_type": "code",
      "source": [
        "# Your code here"
      ],
      "metadata": {
        "id": "2cxBSOWmc-5x"
      },
      "execution_count": null,
      "outputs": []
    },
    {
      "cell_type": "markdown",
      "source": [
        "## **Multilingual NER**\n",
        "In this exercise, the NER performance of spaCy in English is compared to another language of your choice."
      ],
      "metadata": {
        "id": "enZaik7ZdPYm"
      }
    },
    {
      "cell_type": "markdown",
      "source": [
        "👋 ⚒ Go the [spaCy page](https://spacy.io/models) detailing the available models to identify supported languages on the left listed under the heading \"Trained Pipelines\". Select a language and model of your choice. Find an article in this language and parse it using the newspaper package."
      ],
      "metadata": {
        "id": "h8DFV273eDBN"
      }
    },
    {
      "cell_type": "code",
      "source": [
        "# Remember that you first need to load the model by replacing\n",
        "#\"en_core_web_sm\" with the name of your model\n",
        "!python -m spacy download en_core_web_sm"
      ],
      "metadata": {
        "id": "o3NW0KRYeCPs"
      },
      "execution_count": null,
      "outputs": []
    },
    {
      "cell_type": "markdown",
      "source": [
        "👋 ⚒ Perform NER on the selected article."
      ],
      "metadata": {
        "id": "-KaoiUwqeLSC"
      }
    },
    {
      "cell_type": "code",
      "source": [],
      "metadata": {
        "id": "AeDyii4SeT3-"
      },
      "execution_count": null,
      "outputs": []
    },
    {
      "cell_type": "markdown",
      "source": [
        "👋 ⚒ How well did the NER in the language of your choice work as compared to the overall performance of NER with spaCy in English?"
      ],
      "metadata": {
        "id": "GFeUoLxheXao"
      }
    },
    {
      "cell_type": "markdown",
      "source": [
        "*Your NE performance analysis here*"
      ],
      "metadata": {
        "id": "BURacTomelzy"
      }
    }
  ]
}