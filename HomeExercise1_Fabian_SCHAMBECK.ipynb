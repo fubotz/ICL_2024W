{
  "nbformat": 4,
  "nbformat_minor": 0,
  "metadata": {
    "colab": {
      "provenance": [],
      "include_colab_link": true
    },
    "kernelspec": {
      "name": "python3",
      "display_name": "Python 3"
    }
  },
  "cells": [
    {
      "cell_type": "markdown",
      "metadata": {
        "id": "view-in-github",
        "colab_type": "text"
      },
      "source": [
        "<a href=\"https://colab.research.google.com/github/fubotz/cl_intro_ws2024/blob/main/HomeExercise1_Fabian_SCHAMBECK.ipynb\" target=\"_parent\"><img src=\"https://colab.research.google.com/assets/colab-badge.svg\" alt=\"Open In Colab\"/></a>"
      ]
    },
    {
      "cell_type": "markdown",
      "source": [
        "# Home Exericse 1: Preprocessing and NER\n",
        "In this first home exercise, you will use the knowledge from Tutorial 1 and Tutorial 2 to perform some preprocessing and NLP steps on a news article of your choice. An example article in English is provided in this notebook.\n",
        "\n",
        "In this notebook, please complete all instructions starting with 👋 ⚒ in the code cell after the sign or provide your analysis in the text cell after the sign.\n",
        "\n",
        "We will use the newspaper libabry to facilitate the scraping of the news article from a webpage."
      ],
      "metadata": {
        "id": "N4_fSCGEAFZ3"
      }
    },
    {
      "cell_type": "code",
      "source": [
        "!pip install newspaper3k\n",
        "!pip install lxml_html_clean\n",
        "!pip install -U spacy spacy-transformers"
      ],
      "metadata": {
        "id": "kxwz_cPyW4lG",
        "outputId": "ffaef5c8-b304-4314-8555-c169b0aa89d6",
        "colab": {
          "base_uri": "https://localhost:8080/",
          "height": 1000
        }
      },
      "execution_count": 53,
      "outputs": [
        {
          "output_type": "stream",
          "name": "stdout",
          "text": [
            "Requirement already satisfied: newspaper3k in /usr/local/lib/python3.10/dist-packages (0.2.8)\n",
            "Requirement already satisfied: beautifulsoup4>=4.4.1 in /usr/local/lib/python3.10/dist-packages (from newspaper3k) (4.12.3)\n",
            "Requirement already satisfied: Pillow>=3.3.0 in /usr/local/lib/python3.10/dist-packages (from newspaper3k) (10.4.0)\n",
            "Requirement already satisfied: PyYAML>=3.11 in /usr/local/lib/python3.10/dist-packages (from newspaper3k) (6.0.2)\n",
            "Requirement already satisfied: cssselect>=0.9.2 in /usr/local/lib/python3.10/dist-packages (from newspaper3k) (1.2.0)\n",
            "Requirement already satisfied: lxml>=3.6.0 in /usr/local/lib/python3.10/dist-packages (from newspaper3k) (5.3.0)\n",
            "Requirement already satisfied: nltk>=3.2.1 in /usr/local/lib/python3.10/dist-packages (from newspaper3k) (3.8.1)\n",
            "Requirement already satisfied: requests>=2.10.0 in /usr/local/lib/python3.10/dist-packages (from newspaper3k) (2.32.3)\n",
            "Requirement already satisfied: feedparser>=5.2.1 in /usr/local/lib/python3.10/dist-packages (from newspaper3k) (6.0.11)\n",
            "Requirement already satisfied: tldextract>=2.0.1 in /usr/local/lib/python3.10/dist-packages (from newspaper3k) (5.1.3)\n",
            "Requirement already satisfied: feedfinder2>=0.0.4 in /usr/local/lib/python3.10/dist-packages (from newspaper3k) (0.0.4)\n",
            "Requirement already satisfied: jieba3k>=0.35.1 in /usr/local/lib/python3.10/dist-packages (from newspaper3k) (0.35.1)\n",
            "Requirement already satisfied: python-dateutil>=2.5.3 in /usr/local/lib/python3.10/dist-packages (from newspaper3k) (2.8.2)\n",
            "Requirement already satisfied: tinysegmenter==0.3 in /usr/local/lib/python3.10/dist-packages (from newspaper3k) (0.3)\n",
            "Requirement already satisfied: soupsieve>1.2 in /usr/local/lib/python3.10/dist-packages (from beautifulsoup4>=4.4.1->newspaper3k) (2.6)\n",
            "Requirement already satisfied: six in /usr/local/lib/python3.10/dist-packages (from feedfinder2>=0.0.4->newspaper3k) (1.16.0)\n",
            "Requirement already satisfied: sgmllib3k in /usr/local/lib/python3.10/dist-packages (from feedparser>=5.2.1->newspaper3k) (1.0.0)\n",
            "Requirement already satisfied: click in /usr/local/lib/python3.10/dist-packages (from nltk>=3.2.1->newspaper3k) (8.1.7)\n",
            "Requirement already satisfied: joblib in /usr/local/lib/python3.10/dist-packages (from nltk>=3.2.1->newspaper3k) (1.4.2)\n",
            "Requirement already satisfied: regex>=2021.8.3 in /usr/local/lib/python3.10/dist-packages (from nltk>=3.2.1->newspaper3k) (2024.9.11)\n",
            "Requirement already satisfied: tqdm in /usr/local/lib/python3.10/dist-packages (from nltk>=3.2.1->newspaper3k) (4.66.6)\n",
            "Requirement already satisfied: charset-normalizer<4,>=2 in /usr/local/lib/python3.10/dist-packages (from requests>=2.10.0->newspaper3k) (3.4.0)\n",
            "Requirement already satisfied: idna<4,>=2.5 in /usr/local/lib/python3.10/dist-packages (from requests>=2.10.0->newspaper3k) (3.10)\n",
            "Requirement already satisfied: urllib3<3,>=1.21.1 in /usr/local/lib/python3.10/dist-packages (from requests>=2.10.0->newspaper3k) (2.2.3)\n",
            "Requirement already satisfied: certifi>=2017.4.17 in /usr/local/lib/python3.10/dist-packages (from requests>=2.10.0->newspaper3k) (2024.8.30)\n",
            "Requirement already satisfied: requests-file>=1.4 in /usr/local/lib/python3.10/dist-packages (from tldextract>=2.0.1->newspaper3k) (2.1.0)\n",
            "Requirement already satisfied: filelock>=3.0.8 in /usr/local/lib/python3.10/dist-packages (from tldextract>=2.0.1->newspaper3k) (3.16.1)\n",
            "Requirement already satisfied: lxml_html_clean in /usr/local/lib/python3.10/dist-packages (0.3.1)\n",
            "Requirement already satisfied: lxml in /usr/local/lib/python3.10/dist-packages (from lxml_html_clean) (5.3.0)\n",
            "Requirement already satisfied: spacy in /usr/local/lib/python3.10/dist-packages (3.7.5)\n",
            "Collecting spacy\n",
            "  Downloading spacy-3.8.2-cp310-cp310-manylinux_2_17_x86_64.manylinux2014_x86_64.whl.metadata (27 kB)\n",
            "Requirement already satisfied: spacy-transformers in /usr/local/lib/python3.10/dist-packages (1.3.5)\n",
            "Requirement already satisfied: spacy-legacy<3.1.0,>=3.0.11 in /usr/local/lib/python3.10/dist-packages (from spacy) (3.0.12)\n",
            "Requirement already satisfied: spacy-loggers<2.0.0,>=1.0.0 in /usr/local/lib/python3.10/dist-packages (from spacy) (1.0.5)\n",
            "Requirement already satisfied: murmurhash<1.1.0,>=0.28.0 in /usr/local/lib/python3.10/dist-packages (from spacy) (1.0.10)\n",
            "Requirement already satisfied: cymem<2.1.0,>=2.0.2 in /usr/local/lib/python3.10/dist-packages (from spacy) (2.0.8)\n",
            "Requirement already satisfied: preshed<3.1.0,>=3.0.2 in /usr/local/lib/python3.10/dist-packages (from spacy) (3.0.9)\n",
            "Collecting thinc<8.4.0,>=8.3.0 (from spacy)\n",
            "  Downloading thinc-8.3.2-cp310-cp310-manylinux_2_17_x86_64.manylinux2014_x86_64.whl.metadata (15 kB)\n",
            "Requirement already satisfied: wasabi<1.2.0,>=0.9.1 in /usr/local/lib/python3.10/dist-packages (from spacy) (1.1.3)\n",
            "Requirement already satisfied: srsly<3.0.0,>=2.4.3 in /usr/local/lib/python3.10/dist-packages (from spacy) (2.4.8)\n",
            "Requirement already satisfied: catalogue<2.1.0,>=2.0.6 in /usr/local/lib/python3.10/dist-packages (from spacy) (2.0.10)\n",
            "Requirement already satisfied: weasel<0.5.0,>=0.1.0 in /usr/local/lib/python3.10/dist-packages (from spacy) (0.4.1)\n",
            "Requirement already satisfied: typer<1.0.0,>=0.3.0 in /usr/local/lib/python3.10/dist-packages (from spacy) (0.12.5)\n",
            "Requirement already satisfied: tqdm<5.0.0,>=4.38.0 in /usr/local/lib/python3.10/dist-packages (from spacy) (4.66.6)\n",
            "Requirement already satisfied: requests<3.0.0,>=2.13.0 in /usr/local/lib/python3.10/dist-packages (from spacy) (2.32.3)\n",
            "Requirement already satisfied: pydantic!=1.8,!=1.8.1,<3.0.0,>=1.7.4 in /usr/local/lib/python3.10/dist-packages (from spacy) (2.9.2)\n",
            "Requirement already satisfied: jinja2 in /usr/local/lib/python3.10/dist-packages (from spacy) (3.1.4)\n",
            "Requirement already satisfied: setuptools in /usr/local/lib/python3.10/dist-packages (from spacy) (75.1.0)\n",
            "Requirement already satisfied: packaging>=20.0 in /usr/local/lib/python3.10/dist-packages (from spacy) (24.1)\n",
            "Requirement already satisfied: langcodes<4.0.0,>=3.2.0 in /usr/local/lib/python3.10/dist-packages (from spacy) (3.4.1)\n",
            "Requirement already satisfied: numpy>=1.19.0 in /usr/local/lib/python3.10/dist-packages (from spacy) (1.26.4)\n",
            "Requirement already satisfied: transformers<4.37.0,>=3.4.0 in /usr/local/lib/python3.10/dist-packages (from spacy-transformers) (4.36.2)\n",
            "Requirement already satisfied: torch>=1.8.0 in /usr/local/lib/python3.10/dist-packages (from spacy-transformers) (2.5.0+cu121)\n",
            "Requirement already satisfied: spacy-alignments<1.0.0,>=0.7.2 in /usr/local/lib/python3.10/dist-packages (from spacy-transformers) (0.9.1)\n",
            "Requirement already satisfied: language-data>=1.2 in /usr/local/lib/python3.10/dist-packages (from langcodes<4.0.0,>=3.2.0->spacy) (1.2.0)\n",
            "Requirement already satisfied: annotated-types>=0.6.0 in /usr/local/lib/python3.10/dist-packages (from pydantic!=1.8,!=1.8.1,<3.0.0,>=1.7.4->spacy) (0.7.0)\n",
            "Requirement already satisfied: pydantic-core==2.23.4 in /usr/local/lib/python3.10/dist-packages (from pydantic!=1.8,!=1.8.1,<3.0.0,>=1.7.4->spacy) (2.23.4)\n",
            "Requirement already satisfied: typing-extensions>=4.6.1 in /usr/local/lib/python3.10/dist-packages (from pydantic!=1.8,!=1.8.1,<3.0.0,>=1.7.4->spacy) (4.12.2)\n",
            "Requirement already satisfied: charset-normalizer<4,>=2 in /usr/local/lib/python3.10/dist-packages (from requests<3.0.0,>=2.13.0->spacy) (3.4.0)\n",
            "Requirement already satisfied: idna<4,>=2.5 in /usr/local/lib/python3.10/dist-packages (from requests<3.0.0,>=2.13.0->spacy) (3.10)\n",
            "Requirement already satisfied: urllib3<3,>=1.21.1 in /usr/local/lib/python3.10/dist-packages (from requests<3.0.0,>=2.13.0->spacy) (2.2.3)\n",
            "Requirement already satisfied: certifi>=2017.4.17 in /usr/local/lib/python3.10/dist-packages (from requests<3.0.0,>=2.13.0->spacy) (2024.8.30)\n",
            "Collecting blis<1.1.0,>=1.0.0 (from thinc<8.4.0,>=8.3.0->spacy)\n",
            "  Downloading blis-1.0.1-cp310-cp310-manylinux_2_17_x86_64.manylinux2014_x86_64.whl.metadata (7.6 kB)\n",
            "Requirement already satisfied: confection<1.0.0,>=0.0.1 in /usr/local/lib/python3.10/dist-packages (from thinc<8.4.0,>=8.3.0->spacy) (0.1.5)\n",
            "Collecting numpy>=1.19.0 (from spacy)\n",
            "  Downloading numpy-2.0.2-cp310-cp310-manylinux_2_17_x86_64.manylinux2014_x86_64.whl.metadata (60 kB)\n",
            "\u001b[2K     \u001b[90m━━━━━━━━━━━━━━━━━━━━━━━━━━━━━━━━━━━━━━━━\u001b[0m \u001b[32m60.9/60.9 kB\u001b[0m \u001b[31m4.5 MB/s\u001b[0m eta \u001b[36m0:00:00\u001b[0m\n",
            "\u001b[?25hRequirement already satisfied: filelock in /usr/local/lib/python3.10/dist-packages (from torch>=1.8.0->spacy-transformers) (3.16.1)\n",
            "Requirement already satisfied: networkx in /usr/local/lib/python3.10/dist-packages (from torch>=1.8.0->spacy-transformers) (3.4.2)\n",
            "Requirement already satisfied: fsspec in /usr/local/lib/python3.10/dist-packages (from torch>=1.8.0->spacy-transformers) (2024.10.0)\n",
            "Requirement already satisfied: sympy==1.13.1 in /usr/local/lib/python3.10/dist-packages (from torch>=1.8.0->spacy-transformers) (1.13.1)\n",
            "Requirement already satisfied: mpmath<1.4,>=1.1.0 in /usr/local/lib/python3.10/dist-packages (from sympy==1.13.1->torch>=1.8.0->spacy-transformers) (1.3.0)\n",
            "Requirement already satisfied: huggingface-hub<1.0,>=0.19.3 in /usr/local/lib/python3.10/dist-packages (from transformers<4.37.0,>=3.4.0->spacy-transformers) (0.24.7)\n",
            "Requirement already satisfied: pyyaml>=5.1 in /usr/local/lib/python3.10/dist-packages (from transformers<4.37.0,>=3.4.0->spacy-transformers) (6.0.2)\n",
            "Requirement already satisfied: regex!=2019.12.17 in /usr/local/lib/python3.10/dist-packages (from transformers<4.37.0,>=3.4.0->spacy-transformers) (2024.9.11)\n",
            "Requirement already satisfied: tokenizers<0.19,>=0.14 in /usr/local/lib/python3.10/dist-packages (from transformers<4.37.0,>=3.4.0->spacy-transformers) (0.15.2)\n",
            "Requirement already satisfied: safetensors>=0.3.1 in /usr/local/lib/python3.10/dist-packages (from transformers<4.37.0,>=3.4.0->spacy-transformers) (0.4.5)\n",
            "Requirement already satisfied: click>=8.0.0 in /usr/local/lib/python3.10/dist-packages (from typer<1.0.0,>=0.3.0->spacy) (8.1.7)\n",
            "Requirement already satisfied: shellingham>=1.3.0 in /usr/local/lib/python3.10/dist-packages (from typer<1.0.0,>=0.3.0->spacy) (1.5.4)\n",
            "Requirement already satisfied: rich>=10.11.0 in /usr/local/lib/python3.10/dist-packages (from typer<1.0.0,>=0.3.0->spacy) (13.9.3)\n",
            "Requirement already satisfied: cloudpathlib<1.0.0,>=0.7.0 in /usr/local/lib/python3.10/dist-packages (from weasel<0.5.0,>=0.1.0->spacy) (0.20.0)\n",
            "Requirement already satisfied: smart-open<8.0.0,>=5.2.1 in /usr/local/lib/python3.10/dist-packages (from weasel<0.5.0,>=0.1.0->spacy) (7.0.5)\n",
            "Requirement already satisfied: MarkupSafe>=2.0 in /usr/local/lib/python3.10/dist-packages (from jinja2->spacy) (3.0.2)\n",
            "Requirement already satisfied: marisa-trie>=0.7.7 in /usr/local/lib/python3.10/dist-packages (from language-data>=1.2->langcodes<4.0.0,>=3.2.0->spacy) (1.2.1)\n",
            "Requirement already satisfied: markdown-it-py>=2.2.0 in /usr/local/lib/python3.10/dist-packages (from rich>=10.11.0->typer<1.0.0,>=0.3.0->spacy) (3.0.0)\n",
            "Requirement already satisfied: pygments<3.0.0,>=2.13.0 in /usr/local/lib/python3.10/dist-packages (from rich>=10.11.0->typer<1.0.0,>=0.3.0->spacy) (2.18.0)\n",
            "Requirement already satisfied: wrapt in /usr/local/lib/python3.10/dist-packages (from smart-open<8.0.0,>=5.2.1->weasel<0.5.0,>=0.1.0->spacy) (1.16.0)\n",
            "Requirement already satisfied: mdurl~=0.1 in /usr/local/lib/python3.10/dist-packages (from markdown-it-py>=2.2.0->rich>=10.11.0->typer<1.0.0,>=0.3.0->spacy) (0.1.2)\n",
            "Downloading spacy-3.8.2-cp310-cp310-manylinux_2_17_x86_64.manylinux2014_x86_64.whl (29.1 MB)\n",
            "\u001b[2K   \u001b[90m━━━━━━━━━━━━━━━━━━━━━━━━━━━━━━━━━━━━━━━━\u001b[0m \u001b[32m29.1/29.1 MB\u001b[0m \u001b[31m50.4 MB/s\u001b[0m eta \u001b[36m0:00:00\u001b[0m\n",
            "\u001b[?25hDownloading thinc-8.3.2-cp310-cp310-manylinux_2_17_x86_64.manylinux2014_x86_64.whl (3.7 MB)\n",
            "\u001b[2K   \u001b[90m━━━━━━━━━━━━━━━━━━━━━━━━━━━━━━━━━━━━━━━━\u001b[0m \u001b[32m3.7/3.7 MB\u001b[0m \u001b[31m68.2 MB/s\u001b[0m eta \u001b[36m0:00:00\u001b[0m\n",
            "\u001b[?25hDownloading numpy-2.0.2-cp310-cp310-manylinux_2_17_x86_64.manylinux2014_x86_64.whl (19.5 MB)\n",
            "\u001b[2K   \u001b[90m━━━━━━━━━━━━━━━━━━━━━━━━━━━━━━━━━━━━━━━━\u001b[0m \u001b[32m19.5/19.5 MB\u001b[0m \u001b[31m70.0 MB/s\u001b[0m eta \u001b[36m0:00:00\u001b[0m\n",
            "\u001b[?25hDownloading blis-1.0.1-cp310-cp310-manylinux_2_17_x86_64.manylinux2014_x86_64.whl (9.2 MB)\n",
            "\u001b[2K   \u001b[90m━━━━━━━━━━━━━━━━━━━━━━━━━━━━━━━━━━━━━━━━\u001b[0m \u001b[32m9.2/9.2 MB\u001b[0m \u001b[31m94.4 MB/s\u001b[0m eta \u001b[36m0:00:00\u001b[0m\n",
            "\u001b[?25hInstalling collected packages: numpy, blis, thinc, spacy\n",
            "  Attempting uninstall: numpy\n",
            "    Found existing installation: numpy 1.26.4\n",
            "    Uninstalling numpy-1.26.4:\n",
            "      Successfully uninstalled numpy-1.26.4\n",
            "  Attempting uninstall: blis\n",
            "    Found existing installation: blis 0.7.11\n",
            "    Uninstalling blis-0.7.11:\n",
            "      Successfully uninstalled blis-0.7.11\n",
            "  Attempting uninstall: thinc\n",
            "    Found existing installation: thinc 8.2.5\n",
            "    Uninstalling thinc-8.2.5:\n",
            "      Successfully uninstalled thinc-8.2.5\n",
            "  Attempting uninstall: spacy\n",
            "    Found existing installation: spacy 3.7.5\n",
            "    Uninstalling spacy-3.7.5:\n",
            "      Successfully uninstalled spacy-3.7.5\n",
            "\u001b[31mERROR: pip's dependency resolver does not currently take into account all the packages that are installed. This behaviour is the source of the following dependency conflicts.\n",
            "cupy-cuda12x 12.2.0 requires numpy<1.27,>=1.20, but you have numpy 2.0.2 which is incompatible.\n",
            "en-core-web-lg 3.7.1 requires spacy<3.8.0,>=3.7.2, but you have spacy 3.8.2 which is incompatible.\n",
            "en-core-web-sm 3.7.1 requires spacy<3.8.0,>=3.7.2, but you have spacy 3.8.2 which is incompatible.\n",
            "en-core-web-trf 3.7.3 requires spacy<3.8.0,>=3.7.2, but you have spacy 3.8.2 which is incompatible.\n",
            "gensim 4.3.3 requires numpy<2.0,>=1.18.5, but you have numpy 2.0.2 which is incompatible.\n",
            "langchain 0.3.4 requires numpy<2,>=1; python_version < \"3.12\", but you have numpy 2.0.2 which is incompatible.\n",
            "matplotlib 3.8.0 requires numpy<2,>=1.21, but you have numpy 2.0.2 which is incompatible.\n",
            "pytensor 2.25.5 requires numpy<2,>=1.17.0, but you have numpy 2.0.2 which is incompatible.\n",
            "tensorflow 2.17.0 requires numpy<2.0.0,>=1.23.5; python_version <= \"3.11\", but you have numpy 2.0.2 which is incompatible.\u001b[0m\u001b[31m\n",
            "\u001b[0mSuccessfully installed blis-1.0.1 numpy-2.0.2 spacy-3.8.2 thinc-8.3.2\n"
          ]
        },
        {
          "output_type": "display_data",
          "data": {
            "application/vnd.colab-display-data+json": {
              "pip_warning": {
                "packages": [
                  "blis",
                  "spacy",
                  "thinc"
                ]
              },
              "id": "4a97d33fc7504b5f80c6fdb1f9c02e89"
            }
          },
          "metadata": {}
        }
      ]
    },
    {
      "cell_type": "code",
      "source": [
        "import newspaper\n",
        "from newspaper import Article\n",
        "\n",
        "url = 'https://edition.cnn.com/best-christmas-markets-around-the-world/index.html'\n",
        "article = Article(url)\n",
        "article.download()\n",
        "article.parse()\n",
        "\n",
        "#This line displays the authors of the article\n",
        "print(\"Authors: \", article.authors, \"\\n\")\n",
        "\n",
        "#This line displays the title and entire text of the article\n",
        "print(\"Title: \", article.title, \"\\n\")\n",
        "print(\"Text of article: \\n\", article.text)"
      ],
      "metadata": {
        "id": "SRiR8WeRXVOm",
        "outputId": "1e203ca3-4061-4624-ed12-15c76c80b185",
        "colab": {
          "base_uri": "https://localhost:8080/"
        }
      },
      "execution_count": 48,
      "outputs": [
        {
          "output_type": "stream",
          "name": "stdout",
          "text": [
            "Authors:  ['Tamara Hardingham-Gill'] \n",
            "\n",
            "Title:  The top Christmas markets for 2024 \n",
            "\n",
            "Text of article: \n",
            " CNN —\n",
            "\n",
            "There’s nothing quite like a festive market to bring out the Christmas spirit in people.\n",
            "\n",
            "While these events can be traced back to Vienna – the city’s first recorded December market was in 1298 – the tradition has spread across the world over the centuries.\n",
            "\n",
            "From Germany and Switzerland to Singapore and New York, it’s difficult to find a coveted destination that doesn’t hold an impressive annual market. In fact, some have grown so popular that they’ve become tourist attractions in their own right.\n",
            "\n",
            "Here’s CNN Travel’s rundown of some of the top Christmas markets taking place around the world this year:\n",
            "\n",
            "Wiener Christkindlmarkt, Austria\n",
            "\n",
            "With reindeer rides, a giant Ferris wheel and a classic Nativity scene, Vienna’s magical spectacle encapsulates the festive spirit fantastically.\n",
            "\n",
            "Although there are around 20 Christmas markets in the Austrian capital from which to choose, Wiener Christkindlmarkt (or Rathausplatz) is one of its oldest and most traditional events.\n",
            "\n",
            "The event, also known as Viennese Dream Christmas Market, features a 110-square-meter children’s ice rink and is held in front of City Hall. The famous Tree of Hearts, a giant maple tree decked out with hundreds of glittering hearts, is a favorite with visitors and a great photo opportunity.\n",
            "\n",
            "Plenty of stalls offer up tasty treats such as Austrian sausages and gingerbread cookies, along with homemade Christmas punch.\n",
            "\n",
            "Wiener Christkindlmarkt runs from November 16 to December 26.\n",
            "\n",
            "Basel Christmas Market, Switzerland\n",
            "\n",
            "Basel Christmas Market is made up of decorated stalls selling Christmas spices, decorations and candles. Meinrad Riedo/imageBROKER/Shutterstock\n",
            "\n",
            "It’s hard to find a destination that does Christmas better than Switzerland.\n",
            "\n",
            "Most Swiss towns are pretty much taken over by festive markets at this time of year, and the atmosphere is incredible. But Basel Christmas Market is the biggest and arguably the best around.\n",
            "\n",
            "Separated into two sections at Barfüsserplatz and Münsterplatz, it’s made up of around 150 fabulously decorated stalls selling Christmas spices, decorations and candles.\n",
            "\n",
            "Family attractions include the Christmas fairytale forest at Münsterplatz with activities such as gingerbread and candle decorating, a star workshop and a festive train.\n",
            "\n",
            "Attendees can also take a walk up the stairwell of St. Martin’s tower for incredible views of the lights illuminating the old town or sip on some mulled wine at the 13-meter high Christmas pyramid on Barfüsserplatz.\n",
            "\n",
            "Basel Christmas Market opens on November 28 and is scheduled to run until December 23.\n",
            "\n",
            "Strasbourg Christmas Market, France\n",
            "\n",
            "One of Europe’s oldest Christmas markets, Strasbourg began back in 1570, but it’s evolved considerably since then.\n",
            "\n",
            "Spread over more than 10 locations, the hugely popular market lights up the city with thousands of twinkling Christmas lights and festive ornaments.\n",
            "\n",
            "Drawing in over 2 million people a year, the festive market features hundreds of wooden chalet stalls selling everything from decorations and presents to local Alsatian wine.\n",
            "\n",
            "Place Kleber is probably its most popular spot thanks to the Great Christmas Tree on display. But visitors will be treated to countless magical sights while wandering through the city’s narrow alleyways and pretty squares.\n",
            "\n",
            "Strasbourg Christmas Market begins on November 27 and closes on December 27.\n",
            "\n",
            "Brussels Winter Wonders, Belgium\n",
            "\n",
            "This annual festive event has been lighting up the Belgium capital for over 20 years. Laia Ros/Getty Images\n",
            "\n",
            "Brussels really comes to life at Christmas time thanks to Winter Wonders, which is more akin to a festival than a market.\n",
            "\n",
            "One of Belgium’s biggest and most popular events, the annual extravaganza extends across the Bourse, Place de la Monnaie, Grand Place, Place Sainte Catherine and Marche aux Poissons.\n",
            "\n",
            "A light and sound show, ice skating and fairground rides are among the activities and places to enjoy, while visitors can also browse through about 200 or so chalets serving glühwein (mulled wine), Belgian beers and waffles and stare in wonder at the enormous Christmas tree erected in Grand Place.\n",
            "\n",
            "Brussels Winter Wonders will run from November 29 to January 5.\n",
            "\n",
            "Old Town Square and Wenceslas Square Christmas markets, Prague, Czech Republic\n",
            "\n",
            "To say the city of Prague goes all out at Christmas is something of an understatement. The Czech capital is the very definition of a winter wonderland during the festive period.\n",
            "\n",
            "While there’s no shortage of markets throughout the city, the main ones can be found in Old Town Square and Wenceslas Square. Thankfully these spots are only a few minutes’ walk apart, so revelers can easily visit both in a day.\n",
            "\n",
            "Old Town Square provides endless entertainment in the form of live shows, dance performances and creative workshops while Wenceslas Square is great for handmade gifts and local treats such as klobasa (Czech sausage) and mulled wine.\n",
            "\n",
            "The markets will be open from November 30 to January 6.\n",
            "\n",
            "Fira de Santa Llucia, Barcelona\n",
            "\n",
            "Set around Barcelona Cathedral, Fira de Santa Llucia has been around since 1786. Cisco Pelay/Alamy Stock Photo\n",
            "\n",
            "Dating back to 1786, Fira de Santa Llucia has grown from a one-day event to commemorate the feast day of Santa Llucia, which falls on December 13, to a three-week fair.\n",
            "\n",
            "Held right outside Barcelona Cathedral, the bustling market is separated into four sections.\n",
            "\n",
            "The first is Nativity and Figurines, where visitors can pick up Nativity scene type decorations and figurines. The Greenery and Plants section is packed with both natural and artificial trees and, of course, plants.\n",
            "\n",
            "The Crafts section features handmade products and jewelry, while the Simbombes section is mainly made up musical instruments.\n",
            "\n",
            "There are also many festive activities such as storytelling, a Christmas parade and the Caga Tió, an enormous, piñata-style Christmas log that spills out candy and gifts when beaten with a stick.\n",
            "\n",
            "Fira de Santa Llucia will be taking place from November 29 to December 23.\n",
            "\n",
            "I Mercati Natale, Piazza Santa Croce, Florence\n",
            "\n",
            "This traditional fair is held at the Piazza Santa Croce in Florence, Italy, every year. dan74/Alamy Stock Photo\n",
            "\n",
            "There’s much to see at this enchanting market, but nothing can top the beautiful backdrop supplied by Santa Croce’s Franciscan Basilica.\n",
            "\n",
            "Although this traditional fair, also known as Weihnachtsmarkt, is based on German street markets, it’s a very Italian affair in many ways thanks to the scenery and the many Italian treats, such as panforte, for sale.\n",
            "\n",
            "However, there’s certainly no shortage of gingerbread, strudel and traditional Heidelberg Lebkuchen cookies.\n",
            "\n",
            "Those who take a walk to the nearby Piazza del Duomo will be treated to a magnificent nativity scene, as well as an impressive Christmas tree that’s lit up ahead of the Feast of the Immaculate Conception on December 8.\n",
            "\n",
            "I Mercati Natale begins on November 23 and runs to December 22.\n",
            "\n",
            "Advent in Zagreb, Croatia\n",
            "\n",
            "It’s easy to see why Zagreb was voted the “best Christmas market destination” in travel portal European Best Destinations’ online poll for three consecutive years.\n",
            "\n",
            "Made up of around 25 Christmas markets spread across the Croatian capital, Advent in Zagreb is a magical sight.\n",
            "\n",
            "Think live Nativity scenes, ice sculpture carvings, outdoor gigs, pop-up bars and a Christmas tram complete with Santa and his elves.\n",
            "\n",
            "Advent in Zagreb also has an area devoted to “fooling around” (or “fuliranje”) where you’ll find delighted revelers dancing in the street while eating street food and listening to live entertainment.\n",
            "\n",
            "Advent in Zagreb 2024 is scheduled to run from November 30 to January 7.\n",
            "\n",
            "Christmas in Tivoli, Copenhagen, Denmark\n",
            "\n",
            "Visited several times by Walt Disney before he developed Disneyland, this Danish amusement park and pleasure garden is a dazzling place to visit any time of year.\n",
            "\n",
            "But you’ll struggle to find anywhere as enchanting as Tivoli Gardens during the festive period.\n",
            "\n",
            "With more than 1,000 beautifully decorated Christmas trees adorning the beautiful grounds, and everything from fairground rides to a traditional Pixie Band for entertainment, it’s a winter experience like no other.\n",
            "\n",
            "The annual Lucia procession on December 13, where more than 100 girls process through the gardens carrying candles and singing to mark St. Lucia’s Day, is a particular highlight, along with the firework displays that take place between December 25 and 26, as well as New Year’s Eve.\n",
            "\n",
            "Christmas in Tivoli is taking place from November 15 to January 5.\n",
            "\n",
            "Tallinn Christmas Market, Estonia\n",
            "\n",
            "Estonia's Tallinn Christmas Market is held annually in the Town Hall Square. jaanalisette/iStockphoto/Getty Images\n",
            "\n",
            "The Estonian capital’s annual affair is one of the more modern European Christmas markets.\n",
            "\n",
            "Set inside Tallinn’s Town Hall Square, it’s packed full of stalls with traditional Estonian cuisine, artisan bread and handicrafts for sale.\n",
            "\n",
            "On the entertainment front, there are carousels, a winter grotto and a Santa who rolls up on a sleigh complete with reindeer.\n",
            "\n",
            "Visitors are also treated to regular performances by dance troupes and choirs.\n",
            "\n",
            "But as with many such markets, the Christmas tree is the main event. Tallinn’s tree has been displayed here since 1441.\n",
            "\n",
            "Tallinn Christmas Market 2024 is due to take place from November 22 to December 27.\n",
            "\n",
            "Skansen’s Christmas Market, Stockholm\n",
            "\n",
            "Stockholm isn’t exactly lacking when it comes to Christmas markets, but none are more traditional than Skansen.\n",
            "\n",
            "Set on the island of Djurgarden in the world’s oldest open-air museum, it’s a wonderful exhibit of Swedish culture with some added yuletide magic.\n",
            "\n",
            "The historical houses on display in the museum are decked out in colorful decorations for the occasion, and all the tables inside are set up for Christmas dinner.\n",
            "\n",
            "Visitors can make their own decorations at Christmas workshops, participate in regularly held craft demonstrations or join the dancing games around the tree at Bollnäs Square, Skansen’s main site.\n",
            "\n",
            "Skansen’s Christmas Market is open on Fridays, Saturdays and Sundays from November 29 until December 22.\n",
            "\n",
            "Tuomaan Markkinat, Helsinki\n",
            "\n",
            "Tuomaan Markkinat is the oldest outdoor Christmas market in the Finnish capital. Ryhor Bruyeu/Alamy Stock Photo\n",
            "\n",
            "This wonderfully Nordic Christmas market is held in Helsinki’s Senate Square, near the Emperor Alexander II statue.\n",
            "\n",
            "Tuomaan Markkinat’s centerpiece is a vintage carousel, but the countless vendors selling traditional Christmas delicacies, glögi (Finland’s take on mulled wine) and handicrafts are also a big draw.\n",
            "\n",
            "Younger attendees can visit Santa Claus, who has his own wooden cabin here, and join festive activities such as Christmas cookie decorating. The market’s food court is particularly impressive with a host of top eateries from which to choose.\n",
            "\n",
            "Tuomaan Markkinat is set to run from November 29 to December 22.\n",
            "\n",
            "St. Stephen’s Basilica and Vörösmarty Square markets, Budapest, Hungary\n",
            "\n",
            "Budapest has two main festive markets: St. Stephen’s Basilica Christmas market, or Advent Bazilika, and Vörösmarty Square Christmas market.\n",
            "\n",
            "The former takes place in front of the famous basilica, where crowds gather to watch the regular 3D light shows that are projected onto its facade. In addition, there are around 150 stalls with vendors selling sweet treats, wine and arts and crafts.\n",
            "\n",
            "Meanwhile, the Vörösmarty Square market is positioned in the heart of the city and attracts more than 800,000 visitors annually.\n",
            "\n",
            "Its main highlight is usually a giant Advent calendar that reveals a new window display on a daily basis from December 1 to 23, although the fantastic Hungarian foods that line its stalls – langos and chimney cake – are also particular standouts.\n",
            "\n",
            "Advent Bazilika opens on November 15 and runs to January 1.\n",
            "\n",
            "The Vörösmarty Square Christmas market will open on November 15 and close on December 31.\n",
            "\n",
            "Christkindlesmarkt and Gendarmenmarkt, Germany\n",
            "\n",
            "Gendarmenmarkt is one of Berlin's most enchanting annual festive markets. Massimo Borchi/Atlantide Photo/Stockbyte Unreleased/Getty Images\n",
            "\n",
            "Open-air winter street markets have long been associated with Germany, and the European country is home to some of the oldest and most visited festive markets.\n",
            "\n",
            "Capital city Berlin has around 80 of them, but Gendarmenmark is perhaps its most renowned.\n",
            "\n",
            "Positioned between the Franzosischer Dom and Deutscher Dom, it’s a maze of wooden huts with bratwurst, mulled wine and ginger bread for sale, along with special Christmas gifts. At night, visitors can enjoy nightly concerts with dance and musical performances.\n",
            "\n",
            "Over in Nuremberg, Bavaria’s second-largest city, the famous Christkindlesmarkt has been around since the 16th century. During the Christmas period, around 200 stands are erected in the city’s central market square, and the whole area is abuzz with activity.\n",
            "\n",
            "The market usually draws in around 2 million people every year and is undoubtedly one of Nuremberg’s annual highlights.\n",
            "\n",
            "Nuremberg Christkindlesmarkt 2024 kicks off on November 29 and ends on December 24.\n",
            "\n",
            "Gendarmenmarkt opens on November 25 and is set to close on December 31.\n",
            "\n",
            "Hyde Park Winter Wonderland, London\n",
            "\n",
            "Hyde Park Winter Wonderland is one of the most highly anticipated winter events in the UK capital.\n",
            "\n",
            "The festive favorite, which began in 2005, brings in huge crowds every year thanks to its 200-plus rides, including a 70-meter-high big wheel, mulled wine stations and an outdoor skating rink, which happens to be the largest in the United Kingdom.\n",
            "\n",
            "Visitors can also join ice sculpting workshops, watch a circus troupe, listen to live music at the lively Fire Pit bar or tuck into some of the many foods on offer at the Street Food Village.\n",
            "\n",
            "Hyde Park Winter Wonderland is scheduled to open on November 21 and will continue until January 5.\n",
            "\n",
            "Edinburgh at Christmas, Scotland\n",
            "\n",
            "Scottish capital Edinburgh stages numerous winter events, including the fabulously festive Christmas Market at Princes Street Gardens. Jeff J Mitchell/Getty Images\n",
            "\n",
            "From an ice rink to immersive light displays, the Scottish capital’s historic city center is abuzz with festive markets and attractions throughout winter.\n",
            "\n",
            "Over in popular urban park East Princes Street Garden, there’s a traditional Christmas market with up to 70 stalls and a 46-meter tall Ferris wheel, the largest in the country.\n",
            "\n",
            "Revelers are treated to spectacular views of the iconic Scott Monument, along with Edinburgh Castle, where the after-dark Castle of Light attraction will be held from late November to early January.\n",
            "\n",
            "Meanwhile, a Christmas tree maze that features 450 illuminated trees can be found at St. Andrew Square Garden. Skaters might like a popular ice rink at George Street, one of the city’s top shopping spots.\n",
            "\n",
            "The Christmas market at East Princes Street Gardens, Edinburgh’s main festive market, will be open from November 15 until January 4.\n",
            "\n",
            "Krakow Christmas Market, Poland\n",
            "\n",
            "Krakow Christmas Market, held in the city's central square, draws in big crowds every year. Dominika Zarzycka/NurPhoto via AP\n",
            "\n",
            "Stretched across a huge section of Rynek Glowny, the Polish city’s central square, Krakow Christmas Market is among the largest in Europe.\n",
            "\n",
            "Historic landmark St. Mary’s Basilica serves as a stunning backdrop to the yearly event, which has been around since the early 14th century, as does the Renaissance Cloth Hall.\n",
            "\n",
            "Revelers can tuck into Polish delicacies such as kiełbasa (sausage), shop for handcrafted gifts or treats and take in live music from folk bands and carol singers.\n",
            "\n",
            "The market also hosts a competition in which participants, including schoolchildren and local artists, create small Nativity scenes, or cribs. They are displayed at the statue of Polish poet Adam Mickiewicz, situated in the square, before a winner is chosen.\n",
            "\n",
            "Krakow Christmas Market will be held from November 29 to January 1.\n",
            "\n",
            "Bratislava Christmas Fair, Slovakia\n",
            "\n",
            "Dotted across various locations around the Slovakian capital, including the Main Square and Franciscan Square, the Bratislava Christmas Fair is a wonderfully magical affair.\n",
            "\n",
            "With stalls selling everything from mulled wine to traditional delicacies, a huge Christmas tree and live performances, the annual market showcases some of the best traditions of the Slovakian Christmas season.\n",
            "\n",
            "While there are various ways to reach the main event, a ride on the free Christmas tram, which runs through the city center throughout the festive period, is probably the most fun method.\n",
            "\n",
            "Bratislava Christmas Fair will be held from November 22 to January 6.\n",
            "\n",
            "Christmas Wonderland at Gardens by the Bay, Singapore\n",
            "\n",
            "Now in its 11th year, Singapore’s Christmas Wonderland is continuing to grow in popularity.\n",
            "\n",
            "Staged at the famous Gardens by the Bay nature park, the event lasts around four weeks and covers more than 27,000 square meters. Packed with attractions, it features fairground rides, a Christmas train, light and sound shows, carnival games and live performances.\n",
            "\n",
            "The 20-meter-tall Spalliera, a magnificent design inspired by Mesola Castle in northern Italy is one of the main highlights, along with the stunning Walk of Lights, which is illuminated by around thousand of bulbs.\n",
            "\n",
            "Christmas Wonderland at Gardens by the Bay opens on November 29 and closes on January 1.\n",
            "\n",
            "The Distillery Winter Village, Toronto\n",
            "\n",
            "The Distillery District Winter Village in Toronto will kick off with a tree lighting ceremony on November 13. Steve Russell/Toronto Star via Getty Images\n",
            "\n",
            "Formerly known as the Toronto Christmas Market, the Distillery Winter Village is an intimate and charming take on the traditional European festive market.\n",
            "\n",
            "Held in the historic Distillery District, it features outdoor shopping cabins and food vendors, Christmas carol sing-a-longs, a gingerbread hunt and a 50-foot Christmas tree.\n",
            "\n",
            "Visitors will be able to find everything from artisanal food, handcrafted gifts and festive drinks at the numerous stalls here.\n",
            "\n",
            "The Distillery Winter Village 2024 will be open on Thursdays, Fridays, Saturdays and Sundays from November 12 to December 31.\n",
            "\n",
            "Winter Village at Bryant Park, New York\n",
            "\n",
            "Skaters on the ice skating rink at night at Bank of America Winter Village at Bryant Park. Colin Miller/Courtesy BoA Winter Village at Bryant Park\n",
            "\n",
            "Each and every year, Manhattan’s Bryant Park is transformed into a magnificent wonderland for the Winter Village.\n",
            "\n",
            "The renowned open-air market is a wonderful sight to behold, with over 150 custom-designed kiosks and a 17,000-square-foot outdoor ice rink that’s free to use provided you have your own skates. Its rinkside bar and food hall The Lodge provides an eclectic mix of eateries, along with an outdoor beer garden and a cocktail bar.\n",
            "\n",
            "Outside the Winter Village, the Josephine Shaw Lowell Fountain is at its most beautiful during winter time, when it regularly freezes over.\n",
            "\n",
            "The Bank of America Winter Village at Bryant Park opened on October 25 and is scheduled to run until March 2.\n",
            "\n",
            "Christkindlmarket Chicago\n",
            "\n",
            "First launched in 1996, Christkindlmarket Chicago takes inspiration from the historic Christkindelmarkt in Nuremberg, Germany, bringing a taste of traditional German Christmas markets to the Windy City.\n",
            "\n",
            "The hugely popular market will be staged across two locations – Daley Plaza in Chicago and RiverEdge Park in nearby Aurora. It provides live entertainment alongside a multitude of stalls selling everything from bratwurst and hot spiced wine, to hand-crafted ornaments.\n",
            "\n",
            "Admission is free, but those attending the Daley Plaza market who are keen to skip the crowds have the option to purchase a $25 fast-entry pass on weekends.\n",
            "\n",
            "Christkindlmarket Chicago at Daley Plaza will run daily from November 22 to December 24.\n",
            "\n",
            "Christkindlmarket Chicago at RiverEdge Park will run daily on Thursdays, Fridays, Saturdays and Sundays from November 22 to December 24.\n",
            "\n",
            "The information in this article was current at the time of publishing. Check websites for any updated information before you make plans.\n"
          ]
        }
      ]
    },
    {
      "cell_type": "markdown",
      "source": [
        "👋 ⚒ Use the above article or a news article of your choice and print the number of unique words in the text."
      ],
      "metadata": {
        "id": "a3xklUvEXbd1"
      }
    },
    {
      "cell_type": "code",
      "source": [
        "# Calculate and print the number of unique words in the text\n",
        "\n",
        "unique_words = set(article.text.split())    # splits article at space char\n",
        "\n",
        "print(sorted(unique_words))\n",
        "print(len(unique_words))\n",
        "\n",
        "# NB: output still includes numbers, punctuation and possesive markers\n",
        "# NB: still distinguishes between uppercase and lowercase representations of the\n",
        "# same underlying form"
      ],
      "metadata": {
        "id": "knGLoU0kXaZb",
        "outputId": "0d5979df-f48c-42ee-e3aa-c887c1d68e67",
        "colab": {
          "base_uri": "https://localhost:8080/"
        }
      },
      "execution_count": 49,
      "outputs": [
        {
          "output_type": "stream",
          "name": "stdout",
          "text": [
            "['$25', '(Czech', '(Finland’s', '(mulled', '(or', '(sausage),', '1', '1,000', '1.', '10', '100', '110-square-meter', '11th', '12', '1298', '13,', '13-meter', '13.', '1441.', '14th', '15', '150', '1570,', '16', '16th', '17,000-square-foot', '1786,', '1786.', '1996,', '2', '2.', '20', '20-meter-tall', '200', '200-plus', '2005,', '2024', '21', '22', '22.', '23', '23,', '23.', '24.', '25', '26,', '26.', '27', '27,000', '27.', '28', '29', '30', '31.', '3D', '4.', '450', '46-meter', '5.', '50-foot', '6.', '7.', '70', '70-meter-high', '8.', '80', '800,000', 'A', 'AP', 'Adam', 'Admission', 'Advent', 'Alexander', 'Alsatian', 'Although', 'America', 'Andrew', 'At', 'Attendees', 'Aurora.', 'Austria', 'Austrian', 'Band', 'Bank', 'Barcelona', 'Barfüsserplatz', 'Barfüsserplatz.', 'Basel', 'Basilica', 'Basilica.', 'Bavaria’s', 'Bay', 'Bay,', 'Bazilika', 'Bazilika,', 'Belgian', 'Belgium', 'Belgium’s', 'Berlin', \"Berlin's\", 'Best', 'BoA', 'Bollnäs', 'Borchi/Atlantide', 'Bourse,', 'Bratislava', 'Brussels', 'Bruyeu/Alamy', 'Bryant', 'Budapest', 'Budapest,', 'But', 'CNN', 'Caga', 'Capital', 'Castle', 'Castle,', 'Cathedral,', 'Catherine', 'Check', 'Chicago', 'Christkindelmarkt', 'Christkindlesmarkt', 'Christkindlmarket', 'Christkindlmarkt', 'Christkindlmarkt,', 'Christmas', 'Christmas,', 'Cisco', 'City', 'City.', 'Claus,', 'Cloth', 'Colin', 'Conception', 'Copenhagen,', 'Crafts', 'Croatia', 'Croatian', 'Croce', 'Croce,', 'Croce’s', 'Czech', 'Daley', 'Danish', 'Dating', 'Day,', 'December', 'Denmark', 'Destinations’', 'Deutscher', 'Disney', 'Disneyland,', 'Distillery', 'District', 'District,', 'Djurgarden', 'Dom', 'Dom,', 'Dominika', 'Dotted', 'Drawing', 'Dream', 'Duomo', 'During', 'Each', 'East', 'Edinburgh', 'Edinburgh’s', 'Emperor', 'Estonia', \"Estonia's\", 'Estonian', 'Europe.', 'European', 'Europe’s', 'Eve.', 'Fair', 'Fair,', 'Family', 'Feast', 'Ferris', 'Figurines,', 'Finnish', 'Fira', 'Fire', 'First', 'Florence', 'Florence,', 'Food', 'Formerly', 'Fountain', 'France', 'Franciscan', 'Franzosischer', 'Fridays,', 'From', 'Garden,', 'Garden.', 'Gardens', 'Gardens,', 'Gardens.', 'Gendarmenmark', 'Gendarmenmarkt', 'Gendarmenmarkt,', 'George', 'German', 'Germany', 'Germany,', 'Getty', 'Glowny,', 'Grand', 'Great', 'Greenery', 'Hall', 'Hall.', 'Hearts,', 'Heidelberg', 'Held', 'Helsinki', 'Helsinki’s', 'Here’s', 'Historic', 'However,', 'Hungarian', 'Hungary', 'Hyde', 'I', 'II', 'Images', 'Immaculate', 'In', 'It', 'Italian', 'Italy', 'Italy,', 'Its', 'It’s', 'J', 'January', 'January.', 'Jeff', 'Josephine', 'Kingdom.', 'Kleber', 'Krakow', 'Laia', 'Lebkuchen', 'Light', 'Lights,', 'Llucia', 'Llucia,', 'Lodge', 'London', 'Lowell', 'Lucia', 'Lucia’s', 'Made', 'Main', 'Manhattan’s', 'March', 'Marche', 'Market', 'Market,', 'Markkinat', 'Markkinat,', 'Markkinat’s', 'Martin’s', 'Mary’s', 'Massimo', 'Meanwhile,', 'Meinrad', 'Mercati', 'Mesola', 'Mickiewicz,', 'Miller/Courtesy', 'Mitchell/Getty', 'Monnaie,', 'Monument,', 'Most', 'Münsterplatz', 'Münsterplatz,', 'Natale', 'Natale,', 'Nativity', 'New', 'Nordic', 'November', 'Now', 'Nuremberg', 'Nuremberg,', 'Nuremberg’s', 'October', 'Old', 'On', 'One', 'Open-air', 'Outside', 'Over', 'Packed', 'Park', 'Park,', 'Park.', 'Pelay/Alamy', 'Photo', 'Photo/Stockbyte', 'Piazza', 'Pit', 'Pixie', 'Place', 'Place,', 'Place.', 'Plants', 'Plaza', 'Plenty', 'Poissons.', 'Poland', 'Polish', 'Positioned', 'Prague', 'Prague,', 'Princes', 'Rathausplatz)', 'Renaissance', 'Republic', 'Revelers', 'Riedo/imageBROKER/Shutterstock', 'RiverEdge', 'Ros/Getty', 'Russell/Toronto', 'Ryhor', 'Rynek', 'Sainte', 'Santa', 'Saturdays', 'Scotland', 'Scott', 'Scottish', 'Senate', 'Separated', 'Set', 'Shaw', 'Simbombes', 'Singapore', 'Singapore’s', 'Skansen.', 'Skansen’s', 'Skaters', 'Slovakia', 'Slovakian', 'Spalliera,', 'Spread', 'Square', 'Square,', 'Square.', 'St.', 'Staged', 'Star', 'Stephen’s', 'Steve', 'Stock', 'Stockholm', 'Strasbourg', 'Street', 'Street,', 'Stretched', 'Sundays', 'Swedish', 'Swiss', 'Switzerland', 'Switzerland.', 'Tallinn', 'Tallinn’s', 'Thankfully', 'The', 'There', 'There’s', 'They', 'Think', 'This', 'Those', 'Thursdays,', 'Tivoli', 'Tivoli,', 'Tió,', 'To', 'Toronto', 'Town', 'Travel’s', 'Tree', 'Tuomaan', 'UK', 'United', 'Unreleased/Getty', 'Vienna', 'Vienna’s', 'Viennese', 'Village', 'Village,', 'Village.', 'Visited', 'Visitors', 'Vörösmarty', 'Walk', 'Walt', 'Weihnachtsmarkt,', 'Wenceslas', 'While', 'Wiener', 'Windy', 'Winter', 'With', 'Wonderland', 'Wonderland,', 'Wonders', 'Wonders,', 'Year’s', 'York', 'York,', 'Younger', 'Zagreb', 'Zagreb,', 'Zarzycka/NurPhoto', 'a', 'able', 'about', 'abuzz', 'across', 'activities', 'activity.', 'added', 'addition,', 'adorning', 'affair', 'affair.', 'after-dark', 'ahead', 'akin', 'all', 'alleyways', 'along', 'alongside', 'also', 'although', 'among', 'amusement', 'an', 'and', 'and,', 'annual', 'annually', 'annually.', 'anticipated', 'any', 'anywhere', 'apart,', 'are', 'area', 'arguably', 'around', 'around.', 'around”', 'article', 'artificial', 'artisan', 'artisanal', 'artists,', 'arts', 'as', 'associated', 'at', 'atmosphere', 'attendees', 'attending', 'attraction', 'attractions', 'attractions,', 'attracts', 'aux', 'back', 'backdrop', 'bands', 'bar', 'bar.', 'bars', 'based', 'basilica,', 'basis', 'be', 'beaten', 'beautiful', 'beautifully', 'become', 'been', 'beer', 'beers', 'before', 'began', 'begins', 'behold,', 'best', 'better', 'between', 'big', 'biggest', 'both', 'bratwurst', 'bratwurst,', 'bread', 'bring', 'bringing', 'brings', 'browse', 'bulbs.', 'bustling', 'but', 'by', 'cabin', 'cabins', 'cake', 'calendar', 'can', 'candle', 'candles', 'candles.', 'candy', 'capital', 'capital,', 'capital.', 'capital’s', 'carnival', 'carol', 'carousel,', 'carousels,', 'carrying', 'carvings,', 'center', 'centerpiece', 'central', 'centuries.', 'century,', 'century.', 'ceremony', 'certainly', 'chalet', 'chalets', 'charming', 'children’s', 'chimney', 'choirs.', 'choose,', 'choose.', 'chosen.', 'circus', 'city', \"city's\", 'city,', 'city’s', 'classic', 'close', 'closes', 'cocktail', 'colorful', 'comes', 'commemorate', 'competition', 'complete', 'concerts', 'consecutive', 'considerably', 'continue', 'continuing', 'cookie', 'cookies,', 'cookies.', 'countless', 'country', 'country.', 'course,', 'court', 'covers', 'coveted', 'craft', 'crafts.', 'create', 'creative', 'cribs.', 'crowds', 'cuisine,', 'culture', 'current', 'custom-designed', 'daily', 'dan74/Alamy', 'dance', 'dancing', 'day', 'day.', 'dazzling', 'de', 'decked', 'decorated', 'decorating,', 'decorating.', 'decorations', 'definition', 'del', 'delicacies', 'delicacies,', 'delighted', 'demonstrations', 'design', 'destination', 'destination”', 'developed', 'devoted', 'difficult', 'dinner.', 'display', 'display.', 'displayed', 'displays', 'displays,', 'does', 'doesn’t', 'draw.', 'draws', 'drinks', 'due', 'during', 'early', 'easily', 'easy', 'eateries', 'eateries,', 'eating', 'eclectic', 'elves.', 'encapsulates', 'enchanting', 'endless', 'ends', 'enjoy', 'enjoy,', 'enormous', 'enormous,', 'entertainment', 'entertainment,', 'entertainment.', 'erected', 'event', 'event,', 'event.', 'events', 'events,', 'events.', 'every', 'everything', 'evolved', 'exactly', 'exhibit', 'experience', 'extends', 'extravaganza', 'fabulously', 'facade.', 'fact,', 'fair', 'fair,', 'fair.', 'fairground', 'fairytale', 'falls', 'famous', 'fantastic', 'fantastically.', 'fast-entry', 'favorite', 'favorite,', 'feast', 'features', 'festival', 'festive', 'few', 'figurines.', 'find', 'firework', 'first', 'folk', 'food', 'food,', 'foods', 'for', 'forest', 'form', 'former', 'found', 'four', 'free', 'free,', 'freezes', 'from', 'front', 'front,', 'full', 'fun', 'games', 'garden', 'gardens', 'gather', 'giant', 'gifts', 'gifts.', 'gigs,', 'ginger', 'gingerbread', 'gingerbread,', 'girls', 'glittering', 'glögi', 'glühwein', 'goes', 'great', 'grotto', 'grounds,', 'grow', 'grown', 'hall', 'hand-crafted', 'handcrafted', 'handicrafts', 'handmade', 'happens', 'hard', 'has', 'have', 'he', 'heart', 'hearts,', 'held', 'here', 'here,', 'here.', 'high', 'highlight', 'highlight,', 'highlights,', 'highlights.', 'highly', 'his', 'historic', 'historical', 'hold', 'home', 'homemade', 'host', 'hosts', 'hot', 'houses', 'huge', 'hugely', 'hundreds', 'hunt', 'huts', 'ice', 'iconic', 'illuminated', 'illuminating', 'immersive', 'impressive', 'in', 'include', 'including', 'incredible', 'incredible.', 'information', 'inside', 'inspiration', 'inspired', 'instruments.', 'intimate', 'into', 'is', 'island', 'isn’t', 'it', 'its', 'it’s', 'jaanalisette/iStockphoto/Getty', 'jewelry,', 'join', 'keen', 'kick', 'kicks', 'kiełbasa', 'kiosks', 'klobasa', 'known', 'la', 'lacking', 'landmark', 'langos', 'largest', 'lasts', 'late', 'launched', 'life', 'light', 'lighting', 'lights', 'like', 'line', 'listen', 'listening', 'lit', 'live', 'lively', 'local', 'locations', 'locations,', 'log', 'long', 'made', 'magic.', 'magical', 'magnificent', 'main', 'mainly', 'make', 'many', 'maple', 'mark', 'market', 'market,', 'market.', 'markets', 'markets,', 'markets.', 'markets:', 'market’s', 'maze', 'meters.', 'method.', 'might', 'million', 'minutes’', 'mix', 'modern', 'more', 'most', 'much', 'mulled', 'multitude', 'museum', 'museum,', 'music', 'musical', 'narrow', 'nativity', 'natural', 'nature', 'near', 'nearby', 'new', 'night', 'night,', 'nightly', 'no', 'none', 'northern', 'nothing', 'numerous', 'occasion,', 'of', 'off', 'offer', 'old', 'oldest', 'on', 'one', 'one-day', 'ones', 'online', 'only', 'onto', 'open', 'open-air', 'opened', 'opens', 'opportunity.', 'option', 'or', 'ornaments.', 'other.', 'out', 'outdoor', 'outside', 'over', 'over.', 'own', 'packed', 'panforte,', 'parade', 'park', 'park,', 'participants,', 'participate', 'particular', 'particularly', 'pass', 'people', 'people.', 'performances', 'performances,', 'performances.', 'perhaps', 'period,', 'period.', 'photo', 'pick', 'piñata-style', 'place', 'places', 'plans.', 'plants.', 'pleasure', 'poet', 'poll', 'pop-up', 'popular', 'popularity.', 'portal', 'positioned', 'presents', 'pretty', 'probably', 'process', 'procession', 'products', 'projected', 'provided', 'provides', 'publishing.', 'punch.', 'purchase', 'pyramid', 'quite', 'reach', 'really', 'recorded', 'regular', 'regularly', 'reindeer', 'reindeer.', 'renowned', 'renowned.', 'reveals', 'revelers', 'ride', 'rides', 'rides,', 'right', 'right.', 'rink', 'rink,', 'rinkside', 'rolls', 'run', 'rundown', 'runs', 'sale,', 'sale.', 'sausage)', 'sausages', 'say', 'scene', 'scene,', 'scenery', 'scenes,', 'scheduled', 'schoolchildren', 'sculpting', 'sculpture', 'season.', 'second-largest', 'section', 'sections', 'sections.', 'see', 'selling', 'separated', 'serves', 'serving', 'set', 'several', 'shop', 'shopping', 'shortage', 'show,', 'showcases', 'shows', 'shows,', 'sight', 'sight.', 'sights', 'since', 'sing-a-longs,', 'singers.', 'singing', 'sip', 'site.', 'situated', 'skates.', 'skating', 'skip', 'sleigh', 'small', 'so', 'some', 'something', 'sound', 'special', 'spectacle', 'spectacular', 'spiced', 'spices,', 'spills', 'spirit', 'spot', 'spots', 'spots.', 'spread', 'square', 'square,', 'squares.', 'staged', 'stages', 'stairwell', 'stalls', 'standouts.', 'stands', 'star', 'stare', 'stations', 'statue', 'statue.', 'stick.', 'storytelling,', 'street', 'strudel', 'struggle', 'stunning', 'such', 'supplied', 'sweet', 'tables', 'take', 'taken', 'takes', 'taking', 'tall', 'taste', 'tasty', 'than', 'thanks', 'that', 'that’s', 'the', 'their', 'them,', 'then.', 'there', 'there’s', 'these', 'they’ve', 'this', 'those', 'thousand', 'thousands', 'three', 'three-week', 'through', 'throughout', 'time', 'time,', 'times', 'to', 'top', 'tourist', 'tower', 'town', 'towns', 'traced', 'tradition', 'traditional', 'traditions', 'train,', 'train.', 'tram', 'tram,', 'transformed', 'travel', 'treated', 'treats', 'treats,', 'tree', 'tree.', 'trees', 'troupe,', 'troupes', 'tuck', 'twinkling', 'two', 'type', 'understatement.', 'undoubtedly', 'until', 'up', 'updated', 'urban', 'use', 'usually', 'various', 'vendors', 'vendors,', 'very', 'via', 'views', 'vintage', 'visit', 'visited', 'visitors', 'voted', 'waffles', 'walk', 'wandering', 'was', 'watch', 'ways', 'websites', 'weekends.', 'weeks', 'well', 'wheel', 'wheel,', 'when', 'where', 'which', 'while', 'who', 'whole', 'why', 'will', 'window', 'wine', 'wine)', 'wine),', 'wine,', 'wine.', 'winner', 'winter', 'winter.', 'with', 'wonder', 'wonderful', 'wonderfully', 'wonderland', 'wooden', 'workshop', 'workshops', 'workshops,', 'world', 'world’s', 'year', 'year,', 'year.', 'year:', 'yearly', 'years.', 'you', 'your', 'you’ll', 'yuletide', '–', '—', '“best', '“fooling', '“fuliranje”)']\n",
            "1188\n"
          ]
        }
      ]
    },
    {
      "cell_type": "markdown",
      "source": [
        "## **Preprocessing**"
      ],
      "metadata": {
        "id": "2DMEt4uoXgFG"
      }
    },
    {
      "cell_type": "markdown",
      "source": [
        "👋 ⚒ Now perform the following preprocessing steps and see how the number of unique words changes:\n",
        "\n",
        "1. Lowercase all words in the text.\n",
        "2. Remove punctuation markers and numbers (Hint: `string.isalpha()).\n",
        "3. Lemmatize all words in the text."
      ],
      "metadata": {
        "id": "pZjKWTTZX3m-"
      }
    },
    {
      "cell_type": "code",
      "source": [
        "# Preprocess the text with all three steps and then calculate the number of\n",
        "# unique words in the text again\n",
        "\n",
        "# NB: at first I tried a different approach where I preprocessed manually before\n",
        "# putting the input into the SpaCy nlp pipeline\n",
        "# In the end I sticked to the second solution as the output is not as restricted\n",
        "# as in the first solution\n",
        "\n",
        "import spacy\n",
        "import string\n",
        "\n",
        "\"\"\"\n",
        "nlp = spacy.load(\"en_core_web_sm\")\n",
        "text = article.text.lower()\n",
        "\n",
        "tokens_2 = []\n",
        "for word in text.split():\n",
        "  if word.isalpha():\n",
        "    tokens_2.append(word)\n",
        "\n",
        "text_no_punctuation = \" \".join(tokens_2)\n",
        "doc = nlp(text_no_punctuation)\n",
        "\n",
        "unique_lemmas = set()\n",
        "for token in doc:\n",
        "  unique_lemmas.add(token.lemma_)\n",
        "\n",
        "print(sorted(unique_lemmas))\n",
        "print(len(unique_lemmas))\n",
        "\"\"\"\n",
        "\n",
        "nlp = spacy.load(\"en_core_web_sm\")\n",
        "text = article.text.lower()   # lowercase input\n",
        "\n",
        "doc = nlp(text)\n",
        "\n",
        "tokens = set()\n",
        "for token in doc:\n",
        "  if token.is_alpha:\n",
        "    tokens.add((token.lemma_))   # add lemmatized word to set\n",
        "\n",
        "\n",
        "print(sorted(tokens))   # reconvert set into sortable list\n",
        "print(len(tokens))    # print number of unique lemmas\n",
        "\n",
        "# Observation: lemmatizer returns \"i\" in its standard form \"I\""
      ],
      "metadata": {
        "id": "-p7kAp-ZYNz7",
        "outputId": "4c2d6c69-0999-48a0-f8ad-8f05828bb634",
        "colab": {
          "base_uri": "https://localhost:8080/"
        }
      },
      "execution_count": 50,
      "outputs": [
        {
          "output_type": "stream",
          "name": "stdout",
          "text": [
            "['I', 'a', 'able', 'about', 'abuzz', 'across', 'activity', 'adam', 'add', 'addition', 'admission', 'adorn', 'advent', 'affair', 'after', 'ahead', 'air', 'akin', 'alamy', 'alexander', 'all', 'alleyway', 'along', 'alongside', 'alsatian', 'also', 'although', 'america', 'among', 'amusement', 'an', 'and', 'andrew', 'annual', 'annually', 'anticipate', 'any', 'anywhere', 'ap', 'apart', 'area', 'arguably', 'around', 'art', 'article', 'artificial', 'artisan', 'artisanal', 'artist', 'as', 'associate', 'at', 'atlantide', 'atmosphere', 'attend', 'attendee', 'attract', 'attraction', 'aurora', 'austria', 'austrian', 'aux', 'back', 'backdrop', 'band', 'bank', 'bar', 'barcelona', 'barfüsserplatz', 'base', 'basel', 'basilica', 'basis', 'bavaria', 'bay', 'bazilika', 'be', 'beat', 'beautiful', 'beautifully', 'become', 'beer', 'before', 'begin', 'behold', 'belgian', 'belgium', 'berlin', 'between', 'big', 'boa', 'bollnäs', 'borchi', 'both', 'bourse', 'bratislava', 'bratwurst', 'bread', 'bring', 'browse', 'brussels', 'bruyeu', 'bryant', 'budap', 'budapest', 'bulb', 'bustling', 'but', 'by', 'cabin', 'caga', 'cake', 'calendar', 'can', 'candle', 'candy', 'capital', 'carnival', 'carol', 'carousel', 'carry', 'carving', 'castle', 'cathedral', 'catherine', 'center', 'centerpiece', 'central', 'century', 'ceremony', 'certainly', 'chalet', 'charming', 'check', 'chicago', 'child', 'chimney', 'choir', 'choose', 'christkindelmarkt', 'christkindlesmarkt', 'christkindlmarket', 'christkindlmarkt', 'christmas', 'circus', 'cisco', 'city', 'classic', 'claus', 'close', 'cloth', 'cnn', 'cocktail', 'colin', 'colorful', 'come', 'commemorate', 'competition', 'complete', 'conception', 'concert', 'consecutive', 'considerably', 'continue', 'cookie', 'copenhagen', 'countless', 'country', 'course', 'court', 'courtesy', 'cover', 'coveted', 'craft', 'create', 'creative', 'crib', 'croatia', 'croatian', 'croce', 'crowd', 'cuisine', 'culture', 'current', 'custom', 'czech', 'daily', 'daley', 'dance', 'dancing', 'danish', 'dark', 'date', 'day', 'dazzling', 'de', 'december', 'deck', 'decorate', 'decorating', 'decoration', 'definition', 'del', 'delicacy', 'delighted', 'demonstration', 'denmark', 'design', 'destination', 'deutscher', 'develop', 'devote', 'difficult', 'dinner', 'disney', 'disneyland', 'display', 'distillery', 'district', 'djurgarden', 'do', 'dom', 'dominika', 'dot', 'draw', 'dream', 'drink', 'due', 'duomo', 'during', 'each', 'early', 'easily', 'east', 'easy', 'eat', 'eatery', 'eclectic', 'edinburgh', 'elf', 'emperor', 'encapsulate', 'enchant', 'enchanting', 'end', 'endless', 'enjoy', 'enormous', 'entertainment', 'entry', 'erect', 'estonia', 'estonian', 'europe', 'european', 'eve', 'event', 'every', 'everything', 'evolve', 'exactly', 'exhibit', 'experience', 'extend', 'extravaganza', 'fabulously', 'facade', 'fact', 'fair', 'fairground', 'fairytale', 'fall', 'family', 'famous', 'fantastic', 'fantastically', 'fast', 'favorite', 'feast', 'feature', 'ferris', 'festival', 'festive', 'few', 'figurine', 'find', 'finland', 'finnish', 'fira', 'fire', 'firework', 'first', 'florence', 'folk', 'food', 'fool', 'foot', 'for', 'forest', 'form', 'former', 'formerly', 'fountain', 'four', 'france', 'franciscan', 'franzosischer', 'free', 'freeze', 'friday', 'from', 'front', 'fuliranje', 'full', 'fun', 'game', 'garden', 'gardens', 'gather', 'gendarmenmark', 'gendarmenmarkt', 'george', 'german', 'germany', 'getty', 'giant', 'gift', 'gig', 'ginger', 'gingerbread', 'girl', 'glitter', 'glowny', 'glögi', 'glühwein', 'go', 'good', 'grand', 'great', 'greenery', 'grotto', 'ground', 'grow', 'hall', 'hand', 'handcraft', 'handicraft', 'handmade', 'happen', 'hard', 'have', 'he', 'heart', 'heidelberg', 'helsinki', 'here', 'high', 'highlight', 'highly', 'his', 'historic', 'historical', 'hold', 'home', 'homemade', 'host', 'hot', 'house', 'however', 'huge', 'hugely', 'hundred', 'hungarian', 'hungary', 'hunt', 'hut', 'hyde', 'ice', 'iconic', 'ii', 'illuminate', 'illuminated', 'image', 'imagebroker', 'immaculate', 'immersive', 'impressive', 'in', 'include', 'incredible', 'information', 'inside', 'inspiration', 'inspire', 'instrument', 'intimate', 'into', 'island', 'istockphoto', 'it', 'italian', 'italy', 'its', 'j', 'jaanalisette', 'january', 'jeff', 'jewelry', 'join', 'josephine', 'keen', 'kick', 'kiełbasa', 'kingdom', 'kiosk', 'kleber', 'klobasa', 'know', 'krakow', 'la', 'lacking', 'laia', 'landmark', 'lango', 'large', 'last', 'late', 'launch', 'lebkuchen', 'life', 'light', 'lighting', 'like', 'line', 'listen', 'live', 'lively', 'llucia', 'local', 'location', 'lodge', 'log', 'london', 'long', 'lowell', 'lucia', 'magic', 'magical', 'magnificent', 'main', 'mainly', 'make', 'manhattan', 'many', 'maple', 'march', 'marche', 'mark', 'market', 'markkinat', 'martin', 'mary', 'massimo', 'maze', 'meanwhile', 'meinrad', 'mercati', 'mesola', 'meter', 'method', 'mickiewicz', 'might', 'miller', 'million', 'minute', 'mitchell', 'mix', 'modern', 'monnaie', 'monument', 'more', 'most', 'much', 'mull', 'mulled', 'multitude', 'museum', 'music', 'musical', 'münsterplatz', 'narrow', 'natale', 'nativity', 'natural', 'nature', 'near', 'nearby', 'new', 'night', 'nightly', 'no', 'none', 'nordic', 'northern', 'nothing', 'november', 'now', 'numerous', 'nuremberg', 'nurphoto', 'occasion', 'october', 'of', 'off', 'offer', 'old', 'on', 'one', 'online', 'only', 'onto', 'open', 'opportunity', 'option', 'or', 'ornament', 'other', 'out', 'outdoor', 'outside', 'over', 'own', 'pack', 'panforte', 'parade', 'park', 'participant', 'participate', 'particular', 'particularly', 'pass', 'pelay', 'people', 'performance', 'perhaps', 'period', 'photo', 'piazza', 'pick', 'pit', 'pixie', 'piñata', 'place', 'plan', 'plant', 'plaza', 'pleasure', 'plenty', 'plus', 'poet', 'poisson', 'poland', 'polish', 'poll', 'pop', 'popular', 'popularity', 'portal', 'position', 'prague', 'present', 'pretty', 'prince', 'princes', 'probably', 'process', 'procession', 'product', 'project', 'provide', 'publishing', 'punch', 'purchase', 'pyramid', 'quite', 'rathausplatz', 'reach', 'really', 'record', 'regular', 'regularly', 'reindeer', 'renaissance', 'renowned', 'republic', 'reveal', 'reveler', 'ride', 'riedo', 'right', 'rink', 'rinkside', 'riveredge', 'roll', 'ros', 'run', 'rundown', 'russell', 'ryhor', 'rynek', 'sainte', 'sale', 'santa', 'saturday', 'sausage', 'say', 'scene', 'scenery', 'schedule', 'schoolchildren', 'scotland', 'scott', 'scottish', 'sculpt', 'sculpture', 'season', 'second', 'section', 'see', 'sell', 'senate', 'separate', 'serve', 'set', 'several', 'shaw', 'shop', 'shopping', 'shortage', 'show', 'showcase', 'shutterstock', 'sight', 'simbombe', 'since', 'sing', 'singapore', 'singer', 'singing', 'sip', 'site', 'situate', 'skansen', 'skate', 'skater', 'skating', 'skip', 'sleigh', 'slovakia', 'slovakian', 'small', 'so', 'some', 'something', 'sound', 'spalliera', 'special', 'spectacle', 'spectacular', 'spice', 'spiced', 'spill', 'spirit', 'spot', 'spread', 'square', 'st', 'stage', 'stairwell', 'stall', 'stand', 'standout', 'star', 'stare', 'station', 'statue', 'stephen', 'steve', 'stick', 'stock', 'stockbyte', 'stockholm', 'storytelling', 'strasbourg', 'street', 'stretch', 'strudel', 'struggle', 'stunning', 'style', 'such', 'sunday', 'supply', 'swedish', 'sweet', 'swiss', 'switzerland', 'table', 'take', 'tall', 'tallinn', 'taste', 'tasty', 'than', 'thank', 'thankfully', 'that', 'the', 'their', 'then', 'there', 'these', 'they', 'think', 'this', 'those', 'thousand', 'three', 'through', 'throughout', 'thursday', 'time', 'tivoli', 'tió', 'to', 'top', 'toronto', 'tourist', 'tower', 'town', 'trace', 'tradition', 'traditional', 'train', 'tram', 'transform', 'travel', 'treat', 'tree', 'troupe', 'tuck', 'tuomaan', 'twinkle', 'two', 'type', 'uk', 'understatement', 'undoubtedly', 'united', 'unreleased', 'until', 'up', 'update', 'urban', 'use', 'usually', 'various', 'vendor', 'very', 'via', 'vienna', 'viennese', 'view', 'village', 'vintage', 'visit', 'visitor', 'vote', 'vörösmarty', 'waffle', 'walk', 'walt', 'wander', 'watch', 'way', 'website', 'week', 'weekend', 'weihnachtsmarkt', 'well', 'wencesla', 'wenceslas', 'wheel', 'when', 'where', 'which', 'while', 'who', 'whole', 'why', 'wien', 'wiener', 'will', 'window', 'windy', 'wine', 'winner', 'winter', 'with', 'wonder', 'wonderful', 'wonderfully', 'wonderland', 'wooden', 'workshop', 'world', 'year', 'yearly', 'york', 'you', 'young', 'your', 'yuletide', 'zagreb', 'zarzycka']\n",
            "825\n"
          ]
        }
      ]
    },
    {
      "cell_type": "markdown",
      "source": [
        "## **NER**\n",
        "\n",
        "In the tutorial we have only used one of the different models available in spaCy. In this exercise, you will compare the performance of the different models of different sizes and implementations. A description of the type of available models is in the [spaCy documentation](https://spacy.io/models/en). First, the models to be used need to be installed. We will use the following three models."
      ],
      "metadata": {
        "id": "F81suSVkaS1v"
      }
    },
    {
      "cell_type": "code",
      "source": [
        "!python -m spacy download en_core_web_sm\n",
        "!python -m spacy download en_core_web_lg\n",
        "!python -m spacy download en_core_web_trf"
      ],
      "metadata": {
        "id": "2JRubivyaSBx",
        "outputId": "1661adcc-cf0d-49b4-8963-38d852ad069a",
        "colab": {
          "base_uri": "https://localhost:8080/"
        }
      },
      "execution_count": 51,
      "outputs": [
        {
          "output_type": "stream",
          "name": "stdout",
          "text": [
            "/usr/local/lib/python3.10/dist-packages/transformers/utils/generic.py:441: FutureWarning: `torch.utils._pytree._register_pytree_node` is deprecated. Please use `torch.utils._pytree.register_pytree_node` instead.\n",
            "  _torch_pytree._register_pytree_node(\n",
            "Collecting en-core-web-sm==3.7.1\n",
            "  Downloading https://github.com/explosion/spacy-models/releases/download/en_core_web_sm-3.7.1/en_core_web_sm-3.7.1-py3-none-any.whl (12.8 MB)\n",
            "\u001b[2K     \u001b[90m━━━━━━━━━━━━━━━━━━━━━━━━━━━━━━━━━━━━━━━━\u001b[0m \u001b[32m12.8/12.8 MB\u001b[0m \u001b[31m35.0 MB/s\u001b[0m eta \u001b[36m0:00:00\u001b[0m\n",
            "\u001b[?25hRequirement already satisfied: spacy<3.8.0,>=3.7.2 in /usr/local/lib/python3.10/dist-packages (from en-core-web-sm==3.7.1) (3.7.5)\n",
            "Requirement already satisfied: spacy-legacy<3.1.0,>=3.0.11 in /usr/local/lib/python3.10/dist-packages (from spacy<3.8.0,>=3.7.2->en-core-web-sm==3.7.1) (3.0.12)\n",
            "Requirement already satisfied: spacy-loggers<2.0.0,>=1.0.0 in /usr/local/lib/python3.10/dist-packages (from spacy<3.8.0,>=3.7.2->en-core-web-sm==3.7.1) (1.0.5)\n",
            "Requirement already satisfied: murmurhash<1.1.0,>=0.28.0 in /usr/local/lib/python3.10/dist-packages (from spacy<3.8.0,>=3.7.2->en-core-web-sm==3.7.1) (1.0.10)\n",
            "Requirement already satisfied: cymem<2.1.0,>=2.0.2 in /usr/local/lib/python3.10/dist-packages (from spacy<3.8.0,>=3.7.2->en-core-web-sm==3.7.1) (2.0.8)\n",
            "Requirement already satisfied: preshed<3.1.0,>=3.0.2 in /usr/local/lib/python3.10/dist-packages (from spacy<3.8.0,>=3.7.2->en-core-web-sm==3.7.1) (3.0.9)\n",
            "Requirement already satisfied: thinc<8.3.0,>=8.2.2 in /usr/local/lib/python3.10/dist-packages (from spacy<3.8.0,>=3.7.2->en-core-web-sm==3.7.1) (8.2.5)\n",
            "Requirement already satisfied: wasabi<1.2.0,>=0.9.1 in /usr/local/lib/python3.10/dist-packages (from spacy<3.8.0,>=3.7.2->en-core-web-sm==3.7.1) (1.1.3)\n",
            "Requirement already satisfied: srsly<3.0.0,>=2.4.3 in /usr/local/lib/python3.10/dist-packages (from spacy<3.8.0,>=3.7.2->en-core-web-sm==3.7.1) (2.4.8)\n",
            "Requirement already satisfied: catalogue<2.1.0,>=2.0.6 in /usr/local/lib/python3.10/dist-packages (from spacy<3.8.0,>=3.7.2->en-core-web-sm==3.7.1) (2.0.10)\n",
            "Requirement already satisfied: weasel<0.5.0,>=0.1.0 in /usr/local/lib/python3.10/dist-packages (from spacy<3.8.0,>=3.7.2->en-core-web-sm==3.7.1) (0.4.1)\n",
            "Requirement already satisfied: typer<1.0.0,>=0.3.0 in /usr/local/lib/python3.10/dist-packages (from spacy<3.8.0,>=3.7.2->en-core-web-sm==3.7.1) (0.12.5)\n",
            "Requirement already satisfied: tqdm<5.0.0,>=4.38.0 in /usr/local/lib/python3.10/dist-packages (from spacy<3.8.0,>=3.7.2->en-core-web-sm==3.7.1) (4.66.6)\n",
            "Requirement already satisfied: requests<3.0.0,>=2.13.0 in /usr/local/lib/python3.10/dist-packages (from spacy<3.8.0,>=3.7.2->en-core-web-sm==3.7.1) (2.32.3)\n",
            "Requirement already satisfied: pydantic!=1.8,!=1.8.1,<3.0.0,>=1.7.4 in /usr/local/lib/python3.10/dist-packages (from spacy<3.8.0,>=3.7.2->en-core-web-sm==3.7.1) (2.9.2)\n",
            "Requirement already satisfied: jinja2 in /usr/local/lib/python3.10/dist-packages (from spacy<3.8.0,>=3.7.2->en-core-web-sm==3.7.1) (3.1.4)\n",
            "Requirement already satisfied: setuptools in /usr/local/lib/python3.10/dist-packages (from spacy<3.8.0,>=3.7.2->en-core-web-sm==3.7.1) (75.1.0)\n",
            "Requirement already satisfied: packaging>=20.0 in /usr/local/lib/python3.10/dist-packages (from spacy<3.8.0,>=3.7.2->en-core-web-sm==3.7.1) (24.1)\n",
            "Requirement already satisfied: langcodes<4.0.0,>=3.2.0 in /usr/local/lib/python3.10/dist-packages (from spacy<3.8.0,>=3.7.2->en-core-web-sm==3.7.1) (3.4.1)\n",
            "Requirement already satisfied: numpy>=1.19.0 in /usr/local/lib/python3.10/dist-packages (from spacy<3.8.0,>=3.7.2->en-core-web-sm==3.7.1) (1.26.4)\n",
            "Requirement already satisfied: language-data>=1.2 in /usr/local/lib/python3.10/dist-packages (from langcodes<4.0.0,>=3.2.0->spacy<3.8.0,>=3.7.2->en-core-web-sm==3.7.1) (1.2.0)\n",
            "Requirement already satisfied: annotated-types>=0.6.0 in /usr/local/lib/python3.10/dist-packages (from pydantic!=1.8,!=1.8.1,<3.0.0,>=1.7.4->spacy<3.8.0,>=3.7.2->en-core-web-sm==3.7.1) (0.7.0)\n",
            "Requirement already satisfied: pydantic-core==2.23.4 in /usr/local/lib/python3.10/dist-packages (from pydantic!=1.8,!=1.8.1,<3.0.0,>=1.7.4->spacy<3.8.0,>=3.7.2->en-core-web-sm==3.7.1) (2.23.4)\n",
            "Requirement already satisfied: typing-extensions>=4.6.1 in /usr/local/lib/python3.10/dist-packages (from pydantic!=1.8,!=1.8.1,<3.0.0,>=1.7.4->spacy<3.8.0,>=3.7.2->en-core-web-sm==3.7.1) (4.12.2)\n",
            "Requirement already satisfied: charset-normalizer<4,>=2 in /usr/local/lib/python3.10/dist-packages (from requests<3.0.0,>=2.13.0->spacy<3.8.0,>=3.7.2->en-core-web-sm==3.7.1) (3.4.0)\n",
            "Requirement already satisfied: idna<4,>=2.5 in /usr/local/lib/python3.10/dist-packages (from requests<3.0.0,>=2.13.0->spacy<3.8.0,>=3.7.2->en-core-web-sm==3.7.1) (3.10)\n",
            "Requirement already satisfied: urllib3<3,>=1.21.1 in /usr/local/lib/python3.10/dist-packages (from requests<3.0.0,>=2.13.0->spacy<3.8.0,>=3.7.2->en-core-web-sm==3.7.1) (2.2.3)\n",
            "Requirement already satisfied: certifi>=2017.4.17 in /usr/local/lib/python3.10/dist-packages (from requests<3.0.0,>=2.13.0->spacy<3.8.0,>=3.7.2->en-core-web-sm==3.7.1) (2024.8.30)\n",
            "Requirement already satisfied: blis<0.8.0,>=0.7.8 in /usr/local/lib/python3.10/dist-packages (from thinc<8.3.0,>=8.2.2->spacy<3.8.0,>=3.7.2->en-core-web-sm==3.7.1) (0.7.11)\n",
            "Requirement already satisfied: confection<1.0.0,>=0.0.1 in /usr/local/lib/python3.10/dist-packages (from thinc<8.3.0,>=8.2.2->spacy<3.8.0,>=3.7.2->en-core-web-sm==3.7.1) (0.1.5)\n",
            "Requirement already satisfied: click>=8.0.0 in /usr/local/lib/python3.10/dist-packages (from typer<1.0.0,>=0.3.0->spacy<3.8.0,>=3.7.2->en-core-web-sm==3.7.1) (8.1.7)\n",
            "Requirement already satisfied: shellingham>=1.3.0 in /usr/local/lib/python3.10/dist-packages (from typer<1.0.0,>=0.3.0->spacy<3.8.0,>=3.7.2->en-core-web-sm==3.7.1) (1.5.4)\n",
            "Requirement already satisfied: rich>=10.11.0 in /usr/local/lib/python3.10/dist-packages (from typer<1.0.0,>=0.3.0->spacy<3.8.0,>=3.7.2->en-core-web-sm==3.7.1) (13.9.3)\n",
            "Requirement already satisfied: cloudpathlib<1.0.0,>=0.7.0 in /usr/local/lib/python3.10/dist-packages (from weasel<0.5.0,>=0.1.0->spacy<3.8.0,>=3.7.2->en-core-web-sm==3.7.1) (0.20.0)\n",
            "Requirement already satisfied: smart-open<8.0.0,>=5.2.1 in /usr/local/lib/python3.10/dist-packages (from weasel<0.5.0,>=0.1.0->spacy<3.8.0,>=3.7.2->en-core-web-sm==3.7.1) (7.0.5)\n",
            "Requirement already satisfied: MarkupSafe>=2.0 in /usr/local/lib/python3.10/dist-packages (from jinja2->spacy<3.8.0,>=3.7.2->en-core-web-sm==3.7.1) (3.0.2)\n",
            "Requirement already satisfied: marisa-trie>=0.7.7 in /usr/local/lib/python3.10/dist-packages (from language-data>=1.2->langcodes<4.0.0,>=3.2.0->spacy<3.8.0,>=3.7.2->en-core-web-sm==3.7.1) (1.2.1)\n",
            "Requirement already satisfied: markdown-it-py>=2.2.0 in /usr/local/lib/python3.10/dist-packages (from rich>=10.11.0->typer<1.0.0,>=0.3.0->spacy<3.8.0,>=3.7.2->en-core-web-sm==3.7.1) (3.0.0)\n",
            "Requirement already satisfied: pygments<3.0.0,>=2.13.0 in /usr/local/lib/python3.10/dist-packages (from rich>=10.11.0->typer<1.0.0,>=0.3.0->spacy<3.8.0,>=3.7.2->en-core-web-sm==3.7.1) (2.18.0)\n",
            "Requirement already satisfied: wrapt in /usr/local/lib/python3.10/dist-packages (from smart-open<8.0.0,>=5.2.1->weasel<0.5.0,>=0.1.0->spacy<3.8.0,>=3.7.2->en-core-web-sm==3.7.1) (1.16.0)\n",
            "Requirement already satisfied: mdurl~=0.1 in /usr/local/lib/python3.10/dist-packages (from markdown-it-py>=2.2.0->rich>=10.11.0->typer<1.0.0,>=0.3.0->spacy<3.8.0,>=3.7.2->en-core-web-sm==3.7.1) (0.1.2)\n",
            "\u001b[38;5;2m✔ Download and installation successful\u001b[0m\n",
            "You can now load the package via spacy.load('en_core_web_sm')\n",
            "\u001b[38;5;3m⚠ Restart to reload dependencies\u001b[0m\n",
            "If you are in a Jupyter or Colab notebook, you may need to restart Python in\n",
            "order to load all the package's dependencies. You can do this by selecting the\n",
            "'Restart kernel' or 'Restart runtime' option.\n",
            "/usr/local/lib/python3.10/dist-packages/transformers/utils/generic.py:441: FutureWarning: `torch.utils._pytree._register_pytree_node` is deprecated. Please use `torch.utils._pytree.register_pytree_node` instead.\n",
            "  _torch_pytree._register_pytree_node(\n",
            "Collecting en-core-web-lg==3.7.1\n",
            "  Downloading https://github.com/explosion/spacy-models/releases/download/en_core_web_lg-3.7.1/en_core_web_lg-3.7.1-py3-none-any.whl (587.7 MB)\n",
            "\u001b[2K     \u001b[90m━━━━━━━━━━━━━━━━━━━━━━━━━━━━━━━━━━━━━━━━\u001b[0m \u001b[32m587.7/587.7 MB\u001b[0m \u001b[31m719.8 kB/s\u001b[0m eta \u001b[36m0:00:00\u001b[0m\n",
            "\u001b[?25hRequirement already satisfied: spacy<3.8.0,>=3.7.2 in /usr/local/lib/python3.10/dist-packages (from en-core-web-lg==3.7.1) (3.7.5)\n",
            "Requirement already satisfied: spacy-legacy<3.1.0,>=3.0.11 in /usr/local/lib/python3.10/dist-packages (from spacy<3.8.0,>=3.7.2->en-core-web-lg==3.7.1) (3.0.12)\n",
            "Requirement already satisfied: spacy-loggers<2.0.0,>=1.0.0 in /usr/local/lib/python3.10/dist-packages (from spacy<3.8.0,>=3.7.2->en-core-web-lg==3.7.1) (1.0.5)\n",
            "Requirement already satisfied: murmurhash<1.1.0,>=0.28.0 in /usr/local/lib/python3.10/dist-packages (from spacy<3.8.0,>=3.7.2->en-core-web-lg==3.7.1) (1.0.10)\n",
            "Requirement already satisfied: cymem<2.1.0,>=2.0.2 in /usr/local/lib/python3.10/dist-packages (from spacy<3.8.0,>=3.7.2->en-core-web-lg==3.7.1) (2.0.8)\n",
            "Requirement already satisfied: preshed<3.1.0,>=3.0.2 in /usr/local/lib/python3.10/dist-packages (from spacy<3.8.0,>=3.7.2->en-core-web-lg==3.7.1) (3.0.9)\n",
            "Requirement already satisfied: thinc<8.3.0,>=8.2.2 in /usr/local/lib/python3.10/dist-packages (from spacy<3.8.0,>=3.7.2->en-core-web-lg==3.7.1) (8.2.5)\n",
            "Requirement already satisfied: wasabi<1.2.0,>=0.9.1 in /usr/local/lib/python3.10/dist-packages (from spacy<3.8.0,>=3.7.2->en-core-web-lg==3.7.1) (1.1.3)\n",
            "Requirement already satisfied: srsly<3.0.0,>=2.4.3 in /usr/local/lib/python3.10/dist-packages (from spacy<3.8.0,>=3.7.2->en-core-web-lg==3.7.1) (2.4.8)\n",
            "Requirement already satisfied: catalogue<2.1.0,>=2.0.6 in /usr/local/lib/python3.10/dist-packages (from spacy<3.8.0,>=3.7.2->en-core-web-lg==3.7.1) (2.0.10)\n",
            "Requirement already satisfied: weasel<0.5.0,>=0.1.0 in /usr/local/lib/python3.10/dist-packages (from spacy<3.8.0,>=3.7.2->en-core-web-lg==3.7.1) (0.4.1)\n",
            "Requirement already satisfied: typer<1.0.0,>=0.3.0 in /usr/local/lib/python3.10/dist-packages (from spacy<3.8.0,>=3.7.2->en-core-web-lg==3.7.1) (0.12.5)\n",
            "Requirement already satisfied: tqdm<5.0.0,>=4.38.0 in /usr/local/lib/python3.10/dist-packages (from spacy<3.8.0,>=3.7.2->en-core-web-lg==3.7.1) (4.66.6)\n",
            "Requirement already satisfied: requests<3.0.0,>=2.13.0 in /usr/local/lib/python3.10/dist-packages (from spacy<3.8.0,>=3.7.2->en-core-web-lg==3.7.1) (2.32.3)\n",
            "Requirement already satisfied: pydantic!=1.8,!=1.8.1,<3.0.0,>=1.7.4 in /usr/local/lib/python3.10/dist-packages (from spacy<3.8.0,>=3.7.2->en-core-web-lg==3.7.1) (2.9.2)\n",
            "Requirement already satisfied: jinja2 in /usr/local/lib/python3.10/dist-packages (from spacy<3.8.0,>=3.7.2->en-core-web-lg==3.7.1) (3.1.4)\n",
            "Requirement already satisfied: setuptools in /usr/local/lib/python3.10/dist-packages (from spacy<3.8.0,>=3.7.2->en-core-web-lg==3.7.1) (75.1.0)\n",
            "Requirement already satisfied: packaging>=20.0 in /usr/local/lib/python3.10/dist-packages (from spacy<3.8.0,>=3.7.2->en-core-web-lg==3.7.1) (24.1)\n",
            "Requirement already satisfied: langcodes<4.0.0,>=3.2.0 in /usr/local/lib/python3.10/dist-packages (from spacy<3.8.0,>=3.7.2->en-core-web-lg==3.7.1) (3.4.1)\n",
            "Requirement already satisfied: numpy>=1.19.0 in /usr/local/lib/python3.10/dist-packages (from spacy<3.8.0,>=3.7.2->en-core-web-lg==3.7.1) (1.26.4)\n",
            "Requirement already satisfied: language-data>=1.2 in /usr/local/lib/python3.10/dist-packages (from langcodes<4.0.0,>=3.2.0->spacy<3.8.0,>=3.7.2->en-core-web-lg==3.7.1) (1.2.0)\n",
            "Requirement already satisfied: annotated-types>=0.6.0 in /usr/local/lib/python3.10/dist-packages (from pydantic!=1.8,!=1.8.1,<3.0.0,>=1.7.4->spacy<3.8.0,>=3.7.2->en-core-web-lg==3.7.1) (0.7.0)\n",
            "Requirement already satisfied: pydantic-core==2.23.4 in /usr/local/lib/python3.10/dist-packages (from pydantic!=1.8,!=1.8.1,<3.0.0,>=1.7.4->spacy<3.8.0,>=3.7.2->en-core-web-lg==3.7.1) (2.23.4)\n",
            "Requirement already satisfied: typing-extensions>=4.6.1 in /usr/local/lib/python3.10/dist-packages (from pydantic!=1.8,!=1.8.1,<3.0.0,>=1.7.4->spacy<3.8.0,>=3.7.2->en-core-web-lg==3.7.1) (4.12.2)\n",
            "Requirement already satisfied: charset-normalizer<4,>=2 in /usr/local/lib/python3.10/dist-packages (from requests<3.0.0,>=2.13.0->spacy<3.8.0,>=3.7.2->en-core-web-lg==3.7.1) (3.4.0)\n",
            "Requirement already satisfied: idna<4,>=2.5 in /usr/local/lib/python3.10/dist-packages (from requests<3.0.0,>=2.13.0->spacy<3.8.0,>=3.7.2->en-core-web-lg==3.7.1) (3.10)\n",
            "Requirement already satisfied: urllib3<3,>=1.21.1 in /usr/local/lib/python3.10/dist-packages (from requests<3.0.0,>=2.13.0->spacy<3.8.0,>=3.7.2->en-core-web-lg==3.7.1) (2.2.3)\n",
            "Requirement already satisfied: certifi>=2017.4.17 in /usr/local/lib/python3.10/dist-packages (from requests<3.0.0,>=2.13.0->spacy<3.8.0,>=3.7.2->en-core-web-lg==3.7.1) (2024.8.30)\n",
            "Requirement already satisfied: blis<0.8.0,>=0.7.8 in /usr/local/lib/python3.10/dist-packages (from thinc<8.3.0,>=8.2.2->spacy<3.8.0,>=3.7.2->en-core-web-lg==3.7.1) (0.7.11)\n",
            "Requirement already satisfied: confection<1.0.0,>=0.0.1 in /usr/local/lib/python3.10/dist-packages (from thinc<8.3.0,>=8.2.2->spacy<3.8.0,>=3.7.2->en-core-web-lg==3.7.1) (0.1.5)\n",
            "Requirement already satisfied: click>=8.0.0 in /usr/local/lib/python3.10/dist-packages (from typer<1.0.0,>=0.3.0->spacy<3.8.0,>=3.7.2->en-core-web-lg==3.7.1) (8.1.7)\n",
            "Requirement already satisfied: shellingham>=1.3.0 in /usr/local/lib/python3.10/dist-packages (from typer<1.0.0,>=0.3.0->spacy<3.8.0,>=3.7.2->en-core-web-lg==3.7.1) (1.5.4)\n",
            "Requirement already satisfied: rich>=10.11.0 in /usr/local/lib/python3.10/dist-packages (from typer<1.0.0,>=0.3.0->spacy<3.8.0,>=3.7.2->en-core-web-lg==3.7.1) (13.9.3)\n",
            "Requirement already satisfied: cloudpathlib<1.0.0,>=0.7.0 in /usr/local/lib/python3.10/dist-packages (from weasel<0.5.0,>=0.1.0->spacy<3.8.0,>=3.7.2->en-core-web-lg==3.7.1) (0.20.0)\n",
            "Requirement already satisfied: smart-open<8.0.0,>=5.2.1 in /usr/local/lib/python3.10/dist-packages (from weasel<0.5.0,>=0.1.0->spacy<3.8.0,>=3.7.2->en-core-web-lg==3.7.1) (7.0.5)\n",
            "Requirement already satisfied: MarkupSafe>=2.0 in /usr/local/lib/python3.10/dist-packages (from jinja2->spacy<3.8.0,>=3.7.2->en-core-web-lg==3.7.1) (3.0.2)\n",
            "Requirement already satisfied: marisa-trie>=0.7.7 in /usr/local/lib/python3.10/dist-packages (from language-data>=1.2->langcodes<4.0.0,>=3.2.0->spacy<3.8.0,>=3.7.2->en-core-web-lg==3.7.1) (1.2.1)\n",
            "Requirement already satisfied: markdown-it-py>=2.2.0 in /usr/local/lib/python3.10/dist-packages (from rich>=10.11.0->typer<1.0.0,>=0.3.0->spacy<3.8.0,>=3.7.2->en-core-web-lg==3.7.1) (3.0.0)\n",
            "Requirement already satisfied: pygments<3.0.0,>=2.13.0 in /usr/local/lib/python3.10/dist-packages (from rich>=10.11.0->typer<1.0.0,>=0.3.0->spacy<3.8.0,>=3.7.2->en-core-web-lg==3.7.1) (2.18.0)\n",
            "Requirement already satisfied: wrapt in /usr/local/lib/python3.10/dist-packages (from smart-open<8.0.0,>=5.2.1->weasel<0.5.0,>=0.1.0->spacy<3.8.0,>=3.7.2->en-core-web-lg==3.7.1) (1.16.0)\n",
            "Requirement already satisfied: mdurl~=0.1 in /usr/local/lib/python3.10/dist-packages (from markdown-it-py>=2.2.0->rich>=10.11.0->typer<1.0.0,>=0.3.0->spacy<3.8.0,>=3.7.2->en-core-web-lg==3.7.1) (0.1.2)\n",
            "\u001b[38;5;2m✔ Download and installation successful\u001b[0m\n",
            "You can now load the package via spacy.load('en_core_web_lg')\n",
            "\u001b[38;5;3m⚠ Restart to reload dependencies\u001b[0m\n",
            "If you are in a Jupyter or Colab notebook, you may need to restart Python in\n",
            "order to load all the package's dependencies. You can do this by selecting the\n",
            "'Restart kernel' or 'Restart runtime' option.\n",
            "/usr/local/lib/python3.10/dist-packages/transformers/utils/generic.py:441: FutureWarning: `torch.utils._pytree._register_pytree_node` is deprecated. Please use `torch.utils._pytree.register_pytree_node` instead.\n",
            "  _torch_pytree._register_pytree_node(\n",
            "Collecting en-core-web-trf==3.7.3\n",
            "  Downloading https://github.com/explosion/spacy-models/releases/download/en_core_web_trf-3.7.3/en_core_web_trf-3.7.3-py3-none-any.whl (457.4 MB)\n",
            "\u001b[2K     \u001b[90m━━━━━━━━━━━━━━━━━━━━━━━━━━━━━━━━━━━━━━━━\u001b[0m \u001b[32m457.4/457.4 MB\u001b[0m \u001b[31m1.1 MB/s\u001b[0m eta \u001b[36m0:00:00\u001b[0m\n",
            "\u001b[?25hRequirement already satisfied: spacy<3.8.0,>=3.7.2 in /usr/local/lib/python3.10/dist-packages (from en-core-web-trf==3.7.3) (3.7.5)\n",
            "Requirement already satisfied: spacy-curated-transformers<0.3.0,>=0.2.0 in /usr/local/lib/python3.10/dist-packages (from en-core-web-trf==3.7.3) (0.2.2)\n",
            "Requirement already satisfied: spacy-legacy<3.1.0,>=3.0.11 in /usr/local/lib/python3.10/dist-packages (from spacy<3.8.0,>=3.7.2->en-core-web-trf==3.7.3) (3.0.12)\n",
            "Requirement already satisfied: spacy-loggers<2.0.0,>=1.0.0 in /usr/local/lib/python3.10/dist-packages (from spacy<3.8.0,>=3.7.2->en-core-web-trf==3.7.3) (1.0.5)\n",
            "Requirement already satisfied: murmurhash<1.1.0,>=0.28.0 in /usr/local/lib/python3.10/dist-packages (from spacy<3.8.0,>=3.7.2->en-core-web-trf==3.7.3) (1.0.10)\n",
            "Requirement already satisfied: cymem<2.1.0,>=2.0.2 in /usr/local/lib/python3.10/dist-packages (from spacy<3.8.0,>=3.7.2->en-core-web-trf==3.7.3) (2.0.8)\n",
            "Requirement already satisfied: preshed<3.1.0,>=3.0.2 in /usr/local/lib/python3.10/dist-packages (from spacy<3.8.0,>=3.7.2->en-core-web-trf==3.7.3) (3.0.9)\n",
            "Requirement already satisfied: thinc<8.3.0,>=8.2.2 in /usr/local/lib/python3.10/dist-packages (from spacy<3.8.0,>=3.7.2->en-core-web-trf==3.7.3) (8.2.5)\n",
            "Requirement already satisfied: wasabi<1.2.0,>=0.9.1 in /usr/local/lib/python3.10/dist-packages (from spacy<3.8.0,>=3.7.2->en-core-web-trf==3.7.3) (1.1.3)\n",
            "Requirement already satisfied: srsly<3.0.0,>=2.4.3 in /usr/local/lib/python3.10/dist-packages (from spacy<3.8.0,>=3.7.2->en-core-web-trf==3.7.3) (2.4.8)\n",
            "Requirement already satisfied: catalogue<2.1.0,>=2.0.6 in /usr/local/lib/python3.10/dist-packages (from spacy<3.8.0,>=3.7.2->en-core-web-trf==3.7.3) (2.0.10)\n",
            "Requirement already satisfied: weasel<0.5.0,>=0.1.0 in /usr/local/lib/python3.10/dist-packages (from spacy<3.8.0,>=3.7.2->en-core-web-trf==3.7.3) (0.4.1)\n",
            "Requirement already satisfied: typer<1.0.0,>=0.3.0 in /usr/local/lib/python3.10/dist-packages (from spacy<3.8.0,>=3.7.2->en-core-web-trf==3.7.3) (0.12.5)\n",
            "Requirement already satisfied: tqdm<5.0.0,>=4.38.0 in /usr/local/lib/python3.10/dist-packages (from spacy<3.8.0,>=3.7.2->en-core-web-trf==3.7.3) (4.66.6)\n",
            "Requirement already satisfied: requests<3.0.0,>=2.13.0 in /usr/local/lib/python3.10/dist-packages (from spacy<3.8.0,>=3.7.2->en-core-web-trf==3.7.3) (2.32.3)\n",
            "Requirement already satisfied: pydantic!=1.8,!=1.8.1,<3.0.0,>=1.7.4 in /usr/local/lib/python3.10/dist-packages (from spacy<3.8.0,>=3.7.2->en-core-web-trf==3.7.3) (2.9.2)\n",
            "Requirement already satisfied: jinja2 in /usr/local/lib/python3.10/dist-packages (from spacy<3.8.0,>=3.7.2->en-core-web-trf==3.7.3) (3.1.4)\n",
            "Requirement already satisfied: setuptools in /usr/local/lib/python3.10/dist-packages (from spacy<3.8.0,>=3.7.2->en-core-web-trf==3.7.3) (75.1.0)\n",
            "Requirement already satisfied: packaging>=20.0 in /usr/local/lib/python3.10/dist-packages (from spacy<3.8.0,>=3.7.2->en-core-web-trf==3.7.3) (24.1)\n",
            "Requirement already satisfied: langcodes<4.0.0,>=3.2.0 in /usr/local/lib/python3.10/dist-packages (from spacy<3.8.0,>=3.7.2->en-core-web-trf==3.7.3) (3.4.1)\n",
            "Requirement already satisfied: numpy>=1.19.0 in /usr/local/lib/python3.10/dist-packages (from spacy<3.8.0,>=3.7.2->en-core-web-trf==3.7.3) (1.26.4)\n",
            "Requirement already satisfied: curated-transformers<0.2.0,>=0.1.0 in /usr/local/lib/python3.10/dist-packages (from spacy-curated-transformers<0.3.0,>=0.2.0->en-core-web-trf==3.7.3) (0.1.1)\n",
            "Requirement already satisfied: curated-tokenizers<0.1.0,>=0.0.9 in /usr/local/lib/python3.10/dist-packages (from spacy-curated-transformers<0.3.0,>=0.2.0->en-core-web-trf==3.7.3) (0.0.9)\n",
            "Requirement already satisfied: torch>=1.12.0 in /usr/local/lib/python3.10/dist-packages (from spacy-curated-transformers<0.3.0,>=0.2.0->en-core-web-trf==3.7.3) (2.5.0+cu121)\n",
            "Requirement already satisfied: regex>=2022 in /usr/local/lib/python3.10/dist-packages (from curated-tokenizers<0.1.0,>=0.0.9->spacy-curated-transformers<0.3.0,>=0.2.0->en-core-web-trf==3.7.3) (2024.9.11)\n",
            "Requirement already satisfied: language-data>=1.2 in /usr/local/lib/python3.10/dist-packages (from langcodes<4.0.0,>=3.2.0->spacy<3.8.0,>=3.7.2->en-core-web-trf==3.7.3) (1.2.0)\n",
            "Requirement already satisfied: annotated-types>=0.6.0 in /usr/local/lib/python3.10/dist-packages (from pydantic!=1.8,!=1.8.1,<3.0.0,>=1.7.4->spacy<3.8.0,>=3.7.2->en-core-web-trf==3.7.3) (0.7.0)\n",
            "Requirement already satisfied: pydantic-core==2.23.4 in /usr/local/lib/python3.10/dist-packages (from pydantic!=1.8,!=1.8.1,<3.0.0,>=1.7.4->spacy<3.8.0,>=3.7.2->en-core-web-trf==3.7.3) (2.23.4)\n",
            "Requirement already satisfied: typing-extensions>=4.6.1 in /usr/local/lib/python3.10/dist-packages (from pydantic!=1.8,!=1.8.1,<3.0.0,>=1.7.4->spacy<3.8.0,>=3.7.2->en-core-web-trf==3.7.3) (4.12.2)\n",
            "Requirement already satisfied: charset-normalizer<4,>=2 in /usr/local/lib/python3.10/dist-packages (from requests<3.0.0,>=2.13.0->spacy<3.8.0,>=3.7.2->en-core-web-trf==3.7.3) (3.4.0)\n",
            "Requirement already satisfied: idna<4,>=2.5 in /usr/local/lib/python3.10/dist-packages (from requests<3.0.0,>=2.13.0->spacy<3.8.0,>=3.7.2->en-core-web-trf==3.7.3) (3.10)\n",
            "Requirement already satisfied: urllib3<3,>=1.21.1 in /usr/local/lib/python3.10/dist-packages (from requests<3.0.0,>=2.13.0->spacy<3.8.0,>=3.7.2->en-core-web-trf==3.7.3) (2.2.3)\n",
            "Requirement already satisfied: certifi>=2017.4.17 in /usr/local/lib/python3.10/dist-packages (from requests<3.0.0,>=2.13.0->spacy<3.8.0,>=3.7.2->en-core-web-trf==3.7.3) (2024.8.30)\n",
            "Requirement already satisfied: blis<0.8.0,>=0.7.8 in /usr/local/lib/python3.10/dist-packages (from thinc<8.3.0,>=8.2.2->spacy<3.8.0,>=3.7.2->en-core-web-trf==3.7.3) (0.7.11)\n",
            "Requirement already satisfied: confection<1.0.0,>=0.0.1 in /usr/local/lib/python3.10/dist-packages (from thinc<8.3.0,>=8.2.2->spacy<3.8.0,>=3.7.2->en-core-web-trf==3.7.3) (0.1.5)\n",
            "Requirement already satisfied: filelock in /usr/local/lib/python3.10/dist-packages (from torch>=1.12.0->spacy-curated-transformers<0.3.0,>=0.2.0->en-core-web-trf==3.7.3) (3.16.1)\n",
            "Requirement already satisfied: networkx in /usr/local/lib/python3.10/dist-packages (from torch>=1.12.0->spacy-curated-transformers<0.3.0,>=0.2.0->en-core-web-trf==3.7.3) (3.4.2)\n",
            "Requirement already satisfied: fsspec in /usr/local/lib/python3.10/dist-packages (from torch>=1.12.0->spacy-curated-transformers<0.3.0,>=0.2.0->en-core-web-trf==3.7.3) (2024.10.0)\n",
            "Requirement already satisfied: sympy==1.13.1 in /usr/local/lib/python3.10/dist-packages (from torch>=1.12.0->spacy-curated-transformers<0.3.0,>=0.2.0->en-core-web-trf==3.7.3) (1.13.1)\n",
            "Requirement already satisfied: mpmath<1.4,>=1.1.0 in /usr/local/lib/python3.10/dist-packages (from sympy==1.13.1->torch>=1.12.0->spacy-curated-transformers<0.3.0,>=0.2.0->en-core-web-trf==3.7.3) (1.3.0)\n",
            "Requirement already satisfied: click>=8.0.0 in /usr/local/lib/python3.10/dist-packages (from typer<1.0.0,>=0.3.0->spacy<3.8.0,>=3.7.2->en-core-web-trf==3.7.3) (8.1.7)\n",
            "Requirement already satisfied: shellingham>=1.3.0 in /usr/local/lib/python3.10/dist-packages (from typer<1.0.0,>=0.3.0->spacy<3.8.0,>=3.7.2->en-core-web-trf==3.7.3) (1.5.4)\n",
            "Requirement already satisfied: rich>=10.11.0 in /usr/local/lib/python3.10/dist-packages (from typer<1.0.0,>=0.3.0->spacy<3.8.0,>=3.7.2->en-core-web-trf==3.7.3) (13.9.3)\n",
            "Requirement already satisfied: cloudpathlib<1.0.0,>=0.7.0 in /usr/local/lib/python3.10/dist-packages (from weasel<0.5.0,>=0.1.0->spacy<3.8.0,>=3.7.2->en-core-web-trf==3.7.3) (0.20.0)\n",
            "Requirement already satisfied: smart-open<8.0.0,>=5.2.1 in /usr/local/lib/python3.10/dist-packages (from weasel<0.5.0,>=0.1.0->spacy<3.8.0,>=3.7.2->en-core-web-trf==3.7.3) (7.0.5)\n",
            "Requirement already satisfied: MarkupSafe>=2.0 in /usr/local/lib/python3.10/dist-packages (from jinja2->spacy<3.8.0,>=3.7.2->en-core-web-trf==3.7.3) (3.0.2)\n",
            "Requirement already satisfied: marisa-trie>=0.7.7 in /usr/local/lib/python3.10/dist-packages (from language-data>=1.2->langcodes<4.0.0,>=3.2.0->spacy<3.8.0,>=3.7.2->en-core-web-trf==3.7.3) (1.2.1)\n",
            "Requirement already satisfied: markdown-it-py>=2.2.0 in /usr/local/lib/python3.10/dist-packages (from rich>=10.11.0->typer<1.0.0,>=0.3.0->spacy<3.8.0,>=3.7.2->en-core-web-trf==3.7.3) (3.0.0)\n",
            "Requirement already satisfied: pygments<3.0.0,>=2.13.0 in /usr/local/lib/python3.10/dist-packages (from rich>=10.11.0->typer<1.0.0,>=0.3.0->spacy<3.8.0,>=3.7.2->en-core-web-trf==3.7.3) (2.18.0)\n",
            "Requirement already satisfied: wrapt in /usr/local/lib/python3.10/dist-packages (from smart-open<8.0.0,>=5.2.1->weasel<0.5.0,>=0.1.0->spacy<3.8.0,>=3.7.2->en-core-web-trf==3.7.3) (1.16.0)\n",
            "Requirement already satisfied: mdurl~=0.1 in /usr/local/lib/python3.10/dist-packages (from markdown-it-py>=2.2.0->rich>=10.11.0->typer<1.0.0,>=0.3.0->spacy<3.8.0,>=3.7.2->en-core-web-trf==3.7.3) (0.1.2)\n",
            "\u001b[38;5;2m✔ Download and installation successful\u001b[0m\n",
            "You can now load the package via spacy.load('en_core_web_trf')\n",
            "\u001b[38;5;3m⚠ Restart to reload dependencies\u001b[0m\n",
            "If you are in a Jupyter or Colab notebook, you may need to restart Python in\n",
            "order to load all the package's dependencies. You can do this by selecting the\n",
            "'Restart kernel' or 'Restart runtime' option.\n"
          ]
        }
      ]
    },
    {
      "cell_type": "markdown",
      "source": [
        "👋 ⚒  Use each of the three models that were downloaded above and perform named entitiy recognition with each of them on the original not preprocessed article, one after another. You can use different code cells for the different models or write everything into one cell, as you prefer. For each of the model outputs, automatically calculate the number of NERs for each NER type that the model identifies."
      ],
      "metadata": {
        "id": "oRt0fV4tbEXt"
      }
    },
    {
      "cell_type": "code",
      "source": [
        "# load spaCy models\n",
        "nlp_sm = spacy.load(\"en_core_web_sm\")\n",
        "nlp_lg = spacy.load(\"en_core_web_lg\")\n",
        "nlp_trf = spacy.load(\"en_core_web_trf\")\n",
        "\n",
        "original_text = article.text\n",
        "\n",
        "# sm\n",
        "print(\"Named Entities for en_core_web_sm:\")\n",
        "doc_sm = nlp_sm(original_text)\n",
        "for ent in doc_sm.ents:\n",
        "    print(ent.text, ent.start_char, ent.end_char, ent.label_)\n",
        "print(\"\\n\" + \"=\"*50 + \"\\n\")\n",
        "\n",
        "# lg\n",
        "print(\"Named Entities for en_core_web_lg:\")\n",
        "doc_lg = nlp_lg(original_text)\n",
        "for ent in doc_lg.ents:\n",
        "    print(ent.text, ent.start_char, ent.end_char, ent.label_)\n",
        "print(\"\\n\" + \"=\"*50 + \"\\n\")\n",
        "\n",
        "#trf\n",
        "print(\"Named Entities for en_core_web_trf:\")\n",
        "doc_trf = nlp_trf(original_text)\n",
        "for ent in doc_trf.ents:\n",
        "    print(ent.text, ent.start_char, ent.end_char, ent.label_)\n",
        "print(\"\\n\" + \"=\"*50 + \"\\n\")\n"
      ],
      "metadata": {
        "id": "ZpLgXnJxbMCf",
        "outputId": "a29cfb1a-12e2-40e5-c6fd-dc349fbd80db",
        "colab": {
          "base_uri": "https://localhost:8080/",
          "height": 446
        }
      },
      "execution_count": 52,
      "outputs": [
        {
          "output_type": "error",
          "ename": "ValueError",
          "evalue": "[E002] Can't find factory for 'curated_transformer' for language English (en). This usually happens when spaCy calls `nlp.create_pipe` with a custom component name that's not registered on the current language class. If you're using a custom component, make sure you've added the decorator `@Language.component` (for function components) or `@Language.factory` (for class components).\n\nAvailable factories: attribute_ruler, tok2vec, merge_noun_chunks, merge_entities, merge_subtokens, token_splitter, doc_cleaner, parser, beam_parser, lemmatizer, trainable_lemmatizer, entity_linker, entity_ruler, tagger, morphologizer, ner, beam_ner, senter, sentencizer, spancat, spancat_singlelabel, span_finder, future_entity_ruler, span_ruler, textcat, textcat_multilabel, en.lemmatizer",
          "traceback": [
            "\u001b[0;31m---------------------------------------------------------------------------\u001b[0m",
            "\u001b[0;31mValueError\u001b[0m                                Traceback (most recent call last)",
            "\u001b[0;32m<ipython-input-52-5cb967db9059>\u001b[0m in \u001b[0;36m<cell line: 4>\u001b[0;34m()\u001b[0m\n\u001b[1;32m      2\u001b[0m \u001b[0mnlp_sm\u001b[0m \u001b[0;34m=\u001b[0m \u001b[0mspacy\u001b[0m\u001b[0;34m.\u001b[0m\u001b[0mload\u001b[0m\u001b[0;34m(\u001b[0m\u001b[0;34m\"en_core_web_sm\"\u001b[0m\u001b[0;34m)\u001b[0m\u001b[0;34m\u001b[0m\u001b[0;34m\u001b[0m\u001b[0m\n\u001b[1;32m      3\u001b[0m \u001b[0mnlp_lg\u001b[0m \u001b[0;34m=\u001b[0m \u001b[0mspacy\u001b[0m\u001b[0;34m.\u001b[0m\u001b[0mload\u001b[0m\u001b[0;34m(\u001b[0m\u001b[0;34m\"en_core_web_lg\"\u001b[0m\u001b[0;34m)\u001b[0m\u001b[0;34m\u001b[0m\u001b[0;34m\u001b[0m\u001b[0m\n\u001b[0;32m----> 4\u001b[0;31m \u001b[0mnlp_trf\u001b[0m \u001b[0;34m=\u001b[0m \u001b[0mspacy\u001b[0m\u001b[0;34m.\u001b[0m\u001b[0mload\u001b[0m\u001b[0;34m(\u001b[0m\u001b[0;34m\"en_core_web_trf\"\u001b[0m\u001b[0;34m)\u001b[0m\u001b[0;34m\u001b[0m\u001b[0;34m\u001b[0m\u001b[0m\n\u001b[0m\u001b[1;32m      5\u001b[0m \u001b[0;34m\u001b[0m\u001b[0m\n\u001b[1;32m      6\u001b[0m \u001b[0moriginal_text\u001b[0m \u001b[0;34m=\u001b[0m \u001b[0marticle\u001b[0m\u001b[0;34m.\u001b[0m\u001b[0mtext\u001b[0m\u001b[0;34m\u001b[0m\u001b[0;34m\u001b[0m\u001b[0m\n",
            "\u001b[0;32m/usr/local/lib/python3.10/dist-packages/spacy/__init__.py\u001b[0m in \u001b[0;36mload\u001b[0;34m(name, vocab, disable, enable, exclude, config)\u001b[0m\n\u001b[1;32m     49\u001b[0m     \u001b[0mRETURNS\u001b[0m \u001b[0;34m(\u001b[0m\u001b[0mLanguage\u001b[0m\u001b[0;34m)\u001b[0m\u001b[0;34m:\u001b[0m \u001b[0mThe\u001b[0m \u001b[0mloaded\u001b[0m \u001b[0mnlp\u001b[0m \u001b[0mobject\u001b[0m\u001b[0;34m.\u001b[0m\u001b[0;34m\u001b[0m\u001b[0;34m\u001b[0m\u001b[0m\n\u001b[1;32m     50\u001b[0m     \"\"\"\n\u001b[0;32m---> 51\u001b[0;31m     return util.load_model(\n\u001b[0m\u001b[1;32m     52\u001b[0m         \u001b[0mname\u001b[0m\u001b[0;34m,\u001b[0m\u001b[0;34m\u001b[0m\u001b[0;34m\u001b[0m\u001b[0m\n\u001b[1;32m     53\u001b[0m         \u001b[0mvocab\u001b[0m\u001b[0;34m=\u001b[0m\u001b[0mvocab\u001b[0m\u001b[0;34m,\u001b[0m\u001b[0;34m\u001b[0m\u001b[0;34m\u001b[0m\u001b[0m\n",
            "\u001b[0;32m/usr/local/lib/python3.10/dist-packages/spacy/util.py\u001b[0m in \u001b[0;36mload_model\u001b[0;34m(name, vocab, disable, enable, exclude, config)\u001b[0m\n\u001b[1;32m    463\u001b[0m             \u001b[0;32mreturn\u001b[0m \u001b[0mget_lang_class\u001b[0m\u001b[0;34m(\u001b[0m\u001b[0mname\u001b[0m\u001b[0;34m.\u001b[0m\u001b[0mreplace\u001b[0m\u001b[0;34m(\u001b[0m\u001b[0;34m\"blank:\"\u001b[0m\u001b[0;34m,\u001b[0m \u001b[0;34m\"\"\u001b[0m\u001b[0;34m)\u001b[0m\u001b[0;34m)\u001b[0m\u001b[0;34m(\u001b[0m\u001b[0;34m)\u001b[0m\u001b[0;34m\u001b[0m\u001b[0;34m\u001b[0m\u001b[0m\n\u001b[1;32m    464\u001b[0m         \u001b[0;32mif\u001b[0m \u001b[0mis_package\u001b[0m\u001b[0;34m(\u001b[0m\u001b[0mname\u001b[0m\u001b[0;34m)\u001b[0m\u001b[0;34m:\u001b[0m  \u001b[0;31m# installed as package\u001b[0m\u001b[0;34m\u001b[0m\u001b[0;34m\u001b[0m\u001b[0m\n\u001b[0;32m--> 465\u001b[0;31m             \u001b[0;32mreturn\u001b[0m \u001b[0mload_model_from_package\u001b[0m\u001b[0;34m(\u001b[0m\u001b[0mname\u001b[0m\u001b[0;34m,\u001b[0m \u001b[0;34m**\u001b[0m\u001b[0mkwargs\u001b[0m\u001b[0;34m)\u001b[0m  \u001b[0;31m# type: ignore[arg-type]\u001b[0m\u001b[0;34m\u001b[0m\u001b[0;34m\u001b[0m\u001b[0m\n\u001b[0m\u001b[1;32m    466\u001b[0m         \u001b[0;32mif\u001b[0m \u001b[0mPath\u001b[0m\u001b[0;34m(\u001b[0m\u001b[0mname\u001b[0m\u001b[0;34m)\u001b[0m\u001b[0;34m.\u001b[0m\u001b[0mexists\u001b[0m\u001b[0;34m(\u001b[0m\u001b[0;34m)\u001b[0m\u001b[0;34m:\u001b[0m  \u001b[0;31m# path to model data directory\u001b[0m\u001b[0;34m\u001b[0m\u001b[0;34m\u001b[0m\u001b[0m\n\u001b[1;32m    467\u001b[0m             \u001b[0;32mreturn\u001b[0m \u001b[0mload_model_from_path\u001b[0m\u001b[0;34m(\u001b[0m\u001b[0mPath\u001b[0m\u001b[0;34m(\u001b[0m\u001b[0mname\u001b[0m\u001b[0;34m)\u001b[0m\u001b[0;34m,\u001b[0m \u001b[0;34m**\u001b[0m\u001b[0mkwargs\u001b[0m\u001b[0;34m)\u001b[0m  \u001b[0;31m# type: ignore[arg-type]\u001b[0m\u001b[0;34m\u001b[0m\u001b[0;34m\u001b[0m\u001b[0m\n",
            "\u001b[0;32m/usr/local/lib/python3.10/dist-packages/spacy/util.py\u001b[0m in \u001b[0;36mload_model_from_package\u001b[0;34m(name, vocab, disable, enable, exclude, config)\u001b[0m\n\u001b[1;32m    499\u001b[0m     \"\"\"\n\u001b[1;32m    500\u001b[0m     \u001b[0mcls\u001b[0m \u001b[0;34m=\u001b[0m \u001b[0mimportlib\u001b[0m\u001b[0;34m.\u001b[0m\u001b[0mimport_module\u001b[0m\u001b[0;34m(\u001b[0m\u001b[0mname\u001b[0m\u001b[0;34m)\u001b[0m\u001b[0;34m\u001b[0m\u001b[0;34m\u001b[0m\u001b[0m\n\u001b[0;32m--> 501\u001b[0;31m     \u001b[0;32mreturn\u001b[0m \u001b[0mcls\u001b[0m\u001b[0;34m.\u001b[0m\u001b[0mload\u001b[0m\u001b[0;34m(\u001b[0m\u001b[0mvocab\u001b[0m\u001b[0;34m=\u001b[0m\u001b[0mvocab\u001b[0m\u001b[0;34m,\u001b[0m \u001b[0mdisable\u001b[0m\u001b[0;34m=\u001b[0m\u001b[0mdisable\u001b[0m\u001b[0;34m,\u001b[0m \u001b[0menable\u001b[0m\u001b[0;34m=\u001b[0m\u001b[0menable\u001b[0m\u001b[0;34m,\u001b[0m \u001b[0mexclude\u001b[0m\u001b[0;34m=\u001b[0m\u001b[0mexclude\u001b[0m\u001b[0;34m,\u001b[0m \u001b[0mconfig\u001b[0m\u001b[0;34m=\u001b[0m\u001b[0mconfig\u001b[0m\u001b[0;34m)\u001b[0m  \u001b[0;31m# type: ignore[attr-defined]\u001b[0m\u001b[0;34m\u001b[0m\u001b[0;34m\u001b[0m\u001b[0m\n\u001b[0m\u001b[1;32m    502\u001b[0m \u001b[0;34m\u001b[0m\u001b[0m\n\u001b[1;32m    503\u001b[0m \u001b[0;34m\u001b[0m\u001b[0m\n",
            "\u001b[0;32m/usr/local/lib/python3.10/dist-packages/en_core_web_trf/__init__.py\u001b[0m in \u001b[0;36mload\u001b[0;34m(**overrides)\u001b[0m\n\u001b[1;32m      8\u001b[0m \u001b[0;34m\u001b[0m\u001b[0m\n\u001b[1;32m      9\u001b[0m \u001b[0;32mdef\u001b[0m \u001b[0mload\u001b[0m\u001b[0;34m(\u001b[0m\u001b[0;34m**\u001b[0m\u001b[0moverrides\u001b[0m\u001b[0;34m)\u001b[0m\u001b[0;34m:\u001b[0m\u001b[0;34m\u001b[0m\u001b[0;34m\u001b[0m\u001b[0m\n\u001b[0;32m---> 10\u001b[0;31m     \u001b[0;32mreturn\u001b[0m \u001b[0mload_model_from_init_py\u001b[0m\u001b[0;34m(\u001b[0m\u001b[0m__file__\u001b[0m\u001b[0;34m,\u001b[0m \u001b[0;34m**\u001b[0m\u001b[0moverrides\u001b[0m\u001b[0;34m)\u001b[0m\u001b[0;34m\u001b[0m\u001b[0;34m\u001b[0m\u001b[0m\n\u001b[0m",
            "\u001b[0;32m/usr/local/lib/python3.10/dist-packages/spacy/util.py\u001b[0m in \u001b[0;36mload_model_from_init_py\u001b[0;34m(init_file, vocab, disable, enable, exclude, config)\u001b[0m\n\u001b[1;32m    680\u001b[0m     \u001b[0;32mif\u001b[0m \u001b[0;32mnot\u001b[0m \u001b[0mmodel_path\u001b[0m\u001b[0;34m.\u001b[0m\u001b[0mexists\u001b[0m\u001b[0;34m(\u001b[0m\u001b[0;34m)\u001b[0m\u001b[0;34m:\u001b[0m\u001b[0;34m\u001b[0m\u001b[0;34m\u001b[0m\u001b[0m\n\u001b[1;32m    681\u001b[0m         \u001b[0;32mraise\u001b[0m \u001b[0mIOError\u001b[0m\u001b[0;34m(\u001b[0m\u001b[0mErrors\u001b[0m\u001b[0;34m.\u001b[0m\u001b[0mE052\u001b[0m\u001b[0;34m.\u001b[0m\u001b[0mformat\u001b[0m\u001b[0;34m(\u001b[0m\u001b[0mpath\u001b[0m\u001b[0;34m=\u001b[0m\u001b[0mdata_path\u001b[0m\u001b[0;34m)\u001b[0m\u001b[0;34m)\u001b[0m\u001b[0;34m\u001b[0m\u001b[0;34m\u001b[0m\u001b[0m\n\u001b[0;32m--> 682\u001b[0;31m     return load_model_from_path(\n\u001b[0m\u001b[1;32m    683\u001b[0m         \u001b[0mdata_path\u001b[0m\u001b[0;34m,\u001b[0m\u001b[0;34m\u001b[0m\u001b[0;34m\u001b[0m\u001b[0m\n\u001b[1;32m    684\u001b[0m         \u001b[0mvocab\u001b[0m\u001b[0;34m=\u001b[0m\u001b[0mvocab\u001b[0m\u001b[0;34m,\u001b[0m\u001b[0;34m\u001b[0m\u001b[0;34m\u001b[0m\u001b[0m\n",
            "\u001b[0;32m/usr/local/lib/python3.10/dist-packages/spacy/util.py\u001b[0m in \u001b[0;36mload_model_from_path\u001b[0;34m(model_path, meta, vocab, disable, enable, exclude, config)\u001b[0m\n\u001b[1;32m    537\u001b[0m     \u001b[0moverrides\u001b[0m \u001b[0;34m=\u001b[0m \u001b[0mdict_to_dot\u001b[0m\u001b[0;34m(\u001b[0m\u001b[0mconfig\u001b[0m\u001b[0;34m,\u001b[0m \u001b[0mfor_overrides\u001b[0m\u001b[0;34m=\u001b[0m\u001b[0;32mTrue\u001b[0m\u001b[0;34m)\u001b[0m\u001b[0;34m\u001b[0m\u001b[0;34m\u001b[0m\u001b[0m\n\u001b[1;32m    538\u001b[0m     \u001b[0mconfig\u001b[0m \u001b[0;34m=\u001b[0m \u001b[0mload_config\u001b[0m\u001b[0;34m(\u001b[0m\u001b[0mconfig_path\u001b[0m\u001b[0;34m,\u001b[0m \u001b[0moverrides\u001b[0m\u001b[0;34m=\u001b[0m\u001b[0moverrides\u001b[0m\u001b[0;34m)\u001b[0m\u001b[0;34m\u001b[0m\u001b[0;34m\u001b[0m\u001b[0m\n\u001b[0;32m--> 539\u001b[0;31m     nlp = load_model_from_config(\n\u001b[0m\u001b[1;32m    540\u001b[0m         \u001b[0mconfig\u001b[0m\u001b[0;34m,\u001b[0m\u001b[0;34m\u001b[0m\u001b[0;34m\u001b[0m\u001b[0m\n\u001b[1;32m    541\u001b[0m         \u001b[0mvocab\u001b[0m\u001b[0;34m=\u001b[0m\u001b[0mvocab\u001b[0m\u001b[0;34m,\u001b[0m\u001b[0;34m\u001b[0m\u001b[0;34m\u001b[0m\u001b[0m\n",
            "\u001b[0;32m/usr/local/lib/python3.10/dist-packages/spacy/util.py\u001b[0m in \u001b[0;36mload_model_from_config\u001b[0;34m(config, meta, vocab, disable, enable, exclude, auto_fill, validate)\u001b[0m\n\u001b[1;32m    585\u001b[0m     \u001b[0;31m# registry, including custom subclasses provided via entry points\u001b[0m\u001b[0;34m\u001b[0m\u001b[0;34m\u001b[0m\u001b[0m\n\u001b[1;32m    586\u001b[0m     \u001b[0mlang_cls\u001b[0m \u001b[0;34m=\u001b[0m \u001b[0mget_lang_class\u001b[0m\u001b[0;34m(\u001b[0m\u001b[0mnlp_config\u001b[0m\u001b[0;34m[\u001b[0m\u001b[0;34m\"lang\"\u001b[0m\u001b[0;34m]\u001b[0m\u001b[0;34m)\u001b[0m\u001b[0;34m\u001b[0m\u001b[0;34m\u001b[0m\u001b[0m\n\u001b[0;32m--> 587\u001b[0;31m     nlp = lang_cls.from_config(\n\u001b[0m\u001b[1;32m    588\u001b[0m         \u001b[0mconfig\u001b[0m\u001b[0;34m,\u001b[0m\u001b[0;34m\u001b[0m\u001b[0;34m\u001b[0m\u001b[0m\n\u001b[1;32m    589\u001b[0m         \u001b[0mvocab\u001b[0m\u001b[0;34m=\u001b[0m\u001b[0mvocab\u001b[0m\u001b[0;34m,\u001b[0m\u001b[0;34m\u001b[0m\u001b[0;34m\u001b[0m\u001b[0m\n",
            "\u001b[0;32m/usr/local/lib/python3.10/dist-packages/spacy/language.py\u001b[0m in \u001b[0;36mfrom_config\u001b[0;34m(cls, config, vocab, disable, enable, exclude, meta, auto_fill, validate)\u001b[0m\n\u001b[1;32m   1887\u001b[0m                     \u001b[0;31m# The pipe name (key in the config) here is the unique name\u001b[0m\u001b[0;34m\u001b[0m\u001b[0;34m\u001b[0m\u001b[0m\n\u001b[1;32m   1888\u001b[0m                     \u001b[0;31m# of the component, not necessarily the factory\u001b[0m\u001b[0;34m\u001b[0m\u001b[0;34m\u001b[0m\u001b[0m\n\u001b[0;32m-> 1889\u001b[0;31m                     nlp.add_pipe(\n\u001b[0m\u001b[1;32m   1890\u001b[0m                         \u001b[0mfactory\u001b[0m\u001b[0;34m,\u001b[0m\u001b[0;34m\u001b[0m\u001b[0;34m\u001b[0m\u001b[0m\n\u001b[1;32m   1891\u001b[0m                         \u001b[0mname\u001b[0m\u001b[0;34m=\u001b[0m\u001b[0mpipe_name\u001b[0m\u001b[0;34m,\u001b[0m\u001b[0;34m\u001b[0m\u001b[0;34m\u001b[0m\u001b[0m\n",
            "\u001b[0;32m/usr/local/lib/python3.10/dist-packages/spacy/language.py\u001b[0m in \u001b[0;36madd_pipe\u001b[0;34m(self, factory_name, name, before, after, first, last, source, config, raw_config, validate)\u001b[0m\n\u001b[1;32m    819\u001b[0m             )\n\u001b[1;32m    820\u001b[0m         \u001b[0;32melse\u001b[0m\u001b[0;34m:\u001b[0m\u001b[0;34m\u001b[0m\u001b[0;34m\u001b[0m\u001b[0m\n\u001b[0;32m--> 821\u001b[0;31m             pipe_component = self.create_pipe(\n\u001b[0m\u001b[1;32m    822\u001b[0m                 \u001b[0mfactory_name\u001b[0m\u001b[0;34m,\u001b[0m\u001b[0;34m\u001b[0m\u001b[0;34m\u001b[0m\u001b[0m\n\u001b[1;32m    823\u001b[0m                 \u001b[0mname\u001b[0m\u001b[0;34m=\u001b[0m\u001b[0mname\u001b[0m\u001b[0;34m,\u001b[0m\u001b[0;34m\u001b[0m\u001b[0;34m\u001b[0m\u001b[0m\n",
            "\u001b[0;32m/usr/local/lib/python3.10/dist-packages/spacy/language.py\u001b[0m in \u001b[0;36mcreate_pipe\u001b[0;34m(self, factory_name, name, config, raw_config, validate)\u001b[0m\n\u001b[1;32m    688\u001b[0m                 \u001b[0mlang_code\u001b[0m\u001b[0;34m=\u001b[0m\u001b[0mself\u001b[0m\u001b[0;34m.\u001b[0m\u001b[0mlang\u001b[0m\u001b[0;34m,\u001b[0m\u001b[0;34m\u001b[0m\u001b[0;34m\u001b[0m\u001b[0m\n\u001b[1;32m    689\u001b[0m             )\n\u001b[0;32m--> 690\u001b[0;31m             \u001b[0;32mraise\u001b[0m \u001b[0mValueError\u001b[0m\u001b[0;34m(\u001b[0m\u001b[0merr\u001b[0m\u001b[0;34m)\u001b[0m\u001b[0;34m\u001b[0m\u001b[0;34m\u001b[0m\u001b[0m\n\u001b[0m\u001b[1;32m    691\u001b[0m         \u001b[0mpipe_meta\u001b[0m \u001b[0;34m=\u001b[0m \u001b[0mself\u001b[0m\u001b[0;34m.\u001b[0m\u001b[0mget_factory_meta\u001b[0m\u001b[0;34m(\u001b[0m\u001b[0mfactory_name\u001b[0m\u001b[0;34m)\u001b[0m\u001b[0;34m\u001b[0m\u001b[0;34m\u001b[0m\u001b[0m\n\u001b[1;32m    692\u001b[0m         \u001b[0;31m# This is unideal, but the alternative would mean you always need to\u001b[0m\u001b[0;34m\u001b[0m\u001b[0;34m\u001b[0m\u001b[0m\n",
            "\u001b[0;31mValueError\u001b[0m: [E002] Can't find factory for 'curated_transformer' for language English (en). This usually happens when spaCy calls `nlp.create_pipe` with a custom component name that's not registered on the current language class. If you're using a custom component, make sure you've added the decorator `@Language.component` (for function components) or `@Language.factory` (for class components).\n\nAvailable factories: attribute_ruler, tok2vec, merge_noun_chunks, merge_entities, merge_subtokens, token_splitter, doc_cleaner, parser, beam_parser, lemmatizer, trainable_lemmatizer, entity_linker, entity_ruler, tagger, morphologizer, ner, beam_ner, senter, sentencizer, spancat, spancat_singlelabel, span_finder, future_entity_ruler, span_ruler, textcat, textcat_multilabel, en.lemmatizer"
          ]
        }
      ]
    },
    {
      "cell_type": "markdown",
      "source": [
        "You can use the following function to visualize the named entities in the text in order to facilitate the analysis."
      ],
      "metadata": {
        "id": "LDM8iLRNcdKo"
      }
    },
    {
      "cell_type": "code",
      "source": [
        "# You can also visualize the detected named entities\n",
        "from spacy import displacy\n",
        "displacy.render(doc, style=\"ent\", jupyter=True)"
      ],
      "metadata": {
        "id": "3CWq0ejhceIH"
      },
      "execution_count": null,
      "outputs": []
    },
    {
      "cell_type": "markdown",
      "source": [
        "👋 ⚒ Add your text of the analysis of differences between the three different models right here in the next text field."
      ],
      "metadata": {
        "id": "of4jzY-JdA0b"
      }
    },
    {
      "cell_type": "markdown",
      "source": [
        "*Your NE performance analysis here*"
      ],
      "metadata": {
        "id": "KwDuP5aDdCN2"
      }
    },
    {
      "cell_type": "markdown",
      "source": [
        "👋 ⚒ Compare the analysis of the best performing spaCy model for NER on the article after it was preprocessed to the performance on the non-preprocessed article."
      ],
      "metadata": {
        "id": "7CqztuZBcrw7"
      }
    },
    {
      "cell_type": "code",
      "source": [
        "# Your code here"
      ],
      "metadata": {
        "id": "2cxBSOWmc-5x"
      },
      "execution_count": null,
      "outputs": []
    },
    {
      "cell_type": "markdown",
      "source": [
        "## **Multilingual NER**\n",
        "In this exercise, the NER performance of spaCy in English is compared to another language of your choice."
      ],
      "metadata": {
        "id": "enZaik7ZdPYm"
      }
    },
    {
      "cell_type": "markdown",
      "source": [
        "👋 ⚒ Go the [spaCy page](https://spacy.io/models) detailing the available models to identify supported languages on the left listed under the heading \"Trained Pipelines\". Select a language and model of your choice. Find an article in this language and parse it using the newspaper package."
      ],
      "metadata": {
        "id": "h8DFV273eDBN"
      }
    },
    {
      "cell_type": "code",
      "source": [
        "# Remember that you first need to load the model by replacing\n",
        "#\"en_core_web_sm\" with the name of your model\n",
        "!python -m spacy download en_core_web_sm"
      ],
      "metadata": {
        "id": "o3NW0KRYeCPs"
      },
      "execution_count": null,
      "outputs": []
    },
    {
      "cell_type": "markdown",
      "source": [
        "👋 ⚒ Perform NER on the selected article."
      ],
      "metadata": {
        "id": "-KaoiUwqeLSC"
      }
    },
    {
      "cell_type": "code",
      "source": [],
      "metadata": {
        "id": "AeDyii4SeT3-"
      },
      "execution_count": null,
      "outputs": []
    },
    {
      "cell_type": "markdown",
      "source": [
        "👋 ⚒ How well did the NER in the language of your choice work as compared to the overall performance of NER with spaCy in English?"
      ],
      "metadata": {
        "id": "GFeUoLxheXao"
      }
    },
    {
      "cell_type": "markdown",
      "source": [
        "*Your NE performance analysis here*"
      ],
      "metadata": {
        "id": "BURacTomelzy"
      }
    }
  ]
}